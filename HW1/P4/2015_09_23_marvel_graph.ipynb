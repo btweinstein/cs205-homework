{
 "cells": [
  {
   "cell_type": "code",
   "execution_count": 1,
   "metadata": {
    "collapsed": false
   },
   "outputs": [
    {
     "name": "stdout",
     "output_type": "stream",
     "text": [
      "Populating the interactive namespace from numpy and matplotlib\n"
     ]
    }
   ],
   "source": [
    "%pylab inline"
   ]
  },
  {
   "cell_type": "code",
   "execution_count": 2,
   "metadata": {
    "collapsed": true
   },
   "outputs": [],
   "source": [
    "%load_ext autoreload"
   ]
  },
  {
   "cell_type": "code",
   "execution_count": 3,
   "metadata": {
    "collapsed": true
   },
   "outputs": [],
   "source": [
    "%autoreload 2"
   ]
  },
  {
   "cell_type": "code",
   "execution_count": 4,
   "metadata": {
    "collapsed": true
   },
   "outputs": [],
   "source": [
    "import seaborn as sns"
   ]
  },
  {
   "cell_type": "code",
   "execution_count": 5,
   "metadata": {
    "collapsed": true
   },
   "outputs": [],
   "source": [
    "sns.set_context('poster', font_scale=1.25)"
   ]
  },
  {
   "cell_type": "code",
   "execution_count": 6,
   "metadata": {
    "collapsed": true
   },
   "outputs": [],
   "source": [
    "import findspark as fs"
   ]
  },
  {
   "cell_type": "code",
   "execution_count": 7,
   "metadata": {
    "collapsed": true
   },
   "outputs": [],
   "source": [
    "fs.init()"
   ]
  },
  {
   "cell_type": "code",
   "execution_count": 8,
   "metadata": {
    "collapsed": true
   },
   "outputs": [],
   "source": [
    "import pyspark as ps"
   ]
  },
  {
   "cell_type": "code",
   "execution_count": 9,
   "metadata": {
    "collapsed": true
   },
   "outputs": [],
   "source": [
    "import multiprocessing as mp"
   ]
  },
  {
   "cell_type": "code",
   "execution_count": 10,
   "metadata": {
    "collapsed": false
   },
   "outputs": [
    {
     "data": {
      "text/plain": [
       "12"
      ]
     },
     "execution_count": 10,
     "metadata": {},
     "output_type": "execute_result"
    }
   ],
   "source": [
    "mp.cpu_count()"
   ]
  },
  {
   "cell_type": "code",
   "execution_count": 11,
   "metadata": {
    "collapsed": false
   },
   "outputs": [],
   "source": [
    "config = ps.SparkConf()\n",
    "config = config.setMaster('local[' + str(2*mp.cpu_count()) + ']')\n",
    "config = config.setAppName('marvel_solver')"
   ]
  },
  {
   "cell_type": "code",
   "execution_count": 12,
   "metadata": {
    "collapsed": false
   },
   "outputs": [],
   "source": [
    "sc = ps.SparkContext(conf=config)"
   ]
  },
  {
   "cell_type": "markdown",
   "metadata": {},
   "source": [
    "# Graph work"
   ]
  },
  {
   "cell_type": "code",
   "execution_count": 13,
   "metadata": {
    "collapsed": false
   },
   "outputs": [],
   "source": [
    "marvel_raw_data = sc.textFile('marvel_data.csv')"
   ]
  },
  {
   "cell_type": "code",
   "execution_count": 14,
   "metadata": {
    "collapsed": false
   },
   "outputs": [
    {
     "data": {
      "text/plain": [
       "[u'\"FROST, CARMILLA\",\"AA2 35\"',\n",
       " u'\"KILLRAVEN/JONATHAN R\",\"AA2 35\"',\n",
       " u'\"M\\'SHULLA\",\"AA2 35\"',\n",
       " u'\"24-HOUR MAN/EMMANUEL\",\"AA2 35\"',\n",
       " u'\"OLD SKULL\",\"AA2 35\"',\n",
       " u'\"G\\'RATH\",\"AA2 35\"',\n",
       " u'\"3-D MAN/CHARLES CHAN\",\"M/PRM 35\"',\n",
       " u'\"3-D MAN/CHARLES CHAN\",\"M/PRM 36\"',\n",
       " u'\"3-D MAN/CHARLES CHAN\",\"M/PRM 37\"',\n",
       " u'\"HUMAN ROBOT\",\"WI? 9\"']"
      ]
     },
     "execution_count": 14,
     "metadata": {},
     "output_type": "execute_result"
    }
   ],
   "source": [
    "marvel_raw_data.take(10)"
   ]
  },
  {
   "cell_type": "code",
   "execution_count": 15,
   "metadata": {
    "collapsed": true
   },
   "outputs": [],
   "source": [
    "def get_issue_character(raw_line):\n",
    "    dat = raw_line.split('\"')\n",
    "    character_name = dat[1]\n",
    "    issue = dat[3]\n",
    "    return (issue, character_name)"
   ]
  },
  {
   "cell_type": "code",
   "execution_count": 16,
   "metadata": {
    "collapsed": true
   },
   "outputs": [],
   "source": [
    "issue_character_rdd = marvel_raw_data.map(get_issue_character)"
   ]
  },
  {
   "cell_type": "markdown",
   "metadata": {},
   "source": [
    "Links are symmetric. We can just create key/value pairs from this. We want character as a key, values as everyone they link to. If one character links to another, the other character *must* link to them!"
   ]
  },
  {
   "cell_type": "code",
   "execution_count": 17,
   "metadata": {
    "collapsed": true
   },
   "outputs": [],
   "source": [
    "issue_groups_rdd = issue_character_rdd.groupByKey()"
   ]
  },
  {
   "cell_type": "code",
   "execution_count": 18,
   "metadata": {
    "collapsed": true
   },
   "outputs": [],
   "source": [
    "muffin = [(2,3),(4,5)]"
   ]
  },
  {
   "cell_type": "code",
   "execution_count": 19,
   "metadata": {
    "collapsed": true
   },
   "outputs": [],
   "source": [
    "def get_links_from_groups(x):\n",
    "    list_of_characters = list(x[1])\n",
    "    links = []\n",
    "    for cur_character in list_of_characters:\n",
    "        for other_character in list_of_characters:\n",
    "            if cur_character != other_character:\n",
    "                # Ensure that links are symmetric\n",
    "                links.append((cur_character, other_character))\n",
    "                links.append((other_character, cur_character))\n",
    "    return tuple(links)"
   ]
  },
  {
   "cell_type": "code",
   "execution_count": 20,
   "metadata": {
    "collapsed": true
   },
   "outputs": [],
   "source": [
    "all_links_rdd = issue_groups_rdd.flatMap(get_links_from_groups)"
   ]
  },
  {
   "cell_type": "markdown",
   "metadata": {},
   "source": [
    "We now groupby key again. And then we have all the links for a given individual. *But* we have to make sure they are unique."
   ]
  },
  {
   "cell_type": "code",
   "execution_count": 21,
   "metadata": {
    "collapsed": false
   },
   "outputs": [
    {
     "data": {
      "text/plain": [
       "[(u'PRINCESS ZANDA', u\"BLACK PANTHER/T'CHAL\"),\n",
       " (u\"BLACK PANTHER/T'CHAL\", u'PRINCESS ZANDA')]"
      ]
     },
     "execution_count": 21,
     "metadata": {},
     "output_type": "execute_result"
    }
   ],
   "source": [
    "all_links_rdd.take(2)"
   ]
  },
  {
   "cell_type": "code",
   "execution_count": 22,
   "metadata": {
    "collapsed": true
   },
   "outputs": [],
   "source": [
    "character_and_links_rdd = all_links_rdd.groupByKey()"
   ]
  },
  {
   "cell_type": "code",
   "execution_count": 23,
   "metadata": {
    "collapsed": true
   },
   "outputs": [],
   "source": [
    "def cleanup_links(x):\n",
    "    linked_to = list(x[1])\n",
    "    unique_links = tuple(set(linked_to))\n",
    "    return (x[0], unique_links)"
   ]
  },
  {
   "cell_type": "code",
   "execution_count": 24,
   "metadata": {
    "collapsed": false
   },
   "outputs": [
    {
     "data": {
      "text/plain": [
       "[(u'QUESADA, JOE', <pyspark.resultiterable.ResultIterable at 0x7f36b02f5f90>)]"
      ]
     },
     "execution_count": 24,
     "metadata": {},
     "output_type": "execute_result"
    }
   ],
   "source": [
    "character_and_links_rdd.take(1)"
   ]
  },
  {
   "cell_type": "code",
   "execution_count": 25,
   "metadata": {
    "collapsed": true
   },
   "outputs": [],
   "source": [
    "network_rdd = character_and_links_rdd.map(cleanup_links)"
   ]
  },
  {
   "cell_type": "markdown",
   "metadata": {},
   "source": [
    "Ok, awesome. We are all set."
   ]
  },
  {
   "cell_type": "code",
   "execution_count": 26,
   "metadata": {
    "collapsed": true
   },
   "outputs": [],
   "source": [
    "network_result = network_rdd.collect()"
   ]
  },
  {
   "cell_type": "code",
   "execution_count": 27,
   "metadata": {
    "collapsed": false
   },
   "outputs": [
    {
     "data": {
      "text/plain": [
       "[(u'QUESADA, JOE',\n",
       "  (u'ZURI',\n",
       "   u'GLADIATOR/MELVIN POT',\n",
       "   u'SMITH, KEVIN',\n",
       "   u'OKOYE',\n",
       "   u'PALMIOTTI, JIMMY',\n",
       "   u'MARTINEZ, ALITHA',\n",
       "   u'MYSTERIO/QUENTIN BEC',\n",
       "   u'WATSON-PARKER, MARY ',\n",
       "   u'SPIDER-MAN/PETER PAR',\n",
       "   u'MCKENZIE, LYDIA',\n",
       "   u'LAMY, KELLY',\n",
       "   u'URICH, BEN',\n",
       "   u\"BLACK PANTHER/T'CHAL\",\n",
       "   u'MR. FANTASTIC/REED R',\n",
       "   u'THING/BENJAMIN J. GR',\n",
       "   u'QUINN, ASHLEY',\n",
       "   u'CAPTAIN AMERICA',\n",
       "   u'MALICE V/NAKIA',\n",
       "   u'NELSON, CANDACE',\n",
       "   u'INVISIBLE WOMAN/SUE ',\n",
       "   u'BUTCH',\n",
       "   u'EIGHTBALL',\n",
       "   u'DAREDEVIL/MATT MURDO',\n",
       "   u'ROSS, EVERETT KENNET',\n",
       "   u'POTTER, BETSY BEATTY',\n",
       "   u'BLACK WIDOW/NATASHA ',\n",
       "   u'EVERETT, BILL',\n",
       "   u'BLAKE, BECKY',\n",
       "   u'DAKESIAN, NANCI',\n",
       "   u'SHARPE, ROSALINDE',\n",
       "   u'NELSON, FRANKLIN FOG',\n",
       "   u'MILLER, FRANK',\n",
       "   u'HUMAN TORCH/JOHNNY S',\n",
       "   u'OSBORN, LIZ ALLAN',\n",
       "   u'DR. STRANGE/STEPHEN ',\n",
       "   u'DARLA',\n",
       "   u'RALF',\n",
       "   u'PAGE, KAREN',\n",
       "   u'LEE, STAN')),\n",
       " (u'CRUSADER II/ARTHUR B',\n",
       "  (u'HELA [ASGARDIAN]',\n",
       "   u'X-MAN/NATHAN GREY ',\n",
       "   u'HOGUN [ASGARDIAN]',\n",
       "   u'VALINOR',\n",
       "   u\"O'SHAUGNESSY, COLLEE\",\n",
       "   u'ODIN [ASGARDIAN]',\n",
       "   u'CATHERWOOD',\n",
       "   u'HEIMDALL [ASGARDIAN]',\n",
       "   u'SIF',\n",
       "   u'BLACK KNIGHT V/DANE ',\n",
       "   u'BENTLEY, VICTORIA',\n",
       "   u'THOR/DR. DONALD BLAK',\n",
       "   u'BLACKWOOD, JENNY',\n",
       "   u'FANDRAL [ASGARDIAN]')),\n",
       " (u'SILVER SAMURAI/KENYU',\n",
       "  (u'DARKSTAR/LAYNIA SERG',\n",
       "   u'NORTHSTAR/JEAN-PAUL ',\n",
       "   u'WOLVERINE/LOGAN ',\n",
       "   u'GAMBIT/REMY LEBEAU ',\n",
       "   u'SELENE',\n",
       "   u'MIRAGE II/DANIELLE M',\n",
       "   u'FLATMAN',\n",
       "   u\"KARMA/XI'AN COY MANH\",\n",
       "   u'STRYFE',\n",
       "   u'BLOODSCREAM',\n",
       "   u'JETSTREAM/HAROUD IBN',\n",
       "   u'HAWK',\n",
       "   u'TEMPO',\n",
       "   u'UNION JACK III/JOEY ',\n",
       "   u'STROBE/',\n",
       "   u'SASQUATCH/WALTER LAN',\n",
       "   u'SILVER FOX II/ZORA D',\n",
       "   u'SUNSTROKE/',\n",
       "   u'STORM/ORORO MUNROE S',\n",
       "   u'TAI',\n",
       "   u'MANBOT/BERNIE LACHEN',\n",
       "   u'ALBERT',\n",
       "   u'NIGHT THRASHER/DUANE',\n",
       "   u'KAISHEK, HAAN',\n",
       "   u'BLACK KING/SEBASTIAN',\n",
       "   u'HAMES',\n",
       "   u'POWERSURGE/ILLARION ',\n",
       "   u'SCARLET WITCH/WANDA ',\n",
       "   u'RAZA LONGKNIFE',\n",
       "   u'GENTRY',\n",
       "   u'X THE UNKNOWABLE',\n",
       "   u'SOFEN, MARION',\n",
       "   u'FOREARM',\n",
       "   u\"CH'OD\",\n",
       "   u'RED GUARDIAN V',\n",
       "   u'FLEX/ADRIAN CORBO',\n",
       "   u'NELSON, CANDACE',\n",
       "   u'COLOSSUS II/PETER RA',\n",
       "   u'CORSAIR',\n",
       "   u'OSHIMA',\n",
       "   u'HUDSON, HEATHER',\n",
       "   u'THOR/DR. DONALD BLAK',\n",
       "   u'NIGHTCRAWLER/KURT WA',\n",
       "   u'LEE, STAN',\n",
       "   u'LODESTONE/ANDREA',\n",
       "   u\"MAM'SELLE HEPZIBAH\",\n",
       "   u'MAGNETO/MAGNUS/ERIC ',\n",
       "   u'STOCKBRIDGE, CHARLES',\n",
       "   u'WATER WIZARD/PETE',\n",
       "   u'STOCKBRIDGE, DEANNA',\n",
       "   u'POWER MAN/ERIK JOSTE',\n",
       "   u'WATSON-PARKER, MARY ',\n",
       "   u'BINARY/CAROL DANVERS',\n",
       "   u'SCORCHER/',\n",
       "   u'WONDER MAN/SIMON WIL',\n",
       "   u'REAPER II',\n",
       "   u'SPIDER-MAN/PETER PAR',\n",
       "   u'KAISHEK, GOM',\n",
       "   u'NEKRA/ADRIENNE HATRO',\n",
       "   u'MCCABE, LINDSAY',\n",
       "   u'TURBO II (A)/MICHIKO',\n",
       "   u'ROSSI, COL. MICHAEL ',\n",
       "   u'SHAMAN/MICHAEL TWOYO',\n",
       "   u'SHADOWCAT/KATHERINE ',\n",
       "   u'MOONSTONE II/KARLA S',\n",
       "   u'ROULETTE II/JENNY ST',\n",
       "   u'HUXLEY, DR. HORATIO',\n",
       "   u'CYPHER/DOUG RAMSEY',\n",
       "   u'DOORMAN',\n",
       "   u'BRIDGE, GEORGE WASHI',\n",
       "   u'JONES, RICHARD MILHO',\n",
       "   u'CHARCOAL/CHARLIE BUR',\n",
       "   u'QUICKSAND',\n",
       "   u'BISON/BILLY KITSON',\n",
       "   u'QUARTERMAIN, CLAY',\n",
       "   u'DAREDEVIL/MATT MURDO',\n",
       "   u'ELEKTRA/ELEKTRA NATC',\n",
       "   u'KOJIRO',\n",
       "   u'TSURAYABA, MATSUO',\n",
       "   u'SUMMERS, MADELYNE MA',\n",
       "   u'DINAH-SOAR',\n",
       "   u'HONEY LEMON/',\n",
       "   u'DOMINO III/BEATRICE/',\n",
       "   u'WILDSIDE',\n",
       "   u'SCREAMING MIMI/MELIS',\n",
       "   u'REIKO',\n",
       "   u'RADIUS/JARED CORBO',\n",
       "   u'MAGMA/AMARA AQUILLA/',\n",
       "   u'EEL II/EDWARD LAVELL',\n",
       "   u'MAGIK/ILLYANA RASPUT',\n",
       "   u'ROGUE /',\n",
       "   u'EMPATH/MANUEL ALFONS',\n",
       "   u'DE LA FONTAINE, CONT',\n",
       "   u'TESSA',\n",
       "   u'SUMMERS, NATHAN CHRI',\n",
       "   u'CYCLOPS/SCOTT SUMMER',\n",
       "   u'COY, GENERAL NGUYEN ',\n",
       "   u'SLYDE',\n",
       "   u'POLARIS/LORNA DANE',\n",
       "   u'GRIZZLY II/THEODORE ',\n",
       "   u'PUCK/EUGENE MILTON J',\n",
       "   u'MAN-KILLER/KATRINA L',\n",
       "   u'FLYING TIGER',\n",
       "   u'FIREFIST/RUSTY COLLI',\n",
       "   u'SUPERCHARGER/',\n",
       "   u'KLAW/ULYSSES KLAW',\n",
       "   u'VANGUARD/NICOLAI KRY',\n",
       "   u'MACTAGGERT, MOIRA KI',\n",
       "   u'SHANG-CHI',\n",
       "   u'HAMMER III/EISENHOWE',\n",
       "   u'BLACKWING/JOSEPH MAN',\n",
       "   u'DRAGONFLY/VERONICA D',\n",
       "   u'PROFESSOR X/CHARLES ',\n",
       "   u\"MAN-APE/M'BAKU\",\n",
       "   u'HUNTER, STEVIE',\n",
       "   u'GUARDIAN V/JAMES MAC',\n",
       "   u'TAKACHIHO, HIRO',\n",
       "   u'JOLT/HALLIE TAKAHAMA',\n",
       "   u'CRIMSON COWL II/',\n",
       "   u'TUPA',\n",
       "   u'REYES, DR. CECELIA',\n",
       "   u'BOOMERANG/FRED MYERS',\n",
       "   u'CAPTAIN AMERICA',\n",
       "   u'ZERO',\n",
       "   u\"CR'REEE\",\n",
       "   u'BLACK WIDOW/NATASHA ',\n",
       "   u'SITWELL, JASPER',\n",
       "   u'WEAPON X II/GARRISON',\n",
       "   u'LOCKHEED',\n",
       "   u'YUKIO',\n",
       "   u'WHITE QUEEN/EMMA FRO',\n",
       "   u'SUNFIRE/SHIRO YOSHID',\n",
       "   u'AMIKO',\n",
       "   u'WOLFSBANE/RAHNE SINC',\n",
       "   u'CYCLONE II/PIERRE FR',\n",
       "   u\"O'HARA, ROBERT IRONG\",\n",
       "   u'CITIZEN V III/DALLAS',\n",
       "   u'ELSIE DEE',\n",
       "   u'ICEMASTER/',\n",
       "   u'SOFEN, KARL AUGUST',\n",
       "   u'TIGER SHARK/TODD ARL',\n",
       "   u'CARDINAL/CLEMDENON',\n",
       "   u'HAVOK/ALEX SUMMERS ',\n",
       "   u'CANNONBALL II/SAM GU',\n",
       "   u'SHATTERFIST/',\n",
       "   u'DRAGONESS',\n",
       "   u'KAISHEK, YOLYN',\n",
       "   u'CARTER, JIMMY',\n",
       "   u\"O'DONNELL\",\n",
       "   u'VIPER II',\n",
       "   u'BIZEN',\n",
       "   u'LILANDRA NERAMANI [S',\n",
       "   u'TAKACHIHO, MRS.',\n",
       "   u'GOGO TAMAGO/',\n",
       "   u'JUBILEE/JUBILATION L',\n",
       "   u'EVERWRAITH/',\n",
       "   u'KAMIKAZE',\n",
       "   u'WOLVERINE SKRULL',\n",
       "   u'NOVA/RICHARD RIDER',\n",
       "   u'MORRELL, SABRINA',\n",
       "   u'WEAPON X III',\n",
       "   u'MASTERMIND/JASON WYN',\n",
       "   u\"SHANNA/SHANNA O'HARA\",\n",
       "   u'KAISHEK, KIA',\n",
       "   u'CATSEYE/SHARON SMITH',\n",
       "   u'CYLLA II',\n",
       "   u'YASHIDA, MARIKO',\n",
       "   u'CONSTRICTOR/FRANK PA',\n",
       "   u'MANDRILL/HENSLEY FAR',\n",
       "   u'NELSON, FRANKLIN FOG',\n",
       "   u'SIRYN/THERESA ROURKE',\n",
       "   u'GHOST GIRL II/LILLI',\n",
       "   u'SKIDS/SALLY BLEVINS',\n",
       "   u'TAROT/MARIE-ANGE COL',\n",
       "   u'BAYMAX',\n",
       "   u'SUNSPOT/ROBERTO DACO',\n",
       "   u'SPIDER-WOMAN/JESSICA',\n",
       "   u'FURY, COL. NICHOLAS ',\n",
       "   u'JOYSTICK/JANICE',\n",
       "   u'SHOCKWAVE/LANCASTER ',\n",
       "   u'MR. IMMORTAL',\n",
       "   u'THUNDERBIRD II/JAMES')),\n",
       " (u'HELIX/RAFAEL CARAGO',\n",
       "  (u'DRY',\n",
       "   u'PRETTY PERSUASIONS/H',\n",
       "   u'LIGHT',\n",
       "   u'NIKKI/NICHOLETTE GOL',\n",
       "   u'ASYLUM II/HENRIQUE M',\n",
       "   u'JUSTICE II/VANCE AST',\n",
       "   u'VISION ',\n",
       "   u'SPEEDBALL II/DARRION',\n",
       "   u'MARTINEX',\n",
       "   u'JEFFRIES, MAGGIE ',\n",
       "   u'SPIDERCIDE',\n",
       "   u'WATSON-PARKER, MARY ',\n",
       "   u'ADVENT/KYLE GROBE',\n",
       "   u'HINDSIGHT LAD/CARLTO',\n",
       "   u'HOLLYWOOD',\n",
       "   u'GEE/ALEX POWER',\n",
       "   u'SPIDER-MAN/PETER PAR',\n",
       "   u'KAINE',\n",
       "   u'MAJOR VICTORY/MAJ. V',\n",
       "   u'TURBO II (B)/MIKE JE',\n",
       "   u'SPHINX',\n",
       "   u'RAGE/ELVIN DARYL HAL',\n",
       "   u'SPARROW',\n",
       "   u'GENERAL ADMISSION',\n",
       "   u'TURBO II (A)/MICHIKO',\n",
       "   u'THINKER',\n",
       "   u'CORONARY/JIMMY SHARP',\n",
       "   u'GENERAL OBSIDIAN',\n",
       "   u'HERCULES [GREEK GOD]',\n",
       "   u'CHEN, DR.',\n",
       "   u'NOVA OMEGA/GARTHAN S',\n",
       "   u'TRUTH II',\n",
       "   u'DUNHAM, LAURA',\n",
       "   u'NOVA/RICHARD RIDER',\n",
       "   u'YONDU/YONDU UDONTA',\n",
       "   u'NAMORITA/NITA PRENTI',\n",
       "   u'CUT',\n",
       "   u'POWER, MARGARET',\n",
       "   u'SPIDER-MAN CLONE/BEN',\n",
       "   u'JAMESON, J. JONAH',\n",
       "   u'MEXXA RIEN',\n",
       "   u'IMPULSE II/DWIGHT HU',\n",
       "   u'NIGHT THRASHER/DUANE',\n",
       "   u'NIELS',\n",
       "   u'TIMESLIP/RINA PATEL',\n",
       "   u'PUNISHER II/FRANK CA',\n",
       "   u'BLACK WIDOW/NATASHA ',\n",
       "   u'BALDWIN, MADELYNE MA',\n",
       "   u'ADMIRAL PROTOCOL/',\n",
       "   u'GENECIDE',\n",
       "   u'VOLX',\n",
       "   u'DARK',\n",
       "   u'RIGHT',\n",
       "   u'MATHEMANIC/THOMAS SO',\n",
       "   u'PRIMUS',\n",
       "   u'MOTHER OF PEARL/',\n",
       "   u'JACKAL/MILES WARREN',\n",
       "   u'SCRIER II/',\n",
       "   u'FIRESTAR/ANGELICA JO',\n",
       "   u'SPEEDBALL/ROBBIE BAL',\n",
       "   u'WRONG',\n",
       "   u'CHARLIE 27',\n",
       "   u'STACY, GWEN (CLONE)',\n",
       "   u'ROSEN, WALTER')),\n",
       " (u'DREAMING CELESTIAL/T',\n",
       "  (u'YRDISIS',\n",
       "   u'THENA',\n",
       "   u'HOLDEN, DR. SAMUEL',\n",
       "   u'KRO [DEVIANT]',\n",
       "   u'PHASTOS [ETERNAL]',\n",
       "   u'MOCKINGBIRD/DR. BARB',\n",
       "   u'CYBELE [ETERNAL]',\n",
       "   u'WONDER MAN/SIMON WIL',\n",
       "   u'TIGRA/GREER NELSON',\n",
       "   u'ARISHEM [CELESTIAL]',\n",
       "   u'CATAPHRAX',\n",
       "   u'KHORYPHOS [ETERNAL]',\n",
       "   u'MAKKARI/MIKE KHARY/I',\n",
       "   u'SILVER SURFER/NORRIN',\n",
       "   u'DR. STRANGE/STEPHEN ',\n",
       "   u'AHQLAU',\n",
       "   u'SERSI/SYLVIA',\n",
       "   u'DRUIG',\n",
       "   u'FORGOTTEN ONE/GILGAM',\n",
       "   u'GAMMENON [CELESTIAL]',\n",
       "   u'TALISMAN II/ELIZABET',\n",
       "   u'ZIRAN',\n",
       "   u'LLYRA/LLYRA MORRIS',\n",
       "   u'REJECT/RAN-SAK [DEVI',\n",
       "   u'CAPTAIN AMERICA',\n",
       "   u'ZURAS',\n",
       "   u'KARKAS [DEVIANT]',\n",
       "   u'KINGO SUNEN [ETERNAL',\n",
       "   u'HAWK',\n",
       "   u'SIGMAR',\n",
       "   u'CHATTERTON, DAVE',\n",
       "   u'GHAUR [DEVIANT]',\n",
       "   u'IKARIS/IKE HARRIS [E',\n",
       "   u'TEFRAL',\n",
       "   u'DAMIAN, MARGO',\n",
       "   u'THOR/DR. DONALD BLAK',\n",
       "   u'IRON MAN/TONY STARK '))]"
      ]
     },
     "execution_count": 27,
     "metadata": {},
     "output_type": "execute_result"
    }
   ],
   "source": [
    "network_result[0:5]"
   ]
  },
  {
   "cell_type": "markdown",
   "metadata": {},
   "source": [
    "# First attempt"
   ]
  },
  {
   "cell_type": "markdown",
   "metadata": {},
   "source": [
    "We now propagate."
   ]
  },
  {
   "cell_type": "code",
   "execution_count": 60,
   "metadata": {
    "collapsed": true
   },
   "outputs": [],
   "source": [
    "num_to_propogate = 10"
   ]
  },
  {
   "cell_type": "code",
   "execution_count": 61,
   "metadata": {
    "collapsed": true
   },
   "outputs": [],
   "source": [
    "cur_time_point = 0"
   ]
  },
  {
   "cell_type": "code",
   "execution_count": 62,
   "metadata": {
    "collapsed": false
   },
   "outputs": [],
   "source": [
    "start_point = 'CAPTAIN AMERICA'\n",
    "piece_of_rdd = network_rdd.filter(lambda x: x[0] == start_point)\n",
    "touched_nodes = piece_of_rdd.map(lambda x: (x[0], (cur_time_point, x[1])))"
   ]
  },
  {
   "cell_type": "code",
   "execution_count": 63,
   "metadata": {
    "collapsed": true
   },
   "outputs": [],
   "source": [
    "get_neighbors_to_update = touched_nodes.flatMap(lambda x: x[1][1])"
   ]
  },
  {
   "cell_type": "code",
   "execution_count": 64,
   "metadata": {
    "collapsed": false
   },
   "outputs": [
    {
     "data": {
      "text/plain": [
       "[u'QUESADA, JOE',\n",
       " u'SILVER SAMURAI/KENYU',\n",
       " u'CAPTAIN AMERICA IV/S',\n",
       " u'DREAMING CELESTIAL/T',\n",
       " u'VOGHT, AMELIA']"
      ]
     },
     "execution_count": 64,
     "metadata": {},
     "output_type": "execute_result"
    }
   ],
   "source": [
    "get_neighbors_to_update.take(5)"
   ]
  },
  {
   "cell_type": "code",
   "execution_count": 65,
   "metadata": {
    "collapsed": true
   },
   "outputs": [],
   "source": [
    "unique_neighbors_to_update = get_neighbors_to_update.distinct()"
   ]
  },
  {
   "cell_type": "code",
   "execution_count": 66,
   "metadata": {
    "collapsed": false
   },
   "outputs": [
    {
     "data": {
      "text/plain": [
       "[u'QUESADA, JOE',\n",
       " u'PARKER, MAY | TIMESL',\n",
       " u'SILVER SAMURAI/KENYU',\n",
       " u'STORM, CHILI',\n",
       " u'JESTER III',\n",
       " u'DREAMING CELESTIAL/T',\n",
       " u'VOGHT, AMELIA',\n",
       " u'DOPPELGANGER',\n",
       " u'SCHEMER/RICHARD FISK',\n",
       " u'KRO [DEVIANT]']"
      ]
     },
     "execution_count": 66,
     "metadata": {},
     "output_type": "execute_result"
    }
   ],
   "source": [
    "unique_neighbors_to_update.take(10)"
   ]
  },
  {
   "cell_type": "code",
   "execution_count": 67,
   "metadata": {
    "collapsed": true
   },
   "outputs": [],
   "source": [
    "keys_to_update = unique_neighbors_to_update.map(lambda x: (x, cur_time_point + 1))"
   ]
  },
  {
   "cell_type": "markdown",
   "metadata": {},
   "source": [
    "We now update. "
   ]
  },
  {
   "cell_type": "code",
   "execution_count": 68,
   "metadata": {
    "collapsed": false
   },
   "outputs": [],
   "source": [
    "final_touched = keys_to_update.join(network_rdd)"
   ]
  },
  {
   "cell_type": "code",
   "execution_count": 69,
   "metadata": {
    "collapsed": false
   },
   "outputs": [
    {
     "data": {
      "text/plain": [
       "[(u'QUESADA, JOE',\n",
       "  (1,\n",
       "   (u'ZURI',\n",
       "    u'GLADIATOR/MELVIN POT',\n",
       "    u'SMITH, KEVIN',\n",
       "    u'OKOYE',\n",
       "    u'PALMIOTTI, JIMMY',\n",
       "    u'MARTINEZ, ALITHA',\n",
       "    u'MYSTERIO/QUENTIN BEC',\n",
       "    u'WATSON-PARKER, MARY ',\n",
       "    u'SPIDER-MAN/PETER PAR',\n",
       "    u'MCKENZIE, LYDIA',\n",
       "    u'LAMY, KELLY',\n",
       "    u'URICH, BEN',\n",
       "    u\"BLACK PANTHER/T'CHAL\",\n",
       "    u'MR. FANTASTIC/REED R',\n",
       "    u'THING/BENJAMIN J. GR',\n",
       "    u'QUINN, ASHLEY',\n",
       "    u'CAPTAIN AMERICA',\n",
       "    u'MALICE V/NAKIA',\n",
       "    u'NELSON, CANDACE',\n",
       "    u'INVISIBLE WOMAN/SUE ',\n",
       "    u'BUTCH',\n",
       "    u'EIGHTBALL',\n",
       "    u'DAREDEVIL/MATT MURDO',\n",
       "    u'ROSS, EVERETT KENNET',\n",
       "    u'POTTER, BETSY BEATTY',\n",
       "    u'BLACK WIDOW/NATASHA ',\n",
       "    u'EVERETT, BILL',\n",
       "    u'BLAKE, BECKY',\n",
       "    u'DAKESIAN, NANCI',\n",
       "    u'SHARPE, ROSALINDE',\n",
       "    u'NELSON, FRANKLIN FOG',\n",
       "    u'MILLER, FRANK',\n",
       "    u'HUMAN TORCH/JOHNNY S',\n",
       "    u'OSBORN, LIZ ALLAN',\n",
       "    u'DR. STRANGE/STEPHEN ',\n",
       "    u'DARLA',\n",
       "    u'RALF',\n",
       "    u'PAGE, KAREN',\n",
       "    u'LEE, STAN'))),\n",
       " (u'SILVER SAMURAI/KENYU',\n",
       "  (1,\n",
       "   (u'DARKSTAR/LAYNIA SERG',\n",
       "    u'NORTHSTAR/JEAN-PAUL ',\n",
       "    u'WOLVERINE/LOGAN ',\n",
       "    u'GAMBIT/REMY LEBEAU ',\n",
       "    u'SELENE',\n",
       "    u'MIRAGE II/DANIELLE M',\n",
       "    u'FLATMAN',\n",
       "    u\"KARMA/XI'AN COY MANH\",\n",
       "    u'STRYFE',\n",
       "    u'BLOODSCREAM',\n",
       "    u'JETSTREAM/HAROUD IBN',\n",
       "    u'HAWK',\n",
       "    u'TEMPO',\n",
       "    u'UNION JACK III/JOEY ',\n",
       "    u'STROBE/',\n",
       "    u'SASQUATCH/WALTER LAN',\n",
       "    u'SILVER FOX II/ZORA D',\n",
       "    u'SUNSTROKE/',\n",
       "    u'STORM/ORORO MUNROE S',\n",
       "    u'TAI',\n",
       "    u'MANBOT/BERNIE LACHEN',\n",
       "    u'ALBERT',\n",
       "    u'NIGHT THRASHER/DUANE',\n",
       "    u'KAISHEK, HAAN',\n",
       "    u'BLACK KING/SEBASTIAN',\n",
       "    u'HAMES',\n",
       "    u'POWERSURGE/ILLARION ',\n",
       "    u'SCARLET WITCH/WANDA ',\n",
       "    u'RAZA LONGKNIFE',\n",
       "    u'GENTRY',\n",
       "    u'X THE UNKNOWABLE',\n",
       "    u'SOFEN, MARION',\n",
       "    u'FOREARM',\n",
       "    u\"CH'OD\",\n",
       "    u'RED GUARDIAN V',\n",
       "    u'FLEX/ADRIAN CORBO',\n",
       "    u'NELSON, CANDACE',\n",
       "    u'COLOSSUS II/PETER RA',\n",
       "    u'CORSAIR',\n",
       "    u'OSHIMA',\n",
       "    u'HUDSON, HEATHER',\n",
       "    u'THOR/DR. DONALD BLAK',\n",
       "    u'NIGHTCRAWLER/KURT WA',\n",
       "    u'LEE, STAN',\n",
       "    u'LODESTONE/ANDREA',\n",
       "    u\"MAM'SELLE HEPZIBAH\",\n",
       "    u'MAGNETO/MAGNUS/ERIC ',\n",
       "    u'STOCKBRIDGE, CHARLES',\n",
       "    u'WATER WIZARD/PETE',\n",
       "    u'STOCKBRIDGE, DEANNA',\n",
       "    u'POWER MAN/ERIK JOSTE',\n",
       "    u'WATSON-PARKER, MARY ',\n",
       "    u'BINARY/CAROL DANVERS',\n",
       "    u'SCORCHER/',\n",
       "    u'WONDER MAN/SIMON WIL',\n",
       "    u'REAPER II',\n",
       "    u'SPIDER-MAN/PETER PAR',\n",
       "    u'KAISHEK, GOM',\n",
       "    u'NEKRA/ADRIENNE HATRO',\n",
       "    u'MCCABE, LINDSAY',\n",
       "    u'TURBO II (A)/MICHIKO',\n",
       "    u'ROSSI, COL. MICHAEL ',\n",
       "    u'SHAMAN/MICHAEL TWOYO',\n",
       "    u'SHADOWCAT/KATHERINE ',\n",
       "    u'MOONSTONE II/KARLA S',\n",
       "    u'ROULETTE II/JENNY ST',\n",
       "    u'HUXLEY, DR. HORATIO',\n",
       "    u'CYPHER/DOUG RAMSEY',\n",
       "    u'DOORMAN',\n",
       "    u'BRIDGE, GEORGE WASHI',\n",
       "    u'JONES, RICHARD MILHO',\n",
       "    u'CHARCOAL/CHARLIE BUR',\n",
       "    u'QUICKSAND',\n",
       "    u'BISON/BILLY KITSON',\n",
       "    u'QUARTERMAIN, CLAY',\n",
       "    u'DAREDEVIL/MATT MURDO',\n",
       "    u'ELEKTRA/ELEKTRA NATC',\n",
       "    u'KOJIRO',\n",
       "    u'TSURAYABA, MATSUO',\n",
       "    u'SUMMERS, MADELYNE MA',\n",
       "    u'DINAH-SOAR',\n",
       "    u'HONEY LEMON/',\n",
       "    u'DOMINO III/BEATRICE/',\n",
       "    u'WILDSIDE',\n",
       "    u'SCREAMING MIMI/MELIS',\n",
       "    u'REIKO',\n",
       "    u'RADIUS/JARED CORBO',\n",
       "    u'MAGMA/AMARA AQUILLA/',\n",
       "    u'EEL II/EDWARD LAVELL',\n",
       "    u'MAGIK/ILLYANA RASPUT',\n",
       "    u'ROGUE /',\n",
       "    u'EMPATH/MANUEL ALFONS',\n",
       "    u'DE LA FONTAINE, CONT',\n",
       "    u'TESSA',\n",
       "    u'SUMMERS, NATHAN CHRI',\n",
       "    u'CYCLOPS/SCOTT SUMMER',\n",
       "    u'COY, GENERAL NGUYEN ',\n",
       "    u'SLYDE',\n",
       "    u'POLARIS/LORNA DANE',\n",
       "    u'GRIZZLY II/THEODORE ',\n",
       "    u'PUCK/EUGENE MILTON J',\n",
       "    u'MAN-KILLER/KATRINA L',\n",
       "    u'FLYING TIGER',\n",
       "    u'FIREFIST/RUSTY COLLI',\n",
       "    u'SUPERCHARGER/',\n",
       "    u'KLAW/ULYSSES KLAW',\n",
       "    u'VANGUARD/NICOLAI KRY',\n",
       "    u'MACTAGGERT, MOIRA KI',\n",
       "    u'SHANG-CHI',\n",
       "    u'HAMMER III/EISENHOWE',\n",
       "    u'BLACKWING/JOSEPH MAN',\n",
       "    u'DRAGONFLY/VERONICA D',\n",
       "    u'PROFESSOR X/CHARLES ',\n",
       "    u\"MAN-APE/M'BAKU\",\n",
       "    u'HUNTER, STEVIE',\n",
       "    u'GUARDIAN V/JAMES MAC',\n",
       "    u'TAKACHIHO, HIRO',\n",
       "    u'JOLT/HALLIE TAKAHAMA',\n",
       "    u'CRIMSON COWL II/',\n",
       "    u'TUPA',\n",
       "    u'REYES, DR. CECELIA',\n",
       "    u'BOOMERANG/FRED MYERS',\n",
       "    u'CAPTAIN AMERICA',\n",
       "    u'ZERO',\n",
       "    u\"CR'REEE\",\n",
       "    u'BLACK WIDOW/NATASHA ',\n",
       "    u'SITWELL, JASPER',\n",
       "    u'WEAPON X II/GARRISON',\n",
       "    u'LOCKHEED',\n",
       "    u'YUKIO',\n",
       "    u'WHITE QUEEN/EMMA FRO',\n",
       "    u'SUNFIRE/SHIRO YOSHID',\n",
       "    u'AMIKO',\n",
       "    u'WOLFSBANE/RAHNE SINC',\n",
       "    u'CYCLONE II/PIERRE FR',\n",
       "    u\"O'HARA, ROBERT IRONG\",\n",
       "    u'CITIZEN V III/DALLAS',\n",
       "    u'ELSIE DEE',\n",
       "    u'ICEMASTER/',\n",
       "    u'SOFEN, KARL AUGUST',\n",
       "    u'TIGER SHARK/TODD ARL',\n",
       "    u'CARDINAL/CLEMDENON',\n",
       "    u'HAVOK/ALEX SUMMERS ',\n",
       "    u'CANNONBALL II/SAM GU',\n",
       "    u'SHATTERFIST/',\n",
       "    u'DRAGONESS',\n",
       "    u'KAISHEK, YOLYN',\n",
       "    u'CARTER, JIMMY',\n",
       "    u\"O'DONNELL\",\n",
       "    u'VIPER II',\n",
       "    u'BIZEN',\n",
       "    u'LILANDRA NERAMANI [S',\n",
       "    u'TAKACHIHO, MRS.',\n",
       "    u'GOGO TAMAGO/',\n",
       "    u'JUBILEE/JUBILATION L',\n",
       "    u'EVERWRAITH/',\n",
       "    u'KAMIKAZE',\n",
       "    u'WOLVERINE SKRULL',\n",
       "    u'NOVA/RICHARD RIDER',\n",
       "    u'MORRELL, SABRINA',\n",
       "    u'WEAPON X III',\n",
       "    u'MASTERMIND/JASON WYN',\n",
       "    u\"SHANNA/SHANNA O'HARA\",\n",
       "    u'KAISHEK, KIA',\n",
       "    u'CATSEYE/SHARON SMITH',\n",
       "    u'CYLLA II',\n",
       "    u'YASHIDA, MARIKO',\n",
       "    u'CONSTRICTOR/FRANK PA',\n",
       "    u'MANDRILL/HENSLEY FAR',\n",
       "    u'NELSON, FRANKLIN FOG',\n",
       "    u'SIRYN/THERESA ROURKE',\n",
       "    u'GHOST GIRL II/LILLI',\n",
       "    u'SKIDS/SALLY BLEVINS',\n",
       "    u'TAROT/MARIE-ANGE COL',\n",
       "    u'BAYMAX',\n",
       "    u'SUNSPOT/ROBERTO DACO',\n",
       "    u'SPIDER-WOMAN/JESSICA',\n",
       "    u'FURY, COL. NICHOLAS ',\n",
       "    u'JOYSTICK/JANICE',\n",
       "    u'SHOCKWAVE/LANCASTER ',\n",
       "    u'MR. IMMORTAL',\n",
       "    u'THUNDERBIRD II/JAMES'))),\n",
       " (u'DREAMING CELESTIAL/T',\n",
       "  (1,\n",
       "   (u'YRDISIS',\n",
       "    u'THENA',\n",
       "    u'HOLDEN, DR. SAMUEL',\n",
       "    u'KRO [DEVIANT]',\n",
       "    u'PHASTOS [ETERNAL]',\n",
       "    u'MOCKINGBIRD/DR. BARB',\n",
       "    u'CYBELE [ETERNAL]',\n",
       "    u'WONDER MAN/SIMON WIL',\n",
       "    u'TIGRA/GREER NELSON',\n",
       "    u'ARISHEM [CELESTIAL]',\n",
       "    u'CATAPHRAX',\n",
       "    u'KHORYPHOS [ETERNAL]',\n",
       "    u'MAKKARI/MIKE KHARY/I',\n",
       "    u'SILVER SURFER/NORRIN',\n",
       "    u'DR. STRANGE/STEPHEN ',\n",
       "    u'AHQLAU',\n",
       "    u'SERSI/SYLVIA',\n",
       "    u'DRUIG',\n",
       "    u'FORGOTTEN ONE/GILGAM',\n",
       "    u'GAMMENON [CELESTIAL]',\n",
       "    u'TALISMAN II/ELIZABET',\n",
       "    u'ZIRAN',\n",
       "    u'LLYRA/LLYRA MORRIS',\n",
       "    u'REJECT/RAN-SAK [DEVI',\n",
       "    u'CAPTAIN AMERICA',\n",
       "    u'ZURAS',\n",
       "    u'KARKAS [DEVIANT]',\n",
       "    u'KINGO SUNEN [ETERNAL',\n",
       "    u'HAWK',\n",
       "    u'SIGMAR',\n",
       "    u'CHATTERTON, DAVE',\n",
       "    u'GHAUR [DEVIANT]',\n",
       "    u'IKARIS/IKE HARRIS [E',\n",
       "    u'TEFRAL',\n",
       "    u'DAMIAN, MARGO',\n",
       "    u'THOR/DR. DONALD BLAK',\n",
       "    u'IRON MAN/TONY STARK '))),\n",
       " (u'PHASTOS [ETERNAL]',\n",
       "  (1,\n",
       "   (u'ZIRAN',\n",
       "    u'HELIO',\n",
       "    u'ANT-MAN II/SCOTT HAR',\n",
       "    u'YRDISIS',\n",
       "    u'CHATTERTON, DAVE',\n",
       "    u'THENA',\n",
       "    u'HOGUN [ASGARDIAN]',\n",
       "    u'KRO [DEVIANT]',\n",
       "    u\"BLACK PANTHER/T'CHAL\",\n",
       "    u'POMEROY, SYLVIA',\n",
       "    u'VIZIER',\n",
       "    u'MOCKINGBIRD/DR. BARB',\n",
       "    u'TRUTH',\n",
       "    u'VOLSTAGG',\n",
       "    u'KARYGMAX',\n",
       "    u'CYBELE [ETERNAL]',\n",
       "    u'WONDER MAN/SIMON WIL',\n",
       "    u'RITTER, DONALD',\n",
       "    u'HAAG',\n",
       "    u'THING/BENJAMIN J. GR',\n",
       "    u'VISARA',\n",
       "    u'KINGO SUNEN [ETERNAL',\n",
       "    u'KHORYPHOS [ETERNAL]',\n",
       "    u'MAKKARI/MIKE KHARY/I',\n",
       "    u'QUASAR III/WENDELL V',\n",
       "    u'AHQLAU',\n",
       "    u'SERSI/SYLVIA',\n",
       "    u'MR. FANTASTIC/REED R',\n",
       "    u'FORGOTTEN ONE/GILGAM',\n",
       "    u'MUNIN',\n",
       "    u'MAELSTROM/MALCOLM ST',\n",
       "    u'RITTER, DEBORAH ',\n",
       "    u'CAPTAIN AMERICA',\n",
       "    u'TIGRA/GREER NELSON',\n",
       "    u'PSYCHE II/PSYKOS/RON',\n",
       "    u'AJAK/TECUMOTZIN [ETE',\n",
       "    u'TOMORROW HAWK/CEYOTE',\n",
       "    u'AREX',\n",
       "    u'DAMIAN, MARGO',\n",
       "    u'VIRAKO',\n",
       "    u'REJECT/RAN-SAK [DEVI',\n",
       "    u'SPRITE',\n",
       "    u'BEAUTY',\n",
       "    u'WASP/JANET VAN DYNE ',\n",
       "    u'BLASTAAR',\n",
       "    u'DEVEREAUX, IRIS',\n",
       "    u'ARISHEM [CELESTIAL]',\n",
       "    u'ZURAS',\n",
       "    u'HOLDEN, DR. SAMUEL',\n",
       "    u'KARKAS [DEVIANT]',\n",
       "    u'SCARLET WITCH/WANDA ',\n",
       "    u'CATAPHRAX',\n",
       "    u'GRONK',\n",
       "    u'JINKU',\n",
       "    u'VISION ',\n",
       "    u'DAMIAN, DR. DANIEL',\n",
       "    u'SPARX/AURELLE',\n",
       "    u'HAWK',\n",
       "    u'JARVIS, EDWIN ',\n",
       "    u'ZARIN',\n",
       "    u'SHE-HULK/JENNIFER WA',\n",
       "    u'LOKI [ASGARDIAN]',\n",
       "    u'TEFRAL',\n",
       "    u'PHOBIUS',\n",
       "    u'ODIN [ASGARDIAN]',\n",
       "    u'HUMAN TORCH/JOHNNY S',\n",
       "    u'APOCALYPSE/EN SABAH ',\n",
       "    u'GHAUR [DEVIANT]',\n",
       "    u'IKARIS/IKE HARRIS [E',\n",
       "    u'SUB-MARINER/NAMOR MA',\n",
       "    u'HUGIN',\n",
       "    u'CHARM',\n",
       "    u'FANDRAL [ASGARDIAN]',\n",
       "    u'DREAMING CELESTIAL/T',\n",
       "    u'ANT-MAN/DR. HENRY J.',\n",
       "    u'INVISIBLE WOMAN/SUE ',\n",
       "    u'THOR/DR. DONALD BLAK',\n",
       "    u'IRON MAN/TONY STARK ',\n",
       "    u'CHI DEMON/PROFESSOR '))),\n",
       " (u'PUCK DOPPELGANGER',\n",
       "  (1,\n",
       "   (u'POLARIS DOPPELGANGER',\n",
       "    u'NORTHSTAR/JEAN-PAUL ',\n",
       "    u'WOLVERINE/LOGAN ',\n",
       "    u'VISION DOPPELGANGER',\n",
       "    u'DOPPELGANGER',\n",
       "    u'VISION ',\n",
       "    u'BEAST/HENRY &HANK& P',\n",
       "    u'WARLOCK II/ADAM WARL',\n",
       "    u'NAMORITA/NITA PRENTI',\n",
       "    u'DR. DOOM/VICTOR VON ',\n",
       "    u'MR. FANTASTIC/REED R',\n",
       "    u'SASQUATCH/WALTER LAN',\n",
       "    u'MOONDRAGON/HEATHER D',\n",
       "    u'CAPTAIN AMERICA',\n",
       "    u'STORM/ORORO MUNROE S',\n",
       "    u'GAMBIT/REMY LEBEAU ',\n",
       "    u'SPEEDBALL/ROBBIE BAL',\n",
       "    u'MR. FANTASTIC DOPPEL',\n",
       "    u'ETERNITY/ADAM QADMON',\n",
       "    u'SCARLET WITCH/WANDA ',\n",
       "    u'\\ufffdGAMORA',\n",
       "    u'IRON MAN DOPPELGANGE',\n",
       "    u'LIVING LIGHTNING/MIG',\n",
       "    u'IRON MAN/TONY STARK ',\n",
       "    u'COLOSSUS II/PETER RA',\n",
       "    u'MULTIPLE MAN/JAMES A',\n",
       "    u'MAGUS',\n",
       "    u'PROFESSOR X DOPPELGA',\n",
       "    u'DR. STRANGE/STEPHEN ',\n",
       "    u'WONDER MAN/SIMON WIL',\n",
       "    u'SPIDER-MAN/PETER PAR',\n",
       "    u'WILD CHILD/KYLE GIBN',\n",
       "    u'PHARAOH RAMA-TUT',\n",
       "    u'HERCULES [GREEK GOD]',\n",
       "    u'MARVEL GIRL/JEAN GRE',\n",
       "    u'HUDSON, HEATHER',\n",
       "    u'AURORA/JEANNE-MARIE ',\n",
       "    u'HERCULES DOPPELGANGE',\n",
       "    u'QUASAR DOPPELGANGER',\n",
       "    u'HUMAN TORCH DOPPELGA',\n",
       "    u'TRITON DOPPELGANGER',\n",
       "    u'THOR III DOPPELGANGE',\n",
       "    u'ROGUE /',\n",
       "    u'BEAST DOPPELGANGER',\n",
       "    u'BLACK KNIGHT V/DANE ',\n",
       "    u'CYCLOPS/SCOTT SUMMER',\n",
       "    u'COLOSSUS II DOPPELGA',\n",
       "    u'POLARIS/LORNA DANE',\n",
       "    u'NOVA II/FRANKIE RAYE',\n",
       "    u'CAPTAIN AMERICA DOPP',\n",
       "    u'PUCK/EUGENE MILTON J',\n",
       "    u'FORGE',\n",
       "    u'THANOS',\n",
       "    u'WOLVERINE DOPPELGANG',\n",
       "    u'ICEMAN/ROBERT BOBBY ',\n",
       "    u'STRONG GUY/GUIDO CAR',\n",
       "    u'DRAX/ARTHUR DOUGLAS',\n",
       "    u'HULK DOPPELGANGER',\n",
       "    u'SASQUATCH DOPPELGANG',\n",
       "    u'WOLFSBANE DOPPELGANG',\n",
       "    u'COOPER, DR. VALERIE',\n",
       "    u'ANT-MAN/DR. HENRY J.',\n",
       "    u'BLACK WIDOW/NATASHA ',\n",
       "    u'SHE-HULK DOPPELGANGE',\n",
       "    u'PIP/PRINCE GOFERN',\n",
       "    u'WOLFSBANE/RAHNE SINC',\n",
       "    u'SPEEDBALL DOPPELGANG',\n",
       "    u'CRYSTAL [INHUMAN]',\n",
       "    u'BLACK KNIGHT IV DOPP',\n",
       "    u'GALACTUS/GALAN',\n",
       "    u'HAVOK/ALEX SUMMERS ',\n",
       "    u'PSYLOCKE/ELISABETH B',\n",
       "    u'KARNAK DOPPELGANGER',\n",
       "    u'SPIDER-WOMAN II/JULI',\n",
       "    u'SERSI/SYLVIA',\n",
       "    u'NOVA/RICHARD RIDER',\n",
       "    u'USAGENT/CAPTAIN JOHN',\n",
       "    u'THING DOPPELGANGER',\n",
       "    u'CYCLOPS DOPPELGANGER',\n",
       "    u'THANOS DOPPELGANGER',\n",
       "    u'DAREDEVIL DOPPELGANG',\n",
       "    u'ANGEL/WARREN KENNETH',\n",
       "    u'SILHOUETTE',\n",
       "    u'FIRESTAR/ANGELICA JO',\n",
       "    u'BLACK WIDOW DOPPELGA',\n",
       "    u'NOVA DOPPELGANGER',\n",
       "    u'STRONG GUY DOPPELGAN',\n",
       "    u'MOLE MAN/HARVEY RUPE',\n",
       "    u'QUICKSILVER/PIETRO M')))]"
      ]
     },
     "execution_count": 69,
     "metadata": {},
     "output_type": "execute_result"
    }
   ],
   "source": [
    "final_touched.take(5)"
   ]
  },
  {
   "cell_type": "code",
   "execution_count": 71,
   "metadata": {
    "collapsed": false
   },
   "outputs": [],
   "source": [
    "updated_touched_nodes = final_touched.union(touched_nodes)"
   ]
  },
  {
   "cell_type": "markdown",
   "metadata": {
    "collapsed": true
   },
   "source": [
    "We now put this in a function. I'll write out the function here to avoid problems...but actually it can't be put in a function. I'm so confused. "
   ]
  },
  {
   "cell_type": "code",
   "execution_count": 93,
   "metadata": {
    "collapsed": false
   },
   "outputs": [],
   "source": [
    "num_to_propagate = 10\n",
    "\n",
    "start_of_rdd = network_rdd.filter(lambda x: x[0] == start_node)\n",
    "last_touched_nodes = start_of_rdd.map(lambda x: (x[0], (cur_time_point, x[1])))\n",
    "distance_rdd = last_touched_nodes\n",
    "\n",
    "nonvisited_neighbors = None\n",
    "for cur_time in range(num_to_propagate):\n",
    "    get_neighbors_to_update = last_touched_nodes.flatMap(lambda x: x[1][1])\n",
    "    unique_neighbors_to_update = get_neighbors_to_update.distinct()\n",
    "    if all_neighbors is None:\n",
    "        nonvisited_neighbors = unique_neighbors_to_update\n",
    "    else:\n",
    "        nonvisited_neighbors = sc.union(unique_neighbors_to_update)\n",
    "    keys_to_update =nonvisited_neighbors.map(lambda x: (x, cur_time_point + 1))\n",
    "\n",
    "    # Here is the clincher...if you get the same person again, you \n",
    "    # *cannot* update them again!\n",
    "\n",
    "    last_touched_nodes = keys_to_update.join(network_rdd)\n",
    "    distance_rdd = final_touched.union(touched_nodes)"
   ]
  },
  {
   "cell_type": "code",
   "execution_count": null,
   "metadata": {
    "collapsed": true
   },
   "outputs": [],
   "source": []
  },
  {
   "cell_type": "markdown",
   "metadata": {},
   "source": [
    "I don't think this is going to work very well...will it? IDK. No. Very confused. Not sure how to nest commands in spark..."
   ]
  },
  {
   "cell_type": "code",
   "execution_count": null,
   "metadata": {
    "collapsed": true
   },
   "outputs": [],
   "source": []
  },
  {
   "cell_type": "code",
   "execution_count": null,
   "metadata": {
    "collapsed": true
   },
   "outputs": [],
   "source": [
    "def propagate_from_node(start_node, num_to_propagate=10):\n",
    "    \n",
    "    "
   ]
  }
 ],
 "metadata": {
  "kernelspec": {
   "display_name": "Python 2",
   "language": "python",
   "name": "python2"
  },
  "language_info": {
   "codemirror_mode": {
    "name": "ipython",
    "version": 2
   },
   "file_extension": ".py",
   "mimetype": "text/x-python",
   "name": "python",
   "nbconvert_exporter": "python",
   "pygments_lexer": "ipython2",
   "version": "2.7.10"
  }
 },
 "nbformat": 4,
 "nbformat_minor": 0
}
