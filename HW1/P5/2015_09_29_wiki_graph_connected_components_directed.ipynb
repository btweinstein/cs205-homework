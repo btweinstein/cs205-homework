{
 "cells": [
  {
   "cell_type": "code",
   "execution_count": 1,
   "metadata": {
    "collapsed": false
   },
   "outputs": [
    {
     "name": "stdout",
     "output_type": "stream",
     "text": [
      "Populating the interactive namespace from numpy and matplotlib\n"
     ]
    }
   ],
   "source": [
    "%pylab inline"
   ]
  },
  {
   "cell_type": "code",
   "execution_count": 2,
   "metadata": {
    "collapsed": false
   },
   "outputs": [],
   "source": [
    "%load_ext autoreload"
   ]
  },
  {
   "cell_type": "code",
   "execution_count": 3,
   "metadata": {
    "collapsed": false
   },
   "outputs": [],
   "source": [
    "%autoreload 2"
   ]
  },
  {
   "cell_type": "code",
   "execution_count": 4,
   "metadata": {
    "collapsed": true
   },
   "outputs": [],
   "source": [
    "import seaborn as sns"
   ]
  },
  {
   "cell_type": "code",
   "execution_count": 5,
   "metadata": {
    "collapsed": true
   },
   "outputs": [],
   "source": [
    "sns.set_context('poster', font_scale=1.25)"
   ]
  },
  {
   "cell_type": "code",
   "execution_count": 6,
   "metadata": {
    "collapsed": true
   },
   "outputs": [],
   "source": [
    "import findspark as fs"
   ]
  },
  {
   "cell_type": "code",
   "execution_count": 7,
   "metadata": {
    "collapsed": true
   },
   "outputs": [],
   "source": [
    "fs.init()"
   ]
  },
  {
   "cell_type": "code",
   "execution_count": 8,
   "metadata": {
    "collapsed": true
   },
   "outputs": [],
   "source": [
    "import pyspark as ps"
   ]
  },
  {
   "cell_type": "code",
   "execution_count": 9,
   "metadata": {
    "collapsed": false
   },
   "outputs": [],
   "source": [
    "# Assumes local options are already set!\n",
    "config = ps.SparkConf()\n",
    "config = config.setAppName('connected_component_solver')"
   ]
  },
  {
   "cell_type": "code",
   "execution_count": 10,
   "metadata": {
    "collapsed": false
   },
   "outputs": [],
   "source": [
    "sc = ps.SparkContext(conf=config)"
   ]
  },
  {
   "cell_type": "code",
   "execution_count": 11,
   "metadata": {
    "collapsed": true
   },
   "outputs": [],
   "source": [
    "num_partitions=40"
   ]
  },
  {
   "cell_type": "markdown",
   "metadata": {},
   "source": [
    "# Graph work: connected components"
   ]
  },
  {
   "cell_type": "markdown",
   "metadata": {},
   "source": [
    "So now, let us create a graph where we actually have all parents of a given node. And then feed up the graph."
   ]
  },
  {
   "cell_type": "code",
   "execution_count": 12,
   "metadata": {
    "collapsed": false
   },
   "outputs": [],
   "source": [
    "links_raw_data = sc.textFile('links-simple-sorted.txt')\n",
    "titles_raw_data = sc.textFile('titles-sorted.txt')"
   ]
  },
  {
   "cell_type": "markdown",
   "metadata": {},
   "source": [
    "Ugh. So we need to make a network out of this gigantic dataset. Let's get started. Luckily we can prototype my code locally & deploy on the cluster."
   ]
  },
  {
   "cell_type": "code",
   "execution_count": 13,
   "metadata": {
    "collapsed": false
   },
   "outputs": [],
   "source": [
    "import re"
   ]
  },
  {
   "cell_type": "code",
   "execution_count": 14,
   "metadata": {
    "collapsed": true
   },
   "outputs": [],
   "source": [
    "def get_links(x):\n",
    "    split = re.findall(r\"[\\w']+\", x)\n",
    "    parent = int(split[0])\n",
    "    children = [int(z) for z in split[1:]]\n",
    "    \n",
    "    return (parent, children)"
   ]
  },
  {
   "cell_type": "code",
   "execution_count": 15,
   "metadata": {
    "collapsed": true
   },
   "outputs": [],
   "source": [
    "parent_child_links = links_raw_data.map(get_links).partitionBy(num_partitions).cache()"
   ]
  },
  {
   "cell_type": "markdown",
   "metadata": {},
   "source": [
    "Ok, now to reverse. Kind of a pain. But we should do it."
   ]
  },
  {
   "cell_type": "code",
   "execution_count": 16,
   "metadata": {
    "collapsed": true
   },
   "outputs": [],
   "source": [
    "def get_reversed_links(x):\n",
    "    parent = x[0]\n",
    "    children = x[1]\n",
    "    return ((z, parent) for z in children)"
   ]
  },
  {
   "cell_type": "code",
   "execution_count": 17,
   "metadata": {
    "collapsed": true
   },
   "outputs": [],
   "source": [
    "all_reversed_links = parent_child_links.flatMap(get_reversed_links)"
   ]
  },
  {
   "cell_type": "code",
   "execution_count": 18,
   "metadata": {
    "collapsed": false
   },
   "outputs": [
    {
     "data": {
      "text/plain": [
       "[(5688906, 40), (5703729, 80)]"
      ]
     },
     "execution_count": 18,
     "metadata": {},
     "output_type": "execute_result"
    }
   ],
   "source": [
    "all_reversed_links.take(2)"
   ]
  },
  {
   "cell_type": "code",
   "execution_count": 19,
   "metadata": {
    "collapsed": true
   },
   "outputs": [],
   "source": [
    "child_then_parents = all_reversed_links.groupByKey(num_partitions).cache()"
   ]
  },
  {
   "cell_type": "code",
   "execution_count": 22,
   "metadata": {
    "collapsed": false
   },
   "outputs": [],
   "source": [
    "child_then_parents_expanded = child_then_parents.map(lambda x: (x[0], list(x[1])), preservesPartitioning=True)"
   ]
  },
  {
   "cell_type": "markdown",
   "metadata": {},
   "source": [
    "We now join to find symmetric nodes."
   ]
  },
  {
   "cell_type": "code",
   "execution_count": 27,
   "metadata": {
    "collapsed": false
   },
   "outputs": [],
   "source": [
    "joined_links = parent_child_links.join(child_then_parents_expanded).cache()"
   ]
  },
  {
   "cell_type": "code",
   "execution_count": 36,
   "metadata": {
    "collapsed": true
   },
   "outputs": [],
   "source": [
    "def get_intersection(x):\n",
    "    list1 = x[1][0]\n",
    "    list2 = x[1][1]\n",
    "    symmetric_links = set(list1).intersection(list2)\n",
    "    return list(symmetric_links)"
   ]
  },
  {
   "cell_type": "code",
   "execution_count": 42,
   "metadata": {
    "collapsed": true
   },
   "outputs": [],
   "source": [
    "symmetric_nodes = joined_links.flatMap(get_intersection)"
   ]
  },
  {
   "cell_type": "markdown",
   "metadata": {},
   "source": [
    "We now filter the original links and only keep the symmetric ones!"
   ]
  },
  {
   "cell_type": "markdown",
   "metadata": {},
   "source": [
    "The network_rdd now consists of (node, parents). Cool. We now can start the connected component analysis."
   ]
  },
  {
   "cell_type": "code",
   "execution_count": 25,
   "metadata": {
    "collapsed": false
   },
   "outputs": [
    {
     "data": {
      "text/plain": [
       "False"
      ]
     },
     "execution_count": 25,
     "metadata": {},
     "output_type": "execute_result"
    }
   ],
   "source": [
    "network_rdd.is_cached"
   ]
  },
  {
   "cell_type": "code",
   "execution_count": 26,
   "metadata": {
    "collapsed": false
   },
   "outputs": [],
   "source": [
    "from HW1.network_commands import Connected_Components"
   ]
  },
  {
   "cell_type": "markdown",
   "metadata": {},
   "source": [
    "We need to look up the start and finish nodes."
   ]
  },
  {
   "cell_type": "code",
   "execution_count": 27,
   "metadata": {
    "collapsed": false
   },
   "outputs": [],
   "source": [
    "connector = Connected_Components(sc, network_rdd)"
   ]
  },
  {
   "cell_type": "code",
   "execution_count": 28,
   "metadata": {
    "collapsed": false
   },
   "outputs": [
    {
     "name": "stdout",
     "output_type": "stream",
     "text": [
      "Beginning of Iteration 1\n",
      "Before update: 3773865 groups\n",
      "Beginning of Iteration 2\n",
      "Before update: 931367 groups\n",
      "Beginning of Iteration 3\n",
      "Before update: 141195 groups\n",
      "Beginning of Iteration 4\n",
      "Before update: 10466 groups\n",
      "Beginning of Iteration 5\n",
      "Before update: 1107 groups\n",
      "Beginning of Iteration 6\n",
      "Before update: 177 groups\n",
      "Beginning of Iteration 7\n",
      "Before update: 71 groups\n",
      "Beginning of Iteration 8\n",
      "Before update: 60 groups\n",
      "Beginning of Iteration 9\n",
      "Before update: 56 groups\n",
      "Beginning of Iteration 10\n",
      "Before update: 53 groups\n",
      "Finished at end of iteration 10 !\n",
      "There are  53  groups in the network.\n"
     ]
    }
   ],
   "source": [
    "connector.run_until_converged()"
   ]
  },
  {
   "cell_type": "code",
   "execution_count": 29,
   "metadata": {
    "collapsed": true
   },
   "outputs": [],
   "source": [
    "indices_vs_iteration = connector.num_unique_vs_iteration"
   ]
  },
  {
   "cell_type": "code",
   "execution_count": 31,
   "metadata": {
    "collapsed": false
   },
   "outputs": [
    {
     "data": {
      "image/png": "[encoded data removed]",
      "text/plain": [
       "<matplotlib.figure.Figure at 0x7fd51f070bd0>"
      ]
     },
     "metadata": {},
     "output_type": "display_data"
    }
   ],
   "source": [
    "plt.semilogy(indices_vs_iteration, marker='.', ls='-')\n",
    "plt.xlabel('Number of Iterations')\n",
    "plt.ylabel('Number of Connected Components')\n",
    "plt.title('Number of Connected Components vs. Iteration')\n",
    "plt.savefig('directed_graph_components_vs_iteration.png', dpi=200, bbox_inches='tight')"
   ]
  },
  {
   "cell_type": "markdown",
   "metadata": {},
   "source": [
    "BOOM BABY IT WORKS I'M DA KING OF THE WORLD! Looks like it actually works well. I just have to do iterations until it converges...easier said than done. To do this, I can just count the number of unique keys. If the number of unique keys is the same before and after, we are all set; it has converged."
   ]
  },
  {
   "cell_type": "code",
   "execution_count": null,
   "metadata": {
    "collapsed": true
   },
   "outputs": [],
   "source": [
    "network_rdd.flatMap()"
   ]
  },
  {
   "cell_type": "code",
   "execution_count": null,
   "metadata": {
    "collapsed": true
   },
   "outputs": [],
   "source": [
    "network_rdd.reduceByKey()"
   ]
  },
  {
   "cell_type": "markdown",
   "metadata": {},
   "source": [
    "Very cool. The nodes are connected. Let's get a path! The only thing I am screwing up is the lookup...fuck! lol"
   ]
  },
  {
   "cell_type": "code",
   "execution_count": 82,
   "metadata": {
    "collapsed": true
   },
   "outputs": [],
   "source": [
    "path = finder.collected_distance_rdd"
   ]
  },
  {
   "cell_type": "code",
   "execution_count": 83,
   "metadata": {
    "collapsed": false
   },
   "outputs": [
    {
     "data": {
      "text/plain": [
       "483038"
      ]
     },
     "execution_count": 83,
     "metadata": {},
     "output_type": "execute_result"
    }
   ],
   "source": [
    "len(path)"
   ]
  },
  {
   "cell_type": "markdown",
   "metadata": {},
   "source": [
    "Holy crap that's a lot of data. lol. We now need to work with this and get the path back."
   ]
  },
  {
   "cell_type": "code",
   "execution_count": 84,
   "metadata": {
    "collapsed": false
   },
   "outputs": [],
   "source": [
    "path_rdd = sc.parallelize(path, num_partitions_to_use)"
   ]
  },
  {
   "cell_type": "markdown",
   "metadata": {},
   "source": [
    "Cool. We now trace the path back."
   ]
  },
  {
   "cell_type": "code",
   "execution_count": 85,
   "metadata": {
    "collapsed": false
   },
   "outputs": [
    {
     "data": {
      "text/plain": [
       "[u'Bob_Saget']"
      ]
     },
     "execution_count": 85,
     "metadata": {},
     "output_type": "execute_result"
    }
   ],
   "source": [
    "index_then_title.lookup(start_node)"
   ]
  },
  {
   "cell_type": "code",
   "execution_count": 108,
   "metadata": {
    "collapsed": true
   },
   "outputs": [],
   "source": [
    "chosen_parent = end_node\n",
    "path_back = [end_node]\n",
    "\n",
    "go = True\n",
    "while go:\n",
    "    potential_parents = path_rdd.lookup(chosen_parent)[0][1]\n",
    "    # Let's make the parent choice random to get variability\n",
    "    chosen_parent = np.random.choice(potential_parents)\n",
    "    path_back.append(chosen_parent)\n",
    "    if chosen_parent == start_node:\n",
    "        go = False\n",
    "path_forwards = list(reversed(path_back))"
   ]
  },
  {
   "cell_type": "markdown",
   "metadata": {},
   "source": [
    "We now translate the path into actual words. We assume it won't take too long...wait what's the fastest way to do this?"
   ]
  },
  {
   "cell_type": "markdown",
   "metadata": {},
   "source": [
    "This doesn't look right. I'm confused."
   ]
  },
  {
   "cell_type": "code",
   "execution_count": 109,
   "metadata": {
    "collapsed": false
   },
   "outputs": [],
   "source": [
    "path_forwards_names = [index_then_title.lookup(z)[0] for z in path_forwards]"
   ]
  },
  {
   "cell_type": "code",
   "execution_count": 110,
   "metadata": {
    "collapsed": false
   },
   "outputs": [
    {
     "data": {
      "text/plain": [
       "[u'Bob_Saget',\n",
       " u'Musical_theatre',\n",
       " u'South_Park:_Bigger,_Longer_&_Uncut',\n",
       " u'Satan']"
      ]
     },
     "execution_count": 110,
     "metadata": {},
     "output_type": "execute_result"
    }
   ],
   "source": [
    "path_forwards_names"
   ]
  },
  {
   "cell_type": "markdown",
   "metadata": {},
   "source": [
    "# Old stuff"
   ]
  },
  {
   "cell_type": "code",
   "execution_count": 19,
   "metadata": {
    "collapsed": false
   },
   "outputs": [
    {
     "data": {
      "text/plain": [
       "[u'\"FROST, CARMILLA\",\"AA2 35\"',\n",
       " u'\"KILLRAVEN/JONATHAN R\",\"AA2 35\"',\n",
       " u'\"M\\'SHULLA\",\"AA2 35\"',\n",
       " u'\"24-HOUR MAN/EMMANUEL\",\"AA2 35\"',\n",
       " u'\"OLD SKULL\",\"AA2 35\"',\n",
       " u'\"G\\'RATH\",\"AA2 35\"',\n",
       " u'\"3-D MAN/CHARLES CHAN\",\"M/PRM 35\"',\n",
       " u'\"3-D MAN/CHARLES CHAN\",\"M/PRM 36\"',\n",
       " u'\"3-D MAN/CHARLES CHAN\",\"M/PRM 37\"',\n",
       " u'\"HUMAN ROBOT\",\"WI? 9\"']"
      ]
     },
     "execution_count": 19,
     "metadata": {},
     "output_type": "execute_result"
    }
   ],
   "source": [
    "marvel_raw_data.take(10)"
   ]
  },
  {
   "cell_type": "code",
   "execution_count": 20,
   "metadata": {
    "collapsed": true
   },
   "outputs": [],
   "source": [
    "def get_issue_character(raw_line):\n",
    "    dat = raw_line.split('\"')\n",
    "    character_name = dat[1]\n",
    "    issue = dat[3]\n",
    "    return (issue, character_name)"
   ]
  },
  {
   "cell_type": "code",
   "execution_count": 21,
   "metadata": {
    "collapsed": true
   },
   "outputs": [],
   "source": [
    "issue_character_rdd = marvel_raw_data.map(get_issue_character)"
   ]
  },
  {
   "cell_type": "markdown",
   "metadata": {},
   "source": [
    "Links are symmetric. We can just create key/value pairs from this. We want character as a key, values as everyone they link to. If one character links to another, the other character *must* link to them!"
   ]
  },
  {
   "cell_type": "code",
   "execution_count": 22,
   "metadata": {
    "collapsed": true
   },
   "outputs": [],
   "source": [
    "issue_groups_rdd = issue_character_rdd.groupByKey()"
   ]
  },
  {
   "cell_type": "code",
   "execution_count": 23,
   "metadata": {
    "collapsed": true
   },
   "outputs": [],
   "source": [
    "muffin = [(2,3),(4,5)]"
   ]
  },
  {
   "cell_type": "code",
   "execution_count": 24,
   "metadata": {
    "collapsed": true
   },
   "outputs": [],
   "source": [
    "def get_links_from_groups(x):\n",
    "    list_of_characters = list(x[1])\n",
    "    links = []\n",
    "    for cur_character in list_of_characters:\n",
    "        for other_character in list_of_characters:\n",
    "            if cur_character != other_character:\n",
    "                # Ensure that links are symmetric\n",
    "                links.append((cur_character, other_character))\n",
    "                links.append((other_character, cur_character))\n",
    "    return tuple(links)"
   ]
  },
  {
   "cell_type": "code",
   "execution_count": 25,
   "metadata": {
    "collapsed": true
   },
   "outputs": [],
   "source": [
    "all_links_rdd = issue_groups_rdd.flatMap(get_links_from_groups)"
   ]
  },
  {
   "cell_type": "markdown",
   "metadata": {},
   "source": [
    "We now groupby key again. And then we have all the links for a given individual. *But* we have to make sure they are unique."
   ]
  },
  {
   "cell_type": "code",
   "execution_count": 26,
   "metadata": {
    "collapsed": false
   },
   "outputs": [
    {
     "data": {
      "text/plain": [
       "[(u'PRINCESS ZANDA', u\"BLACK PANTHER/T'CHAL\"),\n",
       " (u\"BLACK PANTHER/T'CHAL\", u'PRINCESS ZANDA')]"
      ]
     },
     "execution_count": 26,
     "metadata": {},
     "output_type": "execute_result"
    }
   ],
   "source": [
    "all_links_rdd.take(2)"
   ]
  },
  {
   "cell_type": "code",
   "execution_count": 27,
   "metadata": {
    "collapsed": true
   },
   "outputs": [],
   "source": [
    "character_and_links_rdd = all_links_rdd.groupByKey()"
   ]
  },
  {
   "cell_type": "code",
   "execution_count": 28,
   "metadata": {
    "collapsed": true
   },
   "outputs": [],
   "source": [
    "def cleanup_links(x):\n",
    "    linked_to = list(x[1])\n",
    "    unique_links = tuple(set(linked_to))\n",
    "    return (x[0], unique_links)"
   ]
  },
  {
   "cell_type": "code",
   "execution_count": 29,
   "metadata": {
    "collapsed": false
   },
   "outputs": [
    {
     "data": {
      "text/plain": [
       "[(u'QUESADA, JOE', <pyspark.resultiterable.ResultIterable at 0x7fb35ff868d0>)]"
      ]
     },
     "execution_count": 29,
     "metadata": {},
     "output_type": "execute_result"
    }
   ],
   "source": [
    "character_and_links_rdd.take(1)"
   ]
  },
  {
   "cell_type": "code",
   "execution_count": 30,
   "metadata": {
    "collapsed": true
   },
   "outputs": [],
   "source": [
    "network_rdd = character_and_links_rdd.map(cleanup_links)"
   ]
  },
  {
   "cell_type": "markdown",
   "metadata": {},
   "source": [
    "Ok, awesome. We are all set."
   ]
  },
  {
   "cell_type": "code",
   "execution_count": 31,
   "metadata": {
    "collapsed": true
   },
   "outputs": [],
   "source": [
    "network_result = network_rdd.collect()"
   ]
  },
  {
   "cell_type": "code",
   "execution_count": 32,
   "metadata": {
    "collapsed": false
   },
   "outputs": [
    {
     "data": {
      "text/plain": [
       "[(u'QUESADA, JOE',\n",
       "  (u'ZURI',\n",
       "   u'GLADIATOR/MELVIN POT',\n",
       "   u'SMITH, KEVIN',\n",
       "   u'OKOYE',\n",
       "   u'PALMIOTTI, JIMMY',\n",
       "   u'MARTINEZ, ALITHA',\n",
       "   u'MYSTERIO/QUENTIN BEC',\n",
       "   u'WATSON-PARKER, MARY ',\n",
       "   u'SPIDER-MAN/PETER PAR',\n",
       "   u'MCKENZIE, LYDIA',\n",
       "   u'LAMY, KELLY',\n",
       "   u'URICH, BEN',\n",
       "   u\"BLACK PANTHER/T'CHAL\",\n",
       "   u'MR. FANTASTIC/REED R',\n",
       "   u'THING/BENJAMIN J. GR',\n",
       "   u'QUINN, ASHLEY',\n",
       "   u'CAPTAIN AMERICA',\n",
       "   u'MALICE V/NAKIA',\n",
       "   u'NELSON, CANDACE',\n",
       "   u'INVISIBLE WOMAN/SUE ',\n",
       "   u'BUTCH',\n",
       "   u'EIGHTBALL',\n",
       "   u'DAREDEVIL/MATT MURDO',\n",
       "   u'ROSS, EVERETT KENNET',\n",
       "   u'POTTER, BETSY BEATTY',\n",
       "   u'BLACK WIDOW/NATASHA ',\n",
       "   u'EVERETT, BILL',\n",
       "   u'BLAKE, BECKY',\n",
       "   u'DAKESIAN, NANCI',\n",
       "   u'SHARPE, ROSALINDE',\n",
       "   u'NELSON, FRANKLIN FOG',\n",
       "   u'MILLER, FRANK',\n",
       "   u'HUMAN TORCH/JOHNNY S',\n",
       "   u'OSBORN, LIZ ALLAN',\n",
       "   u'DR. STRANGE/STEPHEN ',\n",
       "   u'DARLA',\n",
       "   u'RALF',\n",
       "   u'PAGE, KAREN',\n",
       "   u'LEE, STAN')),\n",
       " (u'CRUSADER II/ARTHUR B',\n",
       "  (u'HELA [ASGARDIAN]',\n",
       "   u'X-MAN/NATHAN GREY ',\n",
       "   u'HOGUN [ASGARDIAN]',\n",
       "   u'VALINOR',\n",
       "   u\"O'SHAUGNESSY, COLLEE\",\n",
       "   u'ODIN [ASGARDIAN]',\n",
       "   u'CATHERWOOD',\n",
       "   u'HEIMDALL [ASGARDIAN]',\n",
       "   u'SIF',\n",
       "   u'BLACK KNIGHT V/DANE ',\n",
       "   u'BENTLEY, VICTORIA',\n",
       "   u'THOR/DR. DONALD BLAK',\n",
       "   u'BLACKWOOD, JENNY',\n",
       "   u'FANDRAL [ASGARDIAN]')),\n",
       " (u'SILVER SAMURAI/KENYU',\n",
       "  (u'DARKSTAR/LAYNIA SERG',\n",
       "   u'NORTHSTAR/JEAN-PAUL ',\n",
       "   u'WOLVERINE/LOGAN ',\n",
       "   u'GAMBIT/REMY LEBEAU ',\n",
       "   u'SELENE',\n",
       "   u'MIRAGE II/DANIELLE M',\n",
       "   u'FLATMAN',\n",
       "   u\"KARMA/XI'AN COY MANH\",\n",
       "   u'STRYFE',\n",
       "   u'BLOODSCREAM',\n",
       "   u'JETSTREAM/HAROUD IBN',\n",
       "   u'HAWK',\n",
       "   u'TEMPO',\n",
       "   u'UNION JACK III/JOEY ',\n",
       "   u'STROBE/',\n",
       "   u'SASQUATCH/WALTER LAN',\n",
       "   u'SILVER FOX II/ZORA D',\n",
       "   u'SUNSTROKE/',\n",
       "   u'STORM/ORORO MUNROE S',\n",
       "   u'TAI',\n",
       "   u'MANBOT/BERNIE LACHEN',\n",
       "   u'ALBERT',\n",
       "   u'NIGHT THRASHER/DUANE',\n",
       "   u'KAISHEK, HAAN',\n",
       "   u'BLACK KING/SEBASTIAN',\n",
       "   u'HAMES',\n",
       "   u'POWERSURGE/ILLARION ',\n",
       "   u'SCARLET WITCH/WANDA ',\n",
       "   u'RAZA LONGKNIFE',\n",
       "   u'GENTRY',\n",
       "   u'X THE UNKNOWABLE',\n",
       "   u'SOFEN, MARION',\n",
       "   u'FOREARM',\n",
       "   u\"CH'OD\",\n",
       "   u'RED GUARDIAN V',\n",
       "   u'FLEX/ADRIAN CORBO',\n",
       "   u'NELSON, CANDACE',\n",
       "   u'COLOSSUS II/PETER RA',\n",
       "   u'CORSAIR',\n",
       "   u'OSHIMA',\n",
       "   u'HUDSON, HEATHER',\n",
       "   u'THOR/DR. DONALD BLAK',\n",
       "   u'NIGHTCRAWLER/KURT WA',\n",
       "   u'LEE, STAN',\n",
       "   u'LODESTONE/ANDREA',\n",
       "   u\"MAM'SELLE HEPZIBAH\",\n",
       "   u'MAGNETO/MAGNUS/ERIC ',\n",
       "   u'STOCKBRIDGE, CHARLES',\n",
       "   u'WATER WIZARD/PETE',\n",
       "   u'STOCKBRIDGE, DEANNA',\n",
       "   u'POWER MAN/ERIK JOSTE',\n",
       "   u'WATSON-PARKER, MARY ',\n",
       "   u'BINARY/CAROL DANVERS',\n",
       "   u'SCORCHER/',\n",
       "   u'WONDER MAN/SIMON WIL',\n",
       "   u'REAPER II',\n",
       "   u'SPIDER-MAN/PETER PAR',\n",
       "   u'KAISHEK, GOM',\n",
       "   u'NEKRA/ADRIENNE HATRO',\n",
       "   u'MCCABE, LINDSAY',\n",
       "   u'TURBO II (A)/MICHIKO',\n",
       "   u'ROSSI, COL. MICHAEL ',\n",
       "   u'SHAMAN/MICHAEL TWOYO',\n",
       "   u'SHADOWCAT/KATHERINE ',\n",
       "   u'MOONSTONE II/KARLA S',\n",
       "   u'ROULETTE II/JENNY ST',\n",
       "   u'HUXLEY, DR. HORATIO',\n",
       "   u'CYPHER/DOUG RAMSEY',\n",
       "   u'DOORMAN',\n",
       "   u'BRIDGE, GEORGE WASHI',\n",
       "   u'JONES, RICHARD MILHO',\n",
       "   u'CHARCOAL/CHARLIE BUR',\n",
       "   u'QUICKSAND',\n",
       "   u'BISON/BILLY KITSON',\n",
       "   u'QUARTERMAIN, CLAY',\n",
       "   u'DAREDEVIL/MATT MURDO',\n",
       "   u'ELEKTRA/ELEKTRA NATC',\n",
       "   u'KOJIRO',\n",
       "   u'TSURAYABA, MATSUO',\n",
       "   u'SUMMERS, MADELYNE MA',\n",
       "   u'DINAH-SOAR',\n",
       "   u'HONEY LEMON/',\n",
       "   u'DOMINO III/BEATRICE/',\n",
       "   u'WILDSIDE',\n",
       "   u'SCREAMING MIMI/MELIS',\n",
       "   u'REIKO',\n",
       "   u'RADIUS/JARED CORBO',\n",
       "   u'MAGMA/AMARA AQUILLA/',\n",
       "   u'EEL II/EDWARD LAVELL',\n",
       "   u'MAGIK/ILLYANA RASPUT',\n",
       "   u'ROGUE /',\n",
       "   u'EMPATH/MANUEL ALFONS',\n",
       "   u'DE LA FONTAINE, CONT',\n",
       "   u'TESSA',\n",
       "   u'SUMMERS, NATHAN CHRI',\n",
       "   u'CYCLOPS/SCOTT SUMMER',\n",
       "   u'COY, GENERAL NGUYEN ',\n",
       "   u'SLYDE',\n",
       "   u'POLARIS/LORNA DANE',\n",
       "   u'GRIZZLY II/THEODORE ',\n",
       "   u'PUCK/EUGENE MILTON J',\n",
       "   u'MAN-KILLER/KATRINA L',\n",
       "   u'FLYING TIGER',\n",
       "   u'FIREFIST/RUSTY COLLI',\n",
       "   u'SUPERCHARGER/',\n",
       "   u'KLAW/ULYSSES KLAW',\n",
       "   u'VANGUARD/NICOLAI KRY',\n",
       "   u'MACTAGGERT, MOIRA KI',\n",
       "   u'SHANG-CHI',\n",
       "   u'HAMMER III/EISENHOWE',\n",
       "   u'BLACKWING/JOSEPH MAN',\n",
       "   u'DRAGONFLY/VERONICA D',\n",
       "   u'PROFESSOR X/CHARLES ',\n",
       "   u\"MAN-APE/M'BAKU\",\n",
       "   u'HUNTER, STEVIE',\n",
       "   u'GUARDIAN V/JAMES MAC',\n",
       "   u'TAKACHIHO, HIRO',\n",
       "   u'JOLT/HALLIE TAKAHAMA',\n",
       "   u'CRIMSON COWL II/',\n",
       "   u'TUPA',\n",
       "   u'REYES, DR. CECELIA',\n",
       "   u'BOOMERANG/FRED MYERS',\n",
       "   u'CAPTAIN AMERICA',\n",
       "   u'ZERO',\n",
       "   u\"CR'REEE\",\n",
       "   u'BLACK WIDOW/NATASHA ',\n",
       "   u'SITWELL, JASPER',\n",
       "   u'WEAPON X II/GARRISON',\n",
       "   u'LOCKHEED',\n",
       "   u'YUKIO',\n",
       "   u'WHITE QUEEN/EMMA FRO',\n",
       "   u'SUNFIRE/SHIRO YOSHID',\n",
       "   u'AMIKO',\n",
       "   u'WOLFSBANE/RAHNE SINC',\n",
       "   u'CYCLONE II/PIERRE FR',\n",
       "   u\"O'HARA, ROBERT IRONG\",\n",
       "   u'CITIZEN V III/DALLAS',\n",
       "   u'ELSIE DEE',\n",
       "   u'ICEMASTER/',\n",
       "   u'SOFEN, KARL AUGUST',\n",
       "   u'TIGER SHARK/TODD ARL',\n",
       "   u'CARDINAL/CLEMDENON',\n",
       "   u'HAVOK/ALEX SUMMERS ',\n",
       "   u'CANNONBALL II/SAM GU',\n",
       "   u'SHATTERFIST/',\n",
       "   u'DRAGONESS',\n",
       "   u'KAISHEK, YOLYN',\n",
       "   u'CARTER, JIMMY',\n",
       "   u\"O'DONNELL\",\n",
       "   u'VIPER II',\n",
       "   u'BIZEN',\n",
       "   u'LILANDRA NERAMANI [S',\n",
       "   u'TAKACHIHO, MRS.',\n",
       "   u'GOGO TAMAGO/',\n",
       "   u'JUBILEE/JUBILATION L',\n",
       "   u'EVERWRAITH/',\n",
       "   u'KAMIKAZE',\n",
       "   u'WOLVERINE SKRULL',\n",
       "   u'NOVA/RICHARD RIDER',\n",
       "   u'MORRELL, SABRINA',\n",
       "   u'WEAPON X III',\n",
       "   u'MASTERMIND/JASON WYN',\n",
       "   u\"SHANNA/SHANNA O'HARA\",\n",
       "   u'KAISHEK, KIA',\n",
       "   u'CATSEYE/SHARON SMITH',\n",
       "   u'CYLLA II',\n",
       "   u'YASHIDA, MARIKO',\n",
       "   u'CONSTRICTOR/FRANK PA',\n",
       "   u'MANDRILL/HENSLEY FAR',\n",
       "   u'NELSON, FRANKLIN FOG',\n",
       "   u'SIRYN/THERESA ROURKE',\n",
       "   u'GHOST GIRL II/LILLI',\n",
       "   u'SKIDS/SALLY BLEVINS',\n",
       "   u'TAROT/MARIE-ANGE COL',\n",
       "   u'BAYMAX',\n",
       "   u'SUNSPOT/ROBERTO DACO',\n",
       "   u'SPIDER-WOMAN/JESSICA',\n",
       "   u'FURY, COL. NICHOLAS ',\n",
       "   u'JOYSTICK/JANICE',\n",
       "   u'SHOCKWAVE/LANCASTER ',\n",
       "   u'MR. IMMORTAL',\n",
       "   u'THUNDERBIRD II/JAMES')),\n",
       " (u'HELIX/RAFAEL CARAGO',\n",
       "  (u'DRY',\n",
       "   u'PRETTY PERSUASIONS/H',\n",
       "   u'LIGHT',\n",
       "   u'NIKKI/NICHOLETTE GOL',\n",
       "   u'ASYLUM II/HENRIQUE M',\n",
       "   u'JUSTICE II/VANCE AST',\n",
       "   u'VISION ',\n",
       "   u'SPEEDBALL II/DARRION',\n",
       "   u'MARTINEX',\n",
       "   u'JEFFRIES, MAGGIE ',\n",
       "   u'SPIDERCIDE',\n",
       "   u'WATSON-PARKER, MARY ',\n",
       "   u'ADVENT/KYLE GROBE',\n",
       "   u'HINDSIGHT LAD/CARLTO',\n",
       "   u'HOLLYWOOD',\n",
       "   u'GEE/ALEX POWER',\n",
       "   u'SPIDER-MAN/PETER PAR',\n",
       "   u'KAINE',\n",
       "   u'MAJOR VICTORY/MAJ. V',\n",
       "   u'TURBO II (B)/MIKE JE',\n",
       "   u'SPHINX',\n",
       "   u'RAGE/ELVIN DARYL HAL',\n",
       "   u'SPARROW',\n",
       "   u'GENERAL ADMISSION',\n",
       "   u'TURBO II (A)/MICHIKO',\n",
       "   u'THINKER',\n",
       "   u'CORONARY/JIMMY SHARP',\n",
       "   u'GENERAL OBSIDIAN',\n",
       "   u'HERCULES [GREEK GOD]',\n",
       "   u'CHEN, DR.',\n",
       "   u'NOVA OMEGA/GARTHAN S',\n",
       "   u'TRUTH II',\n",
       "   u'DUNHAM, LAURA',\n",
       "   u'NOVA/RICHARD RIDER',\n",
       "   u'YONDU/YONDU UDONTA',\n",
       "   u'NAMORITA/NITA PRENTI',\n",
       "   u'CUT',\n",
       "   u'POWER, MARGARET',\n",
       "   u'SPIDER-MAN CLONE/BEN',\n",
       "   u'JAMESON, J. JONAH',\n",
       "   u'MEXXA RIEN',\n",
       "   u'IMPULSE II/DWIGHT HU',\n",
       "   u'NIGHT THRASHER/DUANE',\n",
       "   u'NIELS',\n",
       "   u'TIMESLIP/RINA PATEL',\n",
       "   u'PUNISHER II/FRANK CA',\n",
       "   u'BLACK WIDOW/NATASHA ',\n",
       "   u'BALDWIN, MADELYNE MA',\n",
       "   u'ADMIRAL PROTOCOL/',\n",
       "   u'GENECIDE',\n",
       "   u'VOLX',\n",
       "   u'DARK',\n",
       "   u'RIGHT',\n",
       "   u'MATHEMANIC/THOMAS SO',\n",
       "   u'PRIMUS',\n",
       "   u'MOTHER OF PEARL/',\n",
       "   u'JACKAL/MILES WARREN',\n",
       "   u'SCRIER II/',\n",
       "   u'FIRESTAR/ANGELICA JO',\n",
       "   u'SPEEDBALL/ROBBIE BAL',\n",
       "   u'WRONG',\n",
       "   u'CHARLIE 27',\n",
       "   u'STACY, GWEN (CLONE)',\n",
       "   u'ROSEN, WALTER')),\n",
       " (u'DREAMING CELESTIAL/T',\n",
       "  (u'YRDISIS',\n",
       "   u'THENA',\n",
       "   u'HOLDEN, DR. SAMUEL',\n",
       "   u'KRO [DEVIANT]',\n",
       "   u'PHASTOS [ETERNAL]',\n",
       "   u'MOCKINGBIRD/DR. BARB',\n",
       "   u'CYBELE [ETERNAL]',\n",
       "   u'WONDER MAN/SIMON WIL',\n",
       "   u'TIGRA/GREER NELSON',\n",
       "   u'ARISHEM [CELESTIAL]',\n",
       "   u'CATAPHRAX',\n",
       "   u'KHORYPHOS [ETERNAL]',\n",
       "   u'MAKKARI/MIKE KHARY/I',\n",
       "   u'SILVER SURFER/NORRIN',\n",
       "   u'DR. STRANGE/STEPHEN ',\n",
       "   u'AHQLAU',\n",
       "   u'SERSI/SYLVIA',\n",
       "   u'DRUIG',\n",
       "   u'FORGOTTEN ONE/GILGAM',\n",
       "   u'GAMMENON [CELESTIAL]',\n",
       "   u'TALISMAN II/ELIZABET',\n",
       "   u'ZIRAN',\n",
       "   u'LLYRA/LLYRA MORRIS',\n",
       "   u'REJECT/RAN-SAK [DEVI',\n",
       "   u'CAPTAIN AMERICA',\n",
       "   u'ZURAS',\n",
       "   u'KARKAS [DEVIANT]',\n",
       "   u'KINGO SUNEN [ETERNAL',\n",
       "   u'HAWK',\n",
       "   u'SIGMAR',\n",
       "   u'CHATTERTON, DAVE',\n",
       "   u'GHAUR [DEVIANT]',\n",
       "   u'IKARIS/IKE HARRIS [E',\n",
       "   u'TEFRAL',\n",
       "   u'DAMIAN, MARGO',\n",
       "   u'THOR/DR. DONALD BLAK',\n",
       "   u'IRON MAN/TONY STARK '))]"
      ]
     },
     "execution_count": 32,
     "metadata": {},
     "output_type": "execute_result"
    }
   ],
   "source": [
    "network_result[0:5]"
   ]
  },
  {
   "cell_type": "markdown",
   "metadata": {},
   "source": [
    "## One iteration"
   ]
  },
  {
   "cell_type": "code",
   "execution_count": 33,
   "metadata": {
    "collapsed": true
   },
   "outputs": [],
   "source": [
    "start_node = 'CAPTAIN AMERICA'"
   ]
  },
  {
   "cell_type": "code",
   "execution_count": 34,
   "metadata": {
    "collapsed": false
   },
   "outputs": [
    {
     "name": "stdout",
     "output_type": "stream",
     "text": [
      "[(u'CAPTAIN AMERICA', (u'QUESADA, JOE', u'SILVER SAMURAI/KENYU', u'CAPTAIN AMERICA IV/S', u'DREAMING CELESTIAL/T', u'VOGHT, AMELIA', u'KRO [DEVIANT]', u'PHASTOS [ETERNAL]', u'PUCK DOPPELGANGER', u'POPE', u'POWER PRINCESS/ZARDA', u'MODRED THE MYSTIC', u\"JACK O'LANTERN II/MA\", u'DR. FAUSTUS', u'GHOST GIRL/', u'HESCAMAR/MARNOT [ASG', u'LORD TEMPLAR/', u'RODGERS, MARIANNE', u'HIJACKER', u'HOCHBERG, ROGER', u'MARROW/SARAH ', u'EPOCH', u'MOTHER NIGHT/SUSAN S', u'PIECEMEAL/GILBERT BE', u'OMNIBUS/LT. DALLAS', u'SHAKTI', u'WHIZZER III/JAMES SA', u'KORATH THE PURSUER', u'WOLFE, HEDY', u'WOLF SPIRIT/OWAYODAT', u'PEREGRINE, LE/FRANCK', u'STRUCKER, ANDREA', u'MARTHA', u'MAGUS', u'DOLLAR BILL', u'MANTIS/? BRANDT', u'CARBON', u'KNIGHT ERRANT/MATSON', u'STUNT-MASTER/GEORGE ', u'NEKRA/ADRIENNE HATRO', u'WHITMAN, DEBRA', u'BRADDOCK, JAMES JR. ', u'DUNER, MAJOR', u'ACHEBE, REVEREND DOC', u'MALICE V/NAKIA', u'BERDITCHEV, ITZHAK', u'SANTINI, DR. JOSE', u'PIPER', u'CAT MAN III/', u'JAMESON, J. JONAH', u'CAPTAIN MARVEL/CAPTA', u'PECOS BILL', u'SLEEPER', u'PRIMAX/JAROMEL', u'WAXWORK', u'DUFFY, SGT. MIKE', u'MERLIN', u'BLACK MAMBA/TANYA SE', u'DELPHI', u'BENWAY, DR.', u'ASP II/CLEO', u'PALERMO, HARRIET ROS', u'CYCLOPS/SCOTT SUMMER', u'POLARIS/LORNA DANE', u'MUTO, JUNZO', u'METEORITE', u'MARTINEZ, CARMELLO', u'TEXAS TWISTER/DREW D', u'VANGUARD/NICOLAI KRY', u'MACTAGGERT, MOIRA KI', u'NIGHTMARE/EDVARD HAB', u'SCARLET CENTURION', u'SISTER DREAM', u'LAMY, KELLY', u'RAYMOND, FRED', u'RYAN, THOMAS', u'SPARK', u'PEATOR', u'GHOST', u'RAZORBACK/', u'MOWAT, FARLEY', u'LILANDRA NERAMANI [S', u\"SHANNA/SHANNA O'HARA\", u'ROSS, GEN. THADDEUS ', u'MANGLER/', u'WHITE QUEEN/EMMA FRO', u'BIRD MAN/HENRY HAWK', u'TYCHO', u'MOTHER SUPERIOR', u'INVISIBLE WOMAN/SUE ', u'MR. LUCK II/PHILIP G', u'EVER', u'STORM DOPPELGANGER', u'ERISHKIGEL II/HOLLY ', u'MASTER MAN II/ALEXAN', u'CASSIOPEIA', u'APOLLO [GREEK GOD]', u'LUNA/LUNA MAXIMOFF [', u'THUNDERBIRD II/JAMES', u'UNION JACK II/BRIAN ', u'THINKER', u'MANELLI, DINO', u'SILVER SURFER IMPOST', u'SWORDSMAN II/COTATI', u'NIGHT FLYER', u'RED SHIFT', u'BIG MAN/FREDERICK FO', u'RAMIREZ, MARTA', u'WILLIAMS, MINDY', u'MR. FANTASTIC DOPPEL', u'ABOMINATION/EMIL BLO', u'RAKKUS', u'TEZCATLIPOCA', u'BLISS, MISS', u'SENSATIONAL HYDRA/A ', u'FURY, COL. NICHOLAS ', u'AGENT AXIS/', u'NAKKA', u'ASKANI', u'OZYMANDIAS', u'RAMONDA', u'THENA', u'VISION ', u'TESS-ONE', u'HULK/DR. ROBERT BRUC', u'PRENTISS, BETTY DEAN', u'TALISMAN', u'INDIUM', u'ORPHAN-MAKER/PETER', u'DEADPOOL/JACK/WADE W', u'MR. FANTASTIC/REED R', u'MICAWBER, TRISTRAM', u'BLUE STREAK/', u'KREDDICK', u'JACKSON, ANDREW JOCK', u'TOM THUMB/THOMAS THO', u'BUTCH', u'COUNTERWEIGHT/JACK P', u'SUNDOWN/DR. DAVE LOW', u'SPUNJE', u'LUMPKIN, WILLIE | TI', u'TORPEDO III/BROCK JO', u'ZOLA, ARNIM', u'FER DE LANCE/TERESA', u'IRON MAN/TONY STARK ', u'AMERICOP/', u'CONNORS, BILLY', u'HEADGEAR/', u'PRIMUS', u'POWER MAN/ERIK JOSTE', u'CHAMPION/TRYCO SLATT', u'HULK DOPPELGANGER II', u'HAFNIUM', u'MAGDALENE/MARISSA DA', u'SHAMAN/MICHAEL TWOYO', u'DARE, KATHLEEN', u'BLITZKRIEG/', u'TASKMASTER', u'CHURCH, LYNN', u'SPIDER-MAN CLONE/BEN', u'CONAN, NEAL', u'FAIRMONT, HANNAH', u'TURBO II (A)/MICHIKO', u'SPIRAL', u'CORD, JANICE', u'CAPRICORN/WILLARD WE', u'FEROCIA/', u'SAWYER, GENERAL SAMU', u'SHROUD/MAXIMILLIAN Q', u'SUPER-ADAPTOID/ALESS', u'CAPTAIN TERROR/DAN K', u'LANE, LOIS', u\"DEATHCRY [SHI'AR]\", u'CUSHING, KATE', u'ABSORBING MAN/CARL C', u'GENUARDI, MR.', u'ZIMMER, ABE', u'LEEDS, NED', u'TRITON DOPPELGANGER', u'SCARLET WITCH DOPPEL', u'BUSHMASTER II/QUINCY', u'OSBORN, NORMIE', u'HUXLEY, DR. ALDA', u'RIGHT-WINGER/JEROME ', u'TRASK, LAWRENCE LARR', u'KNIGHT, MISTY', u'ANELLE', u'TITANIA II/MARY SKEE', u'SISTER DEATH', u'LIVING TRIBUNAL', u'TERMINUS', u'KILLOBYTE', u'THALLIUM', u'MOONSTONE/LLOYD BLOC', u'MYSTERIA/', u'GAFF/SIDNEY E. LEVIN', u'COACHWHIP', u'ELECTRO/MAX DILLON', u'MOREAU, PHILLIP', u'TYPHON', u'CASSADA, CARLOS', u'ION/', u'LEADER/SAM STERNS', u'LANGSTROM, LIEUTENAN', u'GAPON, DZHOKHAR', u'JONES, HUGH', u'ZARAN/MAXIMILLIAN ZA', u'YAP', u\"R'TEE\", u'ANT-MAN/DR. HENRY J.', u'MIDGARD SERPENT', u'AKUTAGAWA, OSAMU', u'SPEEDBALL DOPPELGANG', u'BIRD MAN III/', u'TUC', u'DR. NEMESIS/DR. STOC', u'VENOM/EDDIE BROCK', u'ATALANTA', u'CLINTON, BILL', u'SERSI/SYLVIA', u'OLAR', u'MINDWAVE', u'BILLUPS, AGENT', u'PSYNAPSE', u'TILBY, TRISH/PATRICI', u'DAGGER/TANDY BOWEN', u'HOGAN, VIRGINIA PEPP', u'GOLDEN-BLADE', u'HILDY [ASGARDIAN]', u'CENTURY, TURNER D.', u'ULYSSES II', u'INDECH', u'JARVIS, EDWIN | TIME', u'ICE WORM', u'PAGAN', u'IKARIS/IKE HARRIS [E', u'BYRD, SEN. HARRINGTO', u'STRONG GUY DOPPELGAN', u'MOY, ALYSSA', u'TITANIA/', u'POLARIS DOPPELGANGER', u'HAMMER, JUSTIN', u'WALTERS, BILLY', u'NORTHSTAR/JEAN-PAUL ', u'BLAKE, BECKY', u'STINGER II/', u'LEWIS, SHIRLEY WASHI', u'RANSOME, JENNIFER AM', u'JAMESLEY, ALOYSIUS R', u\"CR'REEE\", u'WONG', u'ROGUE DOPPELGANGER', u'SAXON, STARR', u'AJAK/TECUMOTZIN [ETE', u'AUSTIN, SUSAN', u'FATH', u'IRONCLAD', u'CRIMSON DYNAMO V/DIM', u'TAYLOR, LEILA', u'IMPALA/', u'SELENE', u'TULAK', u'MACLAIN, DR. MYRON', u'ARMADILLO/ANTONIO RO', u'VISION DOPPELGANGER ', u'APOCRYPHUS', u'MULTIPLE MAN/JAMES A', u'MISS ITCH/BLISS', u'SWANN, DR. EVAN', u'WILFORD, ETHAN', u'RIOT/HEIDI SLATKIN', u'KURSE/ALGRIM [ASGARD', u'ROM, SPACEKNIGHT', u'GROTESK', u'CHAKARA, KANU', u'GEE/ALEX POWER', u'JUGGERNAUT/CAIN MARK', u'BRUTUS', u'PARIS', u'KRUGGAR', u'BLUE BULLET/PROF. JO', u'BRUTACUS', u'DIABLO/ESTEBAN DE AB', u'3-D MAN/CHARLES CHAN', u'BLACK RACER/', u'LETHA', u'LOVE', u'DEAN, SUSAN', u'DR. DOOM/VICTOR VON ', u'KARKAS [DEVIANT]', u'MASTER MOLD II', u'MALUS, DR. KARL', u'MICHEL, RAFE', u'PUPPY', u'LLYRON', u'OCCULT', u'FATHER TIME', u'DR. SPECTRUM III/REV', u'IRON MAN IV/JAMES R.', u'STORM, SUE | TIMESLI', u'PHOENIX III/RACHEL S', u'LORELEI II/MELODI [A', u'NEWMARK, LOTUS', u'ARTEMIS', u'LUCIFER', u'BULL', u'INFERNO II/JOSEPH CO', u'KINCAID, DR. JANE FO', u'RINGLEADER', u'TORG', u'DUBOIS, NOAH', u'IONELLO, JASON', u'BLACKBALL', u'URICH, BEN', u'MELTER/BRUNO HORGAN', u'SIKORSKY', u'AMPHIBIAN/KINGLEY RI', u'PUCK DOPPELGANGER II', u'MAJOWSKI, SAM MOTHER', u'CARPENTER, RACHEL', u'COLLINS, DEMITRIUS', u'WARGOD/MORA HAGER', u'SETH II', u'DIAMOND HEAD', u'KID COLT', u'NOVA DOPPELGANGER', u'BLOB/FRED J. DUKES', u'OSBORN, HARRY', u'WILSON, JIM', u'FERAL/MARIA CALLASAN', u'BEYONDER', u'OXNARD, PHIL', u'FANDRAL [ASGARDIAN]', u'BRANSON', u'BARON BLOOD/JOHN FAL', u'GORILLA-MAN', u'CITIZEN V II/HELMUT ', u'PARKS, JOE', u'CHINA DOLL', u'KRAUS, DR. FREIDERIC', u'GREMLIN/', u'REYNOLDS, LINDY', u'SPIDER-WOMAN DOPPELG', u'MODT', u'DRAN, DAMON', u'CARTER, JIMMY', u'PUFF ADDER', u'FIZ [SKRULL]', u'BEETLE II/LEILA DAVI', u'BULLSEYE II/BENJAMIN', u'HOARD, JOSH', u'KNICK KNACK', u'RIDDLEY, HIRAM RAM', u'LEEDS, BETTY BRANT', u'MCLAREN, MEGAN', u'RECORDER II', u\"CH'THON\", u'MCPHERSON, LING', u'JAMESON, MARLA MADIS', u'ARON [WATCHER]', u'CLEARWATER, JUDGE MA', u'GREY GARGOYLE/PAUL P', u'MAXIMUS [INHUMAN]', u'BRICKMAN, GLORIA', u'EL JAGUAR', u'KRAMER, KENNY', u'MCKEEVER, TINY', u'SPIDER-WOMAN II/JULI', u'KINCAID, DR. KEITH', u'DECAY II/YOSHIRO HAC', u'LADONNA, HOLLY', u'STANCHEK, DR.', u'WOLVERINE/LOGAN ', u'KEMEL, MEHMET', u'BLACK GOLIATH/DR. WI', u'ELECTRON', u'CASE, COL. PRESTON', u'MIRAGE II/DANIELLE M', u'RUDOLFO, PRINCE', u'VAGABOND/PRISCILLA L', u'JONES, JANIS', u'OSIRIS', u'HALLER, GABRIELLE', u'IRON', u'SILVERMANE/SILVIO MA', u'BODYBAG', u'BUSIEK, KURT', u'SVAROG', u'NEEDLE', u'MODOK/GEORGE TARLETO', u'CASSADA, ROSA', u'ARCLIGHT/PHILLIPA SO', u'POWERSURGE/ILLARION ', u'RAZA LONGKNIFE', u'KULAN GATH', u'IRON MAN DOPPELGANGE', u'CARNAGE/CLETUS KASAD', u'WING, COLLEEN', u'RED GUARDIAN V', u'SAGITTARIUS/HARLAN V', u'GUNTHAR II', u'QUICKSAND', u'APE MAN/GORDON MONK ', u'PIERCE, ALEXANDER GO', u'EXPEDITER II/ZOE CUL', u'JAHF', u'CHAKARA, MADAN', u'THOR II/ROGER RED NO', u'WATER WIZARD/PETE', u'RED RONIN', u'NUADA', u'CHEETAH', u'WONDER MAN/SIMON WIL', u'ROMMEL, EDWIN ROMULU', u'STARK, MORGAN', u'MOLECULE MAN/OWEN RE', u'MADAME MASQUE III', u'GLADIATRIX', u'HOBGOBLIN V/JASON PH', u'DOORMAN', u'RATTLER', u'MYSTIQUE/RAVEN DARKH', u'PRESTER JOHN', u'GREEN, JAMES', u'MADAME MASQUE II/', u'TSURAYABA, MATSUO', u'ARBOGAST, BAMBI', u'STANFORD, DWIGHT ROL', u'QUASAR DOPPELGANGER', u'TOAD/MORTIMER TOYNBE', u'YELLOW CLAW ROBOT', u'RADIOACTIVE MAN/DR. ', u'REVER, BRAD', u'KA-ZAR/KEVIN PLUNDER', u'BLACK MARVEL/DAN LYO', u'BRES', u'TRITON', u'MICROCHIP/LINUS LIEB', u'HOBGOBLIN', u'ZEUS', u'DESTROYER III', u'MIKHLO', u'SHATTERAX', u'SUPREMOR', u'FORGE', u'ODDBALL/ELTON HEALEY', u'QUICKSILVER DOPPELGA', u'BOVA', u\"IRON FIST H'YLTHRI I\", u'SUPREME INTELLIGENCE', u'CHANEY, AMANDA', u'GAMMENON [CELESTIAL]', u'SHAPE', u'MOSLEY, WARDEN', u'VERTIGO', u'ATKINSON, MAJ. EDMON', u'DAN-FARR', u'ZIRAN', u\"T'KYLL ALABAR\", u'MURDOCK, MATT | TIME', u'ST. LAWRENCE, COL. C', u'WHIZZER/ROBERT L. FR', u\"O'BRIEN, MICHAEL\", u'TEMPEST II/NICOLETTE', u'VASHTI', u'BOOMER/TABITHA SMITH', u'TAIFU/TOSHIO SASAKI', u'WETHERELL, MANOLI', u'DEVLOR', u'RYDER', u'SONDHEIM, ERICA', u'CAGE, LUKE/CARL LUCA', u'RON, TALLA', u'NEBULON', u'AQUARIAN/WUNDARR', u'ARIES II/GROVER RAYM', u'TALISMAN II/ELIZABET', u'PROTEUS II', u'FURY, NICK II', u'HARBINGER', u'POWER, MARGARET', u'BIG BERTHA/ASHLEY CR', u'VIPER/JORDON DIXON', u'ARABIAN KNIGHT/ABDUL', u'JONES, DANIEL DANNY', u'PARKER, RICHARD (ROB', u'CRIMSON DYNAMO VI/VA', u'APOCALYPSE/EN SABAH ', u'TEFRAL', u'SMASHER IV', u'LEVIATHAN II/EDWARD ', u'SYNCH/EVERETT THOMAS', u'IRON CROSS/HELMUT GR', u'VOSTOK', u'GAMBIT/REMY LEBEAU ', u'DOPPELGANGER', u'EON', u'DOMINO II', u'MODAM', u'CLEA', u'DIGGER', u'HOUSTON, LT. COMMAND', u'PRINCESS PYTHON/ZELD', u'KRAKEN', u'LOCKLIN, GENERAL MER', u'MORNING STAR/ZVEZDA ', u'AMERICAN EAGLE II/JA', u'MELTON, LORRIE', u'WHITEOUT', u'LARGO, CHIEF', u'MANDARIN', u'DEATHURGE', u\"VIBRAXAS/N'KANO\", u'ONEG', u'RED WOLF III/WILL TA', u'RANDOM', u'MISTER HYDE/CALVIN Z', u'RAMIREZ, JAVIER', u'RAMBEAU, MARIA', u'DONALDSON, LINDA', u'MCELROY, JAMES', u'WHIPLASH II/', u'RED GUARDIAN IV', u'TAUREY, WILLIAM MALC', u'KLIGGER/SEN. EUGENE ', u'BLUE SHIELD/JOSEPH J', u'BOLT II/CHRIS BRADLE', u'OGRE', u'UNUS THE UNTOUCHABLE', u'PARETSKY, DR. GARY', u'GUARDIAN/JAMES MACDO', u'ANGLER', u'FISK, VANESSA', u'NACHT, HERR', u'FIN FANG FOOM/MIDGAR', u'RAMPAGE/STUART CLARK', u'MUTAURUS', u'KENT, CLARK', u'CORBEAU, DR. PETER', u'RUIZ, RIGGER', u'CLARISSA', u'CHARCOAL/CHARLIE BUR', u'MEPHISITOID', u'ROTH, ARNIE', u'FAIRMONT, AMANDA MAN', u'BRUTO THE STRONGMAN/', u'BALE, EMERSON', u'SUMMERS, MADELYNE MA', u'DARKHAWK DOPPELGANGE', u'WARRIOR WOMAN/JULIA ', u'ORB', u'THUNDERBALL/DR. ELIO', u'WHITE DRAGON', u'ROGUE /', u'SINEW/', u'RAKSOR [SKRULL]', u'BRADLEY, HANK', u'BLACK FOX II/', u'VOLCANA/MARSHA ROSEN', u'OGUR', u'STEELE, MARCY MASTER', u'PSI-LORD/FRANKLIN BE', u'MENTOR/ALARS [ETERNA', u'SISTER PLEASURE/SCAR', u'FOOLKILLER II/GREG S', u'GLADIATOR II', u'PLUTO [OLYMPIAN]', u'ALVAREZ, FELIX', u'DEFENSOR', u'TRIATHLON/DELROY GAR', u'FAYRELYTE STRONGHEAR', u'DEGANN, KRIS', u'SETH', u'DAKINI', u'RUNCITER, GAIL', u'DRAGON MAN', u'CAPTAIN BRITAIN/BRIA', u'REDWING', u'SASQUATCH DOPPELGANG', u'DULB', u'BLACK WIDOW/NATASHA ', u'URSA MAJOR/MIKHAIL U', u'ZAFAR, OFFICER JIMMY', u'SHE-HULK DOPPELGANGE', u'SHINSKI, PROFESSOR W', u'DAYTRIPPER/AMANDA SE', u'KRYZEWSKI, LEONARD M', u'HUGIN', u'FIREBUG/', u'MORGAN', u'RANIER, MIKE', u'WEASON, SENATOR', u'HOGARTH, JERYN', u'PROWLER/HOBIE BROWN', u'TIGER SHARK/TODD ARL', u'ULTIMO', u\"M'REEL\", u'FREEMAN, DUANE JEROM', u'PSYLOCKE/ELISABETH B', u\"N'DELE\", u'DIAMOND LIL/LILLIAN ', u'GOLEM/JACOB GOLDSTEI', u'HEYWERTH, GENERAL', u'COUNTERWEIGHT II/KAT', u'FALCON/SAM WILSON', u'FUTURIST', u'PINKERTON, PERCIVAL ', u'TENPIN/ALVIN HEALEY', u'RAVEN, SABBATH', u'THOMAS, COMMANDER DA', u'SPRITE', u'UTGARD-LOKI', u'DORMAMMU', u'THORSON, DR. WALTER', u'LIGHTSPEED/JULIE POW', u'HARKNESS, AGATHA', u'ENCHANTRESS/AMORA/HE', u'STEEPLEJACK II/MAXWE', u'IMMORTUS, MARCUS', u'COHEN, IZZY', u'MACHINE MAN/X-51', u'CHALMERS, JUDGE ROBE', u'FREEMAN, DEREK', u'REYNOLDS, DR.', u'EXECUTIONER III/BRUT', u'EGGHEAD/PROF. ELIHAS', u'STEEL COLLAR', u'STEELE, BOBBY', u'MOONHUNTER/ZACK MOON', u'BUCKY/BUCKY BARNES', u'LADY LOTUS', u'CABE, BETHANY', u'RAMIREZ, LUIS', u'HUNCH', u'KINGMAN, BILL', u'MUNIN', u'TRUMP/', u\"SPIRIT OF '76/WILLIA\", u'TEMPUS', u'CHAR, BRON', u'CALLISTO', u'ROSE IV/JACOB JAKE C', u'LIZARD/DR. CURTIS CO', u'VAKUME', u'IKTHON', u'NORTHSTAR DOPPELGANG', u'BLIND AL/ALTHEA', u'MADAME MASQUE IV', u'MISS MASS/', u'BARTLETT, STU', u'SSSITH', u'HYPERION II', u'VEDA', u'JACKHAMMER', u'GARABED/BASHUR', u'MIRAGE', u'CAPTAIN AMERICA V/RO', u\"N'ASTIRH\", u'SAROYAN, NEAL', u'RHINO', u'TOWER, BLAKE', u'CIR, DYLON', u'BRANNEX', u'BEACH, SPIDER', u'WILD CHILD/KYLE GIBN', u'IRON FIST/DANIEL RAN', u'HOGAN, HAROLD J. HAP', u'RAYMOND, NORA JONES', u'SCREAM', u'X-RAY', u'JONES, RICHARD MILHO', u'AURORA/JEANNE-MARIE ', u'REJECT/RAN-SAK [DEVI', u'RONAN THE ACCUSER [K', u'MIFUNE, DR.', u'BOX/ROGER BOCHS', u'UNION JACK/LORD MONT', u'STONE, CHANTAL', u'DAMBALLAH II', u'PEEL, EMMA', u'SOUL-EATER', u\"D'KEN [SHI'AR]\", u'BLACK KNIGHT V STATU', u'RALF', u'SUMMERS, NATHAN CHRI', u'BAZIN, ALLEGRA', u'BARIUM', u'PALMIOTTI, JIMMY', u'MINDBLAST', u'HARDRIVE', u'DRAGONFLY/VERONICA D', u'MULDOON, TEXAS JACK', u'SET', u'SILVER SABLE', u'GRANT, DONALD', u\"O'BREEN, GLORIANNA\", u'GREY, ELAINE', u'GREY, DR. JOHN', u'LYJA LAZERFIST [SKRU', u'DRAX/ARTHUR DOUGLAS', u'WATSON, ANNA', u'PATRIOT/JEFF MACE', u'HOLOCAUST', u'SPYMASTER II', u'UMAR', u'WALDERS, BEATRICE', u'DOUGHBOY', u'KLEIN, STANLEY', u'WESTPHAL, SIMON', u'TAUREY, SIR WILLIAM', u'STRUCKER, ANDREAS', u'BRICKMAN, SEN. MILES', u'QUINN, PAMELA', u'SERGEI', u'CITIZEN V III/DALLAS', u'POWER, DR. JIM', u'CHAMBER/JONOTHON STA', u'MASTER MAN/WILHELM L', u'POSITRON/RONNIE', u'STEEL WIND', u'DEATHUNT 9000', u'PARKER, MARY (ROBOT)', u'DR. DRUID/ANTHONY LU', u'PLUNDER, ADAM KYLE M', u'FIREBRAND/GARY GILBE', u'BEREET', u'SPAR, DR. KATHERINE ', u'POWELL, JASON', u'THING DOPPELGANGER', u'HAUPTMANN DEUTSCHLAN', u'FRANKENSTEIN MONSTER', u'LARROCA, SALVADORE', u'PARKER, MAY', u'CLOAK/TYRONE JOHNSON', u'CALLAGHAN, JAMES', u'GYPSY MOTH', u'STAPLES, EDNA M. GRA', u'RICHARDS, FRANKLINK ', u'HILARY', u'TERREL, DEBORAH', u'ARSENIC', u'PAGE, KAREN', u'KAMO THARNN', u\"CERISE II [SHI'AR]\", u'GOLDEN GIRL/GWENNY L', u'MADDICKS, ARTHUR ART', u'COLLECTOR/TANELEER T', u'PLANTMAN/SAM SMITHER', u'CONNORS, MARTHA', u'TODD, FISHER', u'LUMPKIN, WILHEMINA B', u'INFOMORPH', u'RAMBEAU, FRANK', u'LONGSHOT', u'FIELSTEIN, FIREWORKS', u'WIDGET', u'WAR TOY/ALKHEMA', u'SHELDON, PHIL', u'U-MAN/MERRANO', u'HYDROMAN/MORRIE BENC', u'LEOPOLD, ARCHER', u'VAPOR', u'DIBBS, LIONEL', u\"T'CHAKA\", u'YELLOWJACKET II/RITA', u'LIVING LIGHTNING/MIG', u'LUBENSKI, NATE', u'CORSAIR', u'WIDOW-MAKER', u'SCORPION/MACDONALD G', u'ACHILLES II/HELMUT', u'SANDOR, PROFESSOR IS', u'SPACE PHANTOM', u'RAHN, TAMARA', u'SUPER-NOVA', u'PSYKLOP', u'I.Q./ISHMAEL QUESTOR', u'SLAG/SLAGHT, DR. THE', u'ROCKET RACER/ROBERT ', u'BOGATYR/MIKULA GOLUB', u'DARLA', u'FOOL', u'MOLTO', u'OVERBOSS DIXON', u'SCREAMING MIMI/MELIS', u'TAGAR', u'GAMBONNO, ERNESTO', u'DONAR', u'DEATH-STALKER', u'BARRAGE', u'ANGAR THE SCREAMER/D', u'MARRINA/MARRINA SMAL', u'THUNDERFIST/', u'PILEDRIVER II/BRIAN ', u'STONECUTTER/UTAMA TO', u'JUSTICE II/VANCE AST', u'GREEN GOBLIN/NORMAN ', u'OBLIVION', u'SCARLET SCARAB/DR. F', u'SCARFE, RAFAEL', u'CASSADA, MICHAEL', u'POWELL, GRACE', u'MASTERS, ALICIA REIS', u'MASTER KHAN/TYRONE K', u'MONTGOMERY, SIR BERN', u'GORGON [INHUMAN]', u'GRON', u'LUDI', u'NANNY II', u'QUEEN DIVINE JUSTICE', u'MARRS(-PAYNE), PHOEB', u'MONGOOSE', u'MURDOCK, SISTER MAGG', u'MARVEL GIRL DOPPELGA', u'ST. THOMAS, JULES', u'MARTINEZ, ALITHA', u'THOR REPLICOID', u'MENTALLO', u'ANSWER II/DAVID FERR', u'FROG MAN/FROG LE BLA', u'LANG, CASSANDRA CASS', u'PENNYWORTH, J.C.', u'JONES, AUGUSTINE', u'HARDERMAN, QUENTIN', u'KINGO SUNEN [ETERNAL', u'ORKA', u'NORRISS, JACK', u'ATTUMA', u'NOVA/RICHARD RIDER', u'CHIEF EXAMINER', u'QUASIMODO', u'CROSSFIRE', u'ANGEL/WARREN KENNETH', u'SANDMAN/WILLIAM BAKE', u'SWORDSMAN III/PHILIP', u'DEVOS THE DEVESTATOR', u'WILBURN, MYRON', u'SHATTERSTAR II/GAVEE', u'NOVA DOPPELGANGER II', u'COPPERHEAD III/DAVIS', u'HARDY, MORGAN MACNEI', u'GARDENER/ORD ZYONYZ ', u'NUKLO/ROBERT FRANK J', u'AGAMEMNON III/', u\"KARMA/XI'AN COY MANH\", u'WANG, LI', u'KORVAC, MICHAEL', u'TYPHOID MARY/MARY ME', u'DORREK [SKRULL]', u'IRON MAN V/TEEN TONY', u'HELLEN', u'BAZIN, BRODERICK RIC', u'RED GHOST/IVAN KRAGO', u'BAZIN, ANDREW', u'SENTRY 459', u'AJAX', u'DESTINY II/IRENE ADL', u'ETERNITY/ADAM QADMON', u'\\ufffdGAMORA', u'JONES, TAMMY ANNE', u'GRAVITON/FRANK HALL', u'BLIZZARD II/DONALD G', u'CERA, KAY', u'TWO-GUN KID', u'ROSEN, WALTER', u'BATTLEAXE/', u'HERMES [GREEK GOD]', u'ANT-MAN II/SCOTT HAR', u'BALDWIN, JUSTIN', u'KLEIN, CAMERON', u'CHLORINE', u'MR. DOLL/NATHAN DOLL', u'ARES [GREEK GOD]', u'PHARAOH RAMA-TUT', u'KEREM', u'BLACK KNIGHT III/EOB', u'JOYCE, SAMANTHA', u'MCKNIGHT, BOB', u'GYRICH, HENRY PETER', u'WIREHEAD', u'THOMPSON, EUGENE FLA', u'EIGHTBALL', u'CAPTAIN MARVEL III/G', u'FONTAINE, CINDER', u'DAREDEVIL DOPPELGANG', u'BETA RAY BILL', u'MILLENIUS', u'KWAN, TERRY', u'MAGMA/AMARA AQUILLA/', u'NIGHTCRAWLER/KURT WA', u'INFERNO III/SAMANTHA', u'HULK III/BRUCE BANNE', u'WALKER, MICKEY', u'KEERG', u'SOPHIE', u'ARKON', u'DORMA [ATLANTEAN]', u'NOVA II/FRANKIE RAYE', u'CAPTAIN AMERICA DOPP', u'SIDEWINDER/SETH VOEL', u'STANKOWICZ, FABIAN', u'TARANTULA/ANTON MIGU', u'SHOCKER/HERMAN SCHUL', u'GARGOYLE II/ISAAC CH', u'BANNER, BETTY ROSS T', u'DORMA II [ATLANTEAN]', u'CHEKOV, ARTHUR ANTON', u'DOC SAMSON/DR. LEONA', u'NUMBERS', u'IMPOSSIBLE MAN', u'BENTLEY, VICTORIA', u'SKIN II/DONNA BLISS', u'JOLT/HALLIE TAKAHAMA', u'HALE, TOM', u'WOLFSBANE DOPPELGANG', u'RASCAL/', u'GARVIN, GEARS', u'BULLDOZER/HENRY CAMP', u'BROWN, MINDY MCPHERS', u'SUNFIRE/SHIRO YOSHID', u'WHIRLWIND/DAVID CANN', u'STANE, OBADIAH', u'ANGEL DOPPELGANGER', u'JONES, MARLO CHANDLE', u'INFINITY II', u'GALACTUS/GALAN', u'PEARSON, AUBREY', u'VOLSTAGG', u'UNCLE SAM', u'HAVOK/ALEX SUMMERS ', u'ARISHEM [CELESTIAL]', u'BLAQUESMITH', u'NELSON, DEBBIE HARRI', u'SILVER SURFER/NORRIN', u\"BLACK PANTHER/T'CHAL\", u'WATSON, KRISTY', u'KID COLT II/ELRIC FR', u'ONSLAUGHT II', u'JOSTEN, LINDY', u'ALEXANDER, CALEB', u'STARR, TRIXIE TRISH', u'MORRELL, SABRINA', u'BALDER [ASGARDIAN]', u'WALDO', u'ZIRCONIUM', u'TOBIAS', u'ROSS, EVERETT KENNET', u'LEVIATHAN IV', u'CONSTRICTOR/FRANK PA', u'CARRERA, MIA', u'TREMONT, JONATHAN', u'BUCKY VII/RIKKI BARN', u'SCATTERBRAIN', u'MARVEL BOY III/ROBER', u'SCORPIO/JAKE FURY', u'DEAN, BETTY', u'MANTIS (SPACE PHANTO', u'GROVES, GEN. MCALLIS', u'BITMAP/', u'RIDGEWAY, DAWN', u'PARKER, MAY | TIMESL', u'JESTER III', u'RAND, HEATHER DUNCAN', u'SIF', u'CHAMPION, IMUS', u'VOICE', u'FLATMAN', u'PRINCESS FEN [ATLANT', u'CHENEY, LILA', u'MANTA', u'JENNINGS, JOSEPH', u'REAPER', u'JAYE-FIRESTONE, GING', u'YELLOW CLAW/TZING JA', u'JONES, GABE', u'DANNING, SHEILA', u'TORK, SGT.', u'SZARDOS, MARGALI', u'RUNNER', u'ASHEMA [CELESTIAL]', u'STALLIOR', u'SUWAN', u'KRIEGHUND, COL.', u'WALKER, SHERIFF CHAN', u'NEPTUNE [OLYMPIAN]', u'LEQUARRE, GERRY', u'TALBOT, GLENN', u'UATU', u'FLYING DUTCHMAN', u'JONES, NELL', u'PROTOCIDE/PRIVATE CL', u'STURDY, PROF. KENNET', u'NETWORK NINA', u'GRANT, MARY MEEKS', u'DEATH ADDER', u'HEIMDALL [ASGARDIAN]', u'NICHOLS, LORNA', u'NUGENT, ALICE', u'MR. SCRATCH II/BLISS', u'BLOOD BROTHERS', u'HUSK/PAIGE GUTHRIE', u'CATHERWOOD', u'PERSUASION/KARA KILL', u'CALIBAN/', u'DABOIA, RUSSELL', u'BLOCKBUSTER II', u'PARKER, PETER | TIME', u'BINARY/CAROL DANVERS', u'TECHNARX', u'RAWHIDE KID', u'JUBILEE/JUBILATION L', u'ZARRKO, ARTHUR', u'JACK FROST/', u'MADAME MASQUE/GIULIE', u'LOR, KONA', u'DEATHLOK/COLONEL LUT', u'SNOWBIRD/NARYA/ANNE ', u'NUMBER NINE', u\"M'DAKA\", u'SABRETOOTH/VICTOR CR', u'EMBER', u'DAREDEVIL/MATT MURDO', u'BARON BRIMSTONE/', u'GLADIATOR/MELVIN POT', u'MARVEL GIRL II/VALER', u'BLOODAXE/JACKIE LUKU', u\"DEATHBIRD [SHI'AR]\", u'FERRO2', u'HULK ROBOT', u'BLOODSTONE/ULYSSES B', u'BLACK KNIGHT V/DANE ', u'STORM DOPPELGANGER I', u'PROMETHEUS II', u'NEZARR', u'KRONOS', u'WRANGLER/', u'ANACONDA/BLANCHE SIT', u'ICEMAN/ROBERT BOBBY ', u'MORDRED THE EVIL', u'FANTASMA', u'SMITH, KEVIN', u'MOONSTOMP/', u'ROMA', u'CRIMSON COWL II/', u'APE MAN II/ROY MCVEY', u'STRONGARM/', u'JORRO', u'GULLIN', u'HERA/AUGUSTINE JONES', u'JAKAR', u'FLEMING, PHILIP', u'MANITOU', u'STARK, MARIA CARBONE', u'NIGHTHAWK/KYLE RICHM', u\"ICON/DR. U'MBAYA A'K\", u'SERESTUS', u'ARAGORN', u'GULADKIN', u'LEAP-FROG/VINCENT PA', u'TECH-NOIR/', u'ERBIUM', u'VAMP', u'ALEXANDER, CARRIE', u'MASON, LOUISE', u'BOLT, COUNCILMAN AND', u'DUGAN, TIMOTHY ALOYI', u'CERBERUS', u'HUNT, JERRY', u'CROSSBONES/BROCK BIN', u\"ERIC THE RED [SHI'AR\", u'ADORA', u'OTHER', u'SPECTRUM, SINCLAIR', u'BOMBSHELL/', u'BUSH, GEORGE', u'MASTERS, DR. AUGUST', u'FAMINE/AUTUMN ROLFSO', u'SHELLSHOCK/', u'LLYRA/LLYRA MORRIS', u'BASALLO/LAVA MEN KIN', u'KALA', u'PICARO/FELIPE', u'STARK, HOWARD | TIME', u'DEPALMA, MR.', u'WARLOCK II/ADAM WARL', u'SCARBO', u'BROWN, LAURA', u'BRUNNHILDE/MCM-XLI (', u'CORSI, TOM', u'GHAUR [DEVIANT]', u'TANAKA, KENJIRO', u'FORGOTTEN ONE/GILGAM', u'BLOCKBUSTER/', u'CAPTAIN WINGS/', u'VENUS II', u'DARK BEAST/HENRY MCC', u'BUCKY VI/', u'TRITON DOPPELGANGER ', u'WEREWOLF BY NIGHT/JA', u'AQUARIUS/DARREN BENT', u'PUENTES, DONNA MARIA', u'HAYWIRE/', u'RED GUARDIAN III/DR.', u'CETHLANN', u'ASTRA', u'BEERE, JASON', u'ITZAMNA', u'FORTUNATO', u'SCOURGE', u'WARKOVSKY, SEN.', u'WITHERS', u'PORTAL/CHARLES LITTL', u'SHE-WOLF/PAULETTE BR', u'PETROVITCH, IVAN', u'NAPIER, RAMONA DR.', u'MAXIMOFF, DJANGO', u'RAVONNA LEXUS RENSLA', u'VIRTUAL REALITY', u'THING/BENJAMIN J. GR', u'IDUNA', u'CYPHER/DOUG RAMSEY', u'MAGNETO/MAGNUS/ERIC ', u'BATROC/GEORGES BATRO', u'HIROMITSU', u'VIRGO/ELAINE MCLAUGH', u'PURPLE MAN/ZEBEDIAH ', u'BROTHER WONDERFUL/DR', u'MIDAS', u'SHARPE, ROSALINDE', u'GALEN KOR, ADMIRAL [', u'OSBORN, LIZ ALLAN', u'TEUTONIC KNIGHT/FRAN', u'VINCENT, DANNY', u'LANN', u'GRIM REAPER/ERIC WIL', u'CARTER, PEGGY', u'WATSON-PARKER, MARY ', u'WINGFOOT, WYNONA', u'IN-BETWEENER', u'STARSHINE II/BRANDY ', u'GRANT, GLORIA GLORY', u'CHADWICK, DR. HESPER', u'BLACKWING/JOSEPH MAN', u'WONDER MAN DOPPELGAN', u'STRONG GUY/GUIDO CAR', u'TERRAXIA', u'REVER, DAN', u'ULIK', u'AVALANCHE/DOMINIC PE', u'GAMBIT DOPPELGANGER', u'HSU, CHEN', u'NIGHT PHANTOM II', u'BOOMERANG/FRED MYERS', u'BEDLAM II/OLISA KABA', u'SPENCER, TRACY', u'DR. DOOM | TIMESLIDE', u'REAGAN, RONALD', u'CHURCHILL, SIR WINST', u'GIDEON', u'LYNNE, MONICA', u'FARREL, MIKE', u'BLACK KNIGHT II/SIR ', u'ZURI', u'SIBERCAT/', u'ROBERTSON, JOE', u'DEATHSTROKE/', u'FERRARI, CONNIE', u'ISAAC', u'JOCASTA', u'ONE ABOVE ALL [CELES', u'WALKER, TESS', u'MEPHISTO', u'SAPRISTI, JERRY', u'BISHOP /', u'JACK FLAG/', u'NELSON, CANDACE', u'UROC', u'HITCHUCK, KELLY', u'ELYSIUS', u'PALERMO, VICTOR', u'HARNESS/ERIKA BENSON', u'QUASAR II', u'FISHMAN, DR. JONATHA', u'GEMINI/JOSHUA LINK', u'KARNILLA [ASGARDIAN]', u'FROH', u'LOKI [ASGARDIAN]', u'BURLINGAME, CALVIN', u'VANISHER', u'ROCK/SAMUEL JOHN ROC', u'BLACK WIDOW DOPPELGA', u'RED GUARDIAN II/ALEX', u'SUNDER', u'AUGUST PERSONAGE IN ', u'QUICKSILVER/PIETRO M', u'DEAD RINGER/LOU', u'URICH, DORIS', u'BLACK KNIGHT IV/PROF', u'VOID', u'CRIMSON DYNAMO III/A', u'SHIP', u'POPEYE', u'MCKENZIE, LYDIA', u'JETSTREAM/HAROUD IBN', u'SHE-HULK/JENNIFER WA', u'BALLANTINE, MR.', u'KRANG [ATLANTEAN]', u'SOUTHERN, CANDY', u'MULDOON, SGT. BRIAN', u'CAPTAIN HAWK', u'BLAZING SKULL/MARK T', u'EHMAN, HEIDI', u'NIGHT THRASHER/DUANE', u'RAMIREZ, ALMA', u'HAWK', u'MINOTAUR', u'THORNN', u'ANTHROMORPHO', u\"CH'OD\", u'KREA, BRUNO', u'DMITRI', u'HALDEMAN, CALVIN', u'BALLANTINE, DEVON', u'TUSK', u'KLINE, MR.', u'LATHAM, JORGE', u'DEATH', u'OKOYE', u'ANDROMEDA/ANDROMEDA ', u'KARNAK [INHUMAN]', u'FREE SPIRIT/CATHY WE', u'DRUID/DREDMUND CROMW', u'VULTURE/ADRIAN TOOME', u'CATAPHRAX', u'RALSTON, SENATOR ROB', u'QUAGMIRE', u'FOXBAT', u'JAWBREAKER/', u'SILVER SURFER DOPPEL', u'PATTERSON, JACK', u'QUARTERMAIN, CLAY', u'CHANDLER, PEGGY', u'RASSITANO, MAD DOG', u'PUNISHER II/FRANK CA', u'STEIN, EMIL', u'THOR III DOPPELGANGE', u'HAWLEY, PAMELA', u'WOO, JIMMY', u'EEL II/EDWARD LAVELL', u'RINGTOSS', u'KID REAPER', u'PEARSON, MARCY', u'COPYCAT/VANESSA', u'HAMMERHEAD', u'LIPSCOMB, DR. ANGELA', u'QUINN, ASHLEY', u'UNION JACK III/JOEY ', u'MASTER/ESHU', u'ROGERS, CAPT. STEVEN', u'EXECUTIONER II/SKURG', u'WISDOM, PETER', u'PROFESSOR X/CHARLES ', u'REBEL/', u'LIVING MONOLITH/AHME', u'LEVAN', u'JARVIS, EDWIN ', u'TIMBERIUS', u'WIZARD/BENTLEY WITTM', u'MULTIPLE MAN DOPPELG', u'JOYBOY', u'RAKIM, SEN. KAMAL', u'GHOST RIDER III/DAN ', u'NAMORITA/NITA PRENTI', u'CRYSTAL [INHUMAN]', u'BLACK KNIGHT IV DOPP', u'RAPIER', u'CALDRONE, JAVIER', u'PERSEPHONE', u'JACKSON, CURTISS', u'STRANG, COL./LT. GAR', u'LADY DEATHSTRIKE/YUR', u'MAGNUM, MOSES', u'GAMBONNO, LUIGI', u'TINKERER', u'STERMAN, ANDREA ANDI', u'PUMA/THOMAS FIREHEAR', u'POUNDCAKES/MARIAN PO', u'BLACK BOLT/BLACKANTO', u'NELSON, FRANKLIN FOG', u'JASON', u'BALLANTINE, MRS.', u'SPIDER-WOMAN/JESSICA', u'TUMBLER/JOHN ROBERT ', u'ZEALOT/MOREAU', u'MANIPULATOR/', u'QUILL', u'TEN FOR', u'EEL/LEOPOLD STRYKE', u'GORGILLA', u'WHYTE, HARMONY (HARM', u'CALCULUS/JAHAHAREL P', u'TORO II/BENITO SERRA', u'VRIES, KALI', u'MARILLA [INHUMAN]', u'TILTON, ROLAND R.', u'PINK PEARL/', u'HARVEY, SUE', u'NIGHTHAWK II/KYLE RI', u'CAGLIOSTRO, ALESSAND', u'VINDICATOR II DOPPEL', u'CONQUEST/BRIDGET MAL', u'TURK', u'MANNING, DR.', u'SUPERIA/WENTWORTH, D', u'TALBOT, MAJ. MATT', u'SIKORSKY, RAYMOND', u'CALEDONIA/ALISANDE S', u'JAMESON, COL. JOHN ', u'PIPELINE/CORMICK GRI', u'BAIRD, DR.', u\"GUARDSMAN/KEVIN O'BR\", u'MALACHI', u'FIRELORD/PYREUS KRIL', u'BARON STRUCKER/WOLFG', u'WILFORD, ELISABETH B', u'ANGEL IV', u'GRIMM, BEN | TIMESLI', u'COTTONMOUTH II', u'HUMAN TOP/DAVEY MITC', u'COLOSSUS II/PETER RA', u\"MAM'SELLE HEPZIBAH\", u'WASP/JANET VAN DYNE ', u'VIZIER', u'MAXWELL, DR. WILFRED', u'MERCADO, JOY', u'SHADOWCAT/KATHERINE ', u'DEATHLOK III/MICHAEL', u'MANIKIN/DR. WHITMAN ', u'ARCADE/', u'BLASTAAR', u'RED SKULL/JOHANN SCH', u'DELGADO, FATHER', u'WALTERS, CHAP', u'SHOOTING STAR', u'CONTROLLER/BASIL SAN', u'VOLLA', u'MENTOR II', u'MADISON, TAYLOR', u'RED WOLF/WILDRUN', u'GOBLYN', u'ZOTA, CARLO', u'BLACK BRIGADE', u'LOBO', u'PYRO/ALLERDYCE JOHNN', u'HELLRAZOR', u'IGOR', u'SHAMROCK/MOLLY FITZG', u'FROG-MAN II/EUGENE P', u'VERMIN/EDWARD WHELAN', u'SILVERCLAW/LA GARRA ', u'MARIN, DR.', u'DIAMONDBACK II/RACHE', u'CYBELE [ETERNAL]', u'KOSINSKI, HARLEY', u'RADCLIFFE, TODD', u'MINISTER BLOOD', u'PELTINO, LT.', u'KRUMA, TALIA', u'MCGIVENEY, BULL', u'JACKSON, STEVE', u'FRANKENSTEIN, BASIL', u'ZCANN', u'PROMETHEUS [OLYMPIAN', u'JOHNNY APPLESEED/JON', u'GEORGE, DAVID LLOYD', u'MARRS, DESMOND', u'ZABU', u'THUNDERSWORD', u'FIN/PETER NOBLE', u'PROCTOR', u'HANCOCK, CALISTA', u'VECTOR', u'MARTINELLI, VINCENT ', u'ULTIMATOR/', u'MAN-THING/THEODORE T', u'METEORITE III/VALERI', u'KOFI [KYMELLIAN]', u'BLACKBIRD/', u'MERRYWEATHER, IRENE', u'RAMOS, ROGER', u'QUASAR III/WENDELL V', u'DIVINITY', u'DR. VOLKH/VLADIMIR O', u'PONG, WU', u'AURORA DOPPELGANGER', u'WHITE WOLF/HUNTER', u'CYCLOPS DOPPELGANGER', u'DORNOVA-BLONSKY, NAD', u'JEROME, JASON', u'CARNIVORE/COUNT ANDR', u'BEACH, GINGER', u'NEVILLE, KATE', u'CANNONBALL/JACK PULV', u'WOLFE, MR.', u'BENEDICT', u'ZEDRAO, GENERAL', u'PERRIKUS', u'JOSEPH', u'SPRAGG', u'ALDEN, PROF. MEREDIT', u'SCHEMER/RICHARD FISK', u'STORM, CHILI', u'COBALT', u'FOREIGNER/RAFAEL BAS', u'BEAST/HENRY &HANK& P', u'PUPPET MASTER/PHILLI', u'FLAG-SMASHER', u'MACKENZIE, AL', u'SIMON, ALEX FLORES', u'DEVIL-SLAYER/ERIC SI', u'HATE-MONGER/ADOLF HI', u'STORM/ORORO MUNROE S', u'MEDUSA/MEDUSALITH AM', u'TORO/TOM RAYMOND', u'ADAMS, CINDY', u'CARTER, SHARON', u'MAGNUS', u'NEBULA', u'DR. STRANGE/STEPHEN ', u'BRIDGE, GEORGE WASHI', u'BOWEN, FATHER MICHAE', u'GARCIA, REV.', u'THOR/DR. DONALD BLAK', u'RICHARDS, FRANKLIN B', u'MOON KNIGHT/MARC SPE', u'KITCHENER, CHIEF INS', u'STARFOX/EROS', u'LIVING LASER/ARTHUR ', u'SLEEPWALKER', u'HEPHAESTUS', u'MEGGAN', u'LUMPKIN, WILLIAM WIL', u'DR. SPECTRUM II/DR. ', u'DESTRUCTOR/PROFESSOR', u'SCANDIUM', u'TWAKI, DR. TED', u'GAUNTLET', u'BALOR', u'MAGRUDER, ALLIE', u'STELLARIS/LEAH PRINC', u'THUNDERBIRD III/NEAL', u'RAMAN', u'ICEMAN DOPPELGANGER', u'BLACK KNIGHT/SIR PER', u'BLOODLUST', u'QUASAR DOPPELGANGER ', u'MIMIC/CALVIN RANKIN', u'BEEFER', u'SHALAK', u'WINDSHEAR/COLIN ASHW', u'ELEKTRA/ELEKTRA NATC', u'YELLOWJACKET III/HEN', u'LIVING MUMMY', u'RED SKULL II/ALBERT ', u'DOMINO III/BEATRICE/', u'PEREZ, GEORGE', u'SITWELL, JASPER', u'GAZELLE', u'LECLAIRE, PROFESSOR ', u'COLOSSUS', u'SCRATCH, NICHOLAS', u'TRAPSTER/PETER PETRU', u'SVYATOGOR/SASHA POKR', u'PRINCE, DIANA', u'IMPULSE', u'PRINCE REY', u'HOGUN [ASGARDIAN]', u'HYDRON', u'TYRAK', u'MAN-KILLER/KATRINA L', u'CITIZEN V/JOHN WATKI', u'KRAVEN THE HUNTER II', u'THANOS', u'KLAW/ULYSSES KLAW', u'WOLVERINE DOPPELGANG', u'SHANG-CHI', u'STARK, MARIA | TIMES', u'SPIDER-MAN III/MARTH', u'GAEA', u'DR. PHOBOS', u'DARKHAWK/CHRIS POWEL', u'HIBBERT, HOPE', u'PORCUPINE/ALEX GENTR', u'THUNDERSTRIKE/ERIC K', u'TYRANNUS', u'KIRBY, JACK', u'SYBYL DORN', u'KUBIK', u'HUMAN TORCH DOPPELGA', u'SISTER AGONY', u'REPTYL', u'THUG', u\"KISMET/J'RIDIA STARD\", u'DAKESIAN, NANCI', u'ENRAGED', u'KAPPELBAUM, MRS.', u'HECTOR II', u'ERWIN, MORLEY', u'HULK DOPPELGANGER', u'BERSERKER', u'MARX', u'BARONESS ZEMO/HEIKE', u'UNICORN/MYLOS MASARY', u'USAGENT DOPPELGANGER', u'INVISIBLE WOMAN DOPP', u'4-D MAN/MERCURIO', u'DONOHUE, TREVOR', u'TEN-THIRTIFOR', u'ATLAS', u'VALINOR', u'KYLUN/COLIN MCKAY', u'CAT MAN/HORGAN', u'BATTLESTAR/LEMAR HOS', u'MR. SINISTER/NATHAN ', u'BEAST DOPPELGANGER', u'SWORDSMAN/JACQUES DU', u'RED RAVEN', u'MECHAMAGE/', u'KNOCKOUT', u'REPTILLA', u'LEFT-WINGER/HECTOR L', u'DEKKER, GENERAL LYLE', u'NORRISS, SISTER BARB', u'SATANNISH', u'GRANT, PHILLIP', u'ARSENAL', u'JONES, LORRAINE LORR', u'DE LA SALLE, BEATRIC', u'TIGRA/GREER NELSON', u'SCOURGE II/', u'SUNSPOT/ROBERTO DACO', u'NIGHTSHADE/TILDA', u'GRIFFIN II/JOHNNY HO', u'ZEMO/BARON HEINRICH ', u'ROOSEVELT, FRANKLIN ', u'WHIZZER II/STANLEY S', u'INSHALLAH, KHALID', u'EGO', u'LADY LARK/LINDA LEWI', u'BUNYAN, PAUL', u'WITCHFIRE', u'STRYFE', u'WARTON/WARBECK', u\"ZA'KEN\", u'CENTURY', u'LANSING, CHERYL', u'WILD CHILD DOPPELGAN', u'MILLER, FRANK', u'SASQUATCH/WALTER LAN', u'MOONDRAGON/HEATHER D', u'SHAMAN II', u'LORELEI', u'LIBRA/GUSTAV BRANDT', u'SNAPDRAGON/SHEOKE SA', u'ROCK PYTHON', u'SPEEDBALL/ROBBIE BAL', u'CARINA/CARINA WALTER', u'GLENN, HEATHER', u'LEECH', u'CAMPBELL, DR. RORY', u'BLOODWRAITH/SEAN DOL', u'SLOAN, FRED', u'PROFESSOR X DOPPELGA', u'FIRESTAR DOPPELGANGE', u'FITZPATRICK, WILL', u'BLAIRE, CARTER', u'SPIDERCIDE', u'LEE, STAN', u'PATHWAY/LAURA DEAN', u'ICE PRINCESS/', u'SABRA/RUTH BAT-SERAP', u'BLACK TALON II/SAMUE', u'TEMPEST/GRANNZ', u'DR. SPECTRUM/JOSEPH ', u'KUROV, WASSILY', u'HATE', u'HYENA/HENRY MORTONSO', u'HUMAN TORCH ANDROID/', u'RAMIREZ, ROSA', u'HALE, NAN', u'JONES, CHARLOTTE', u'SILHOUETTE', u'HOTSHOT/LOUIS', u'HATE-MONGER V', u'LIBRA III/', u'HERCULES [GREEK GOD]', u'FIREBIRD/BONITA JUAR', u'CHESNEY, SANFORD', u'HUDSON, HEATHER', u'BRANNEX, ALLESSANDRO', u'GOLDDIGGER', u'BLUE DIAMOND/PROFESS', u'EVERETT, BILL', u'BANSHEE/SEAN CASSIDY', u'CHAMELEON/DMITRI SME', u'BOX IV/MADISON JEFFR', u'YANDROTH', u'HAWKEYE DOPPELGANGER', u'TABOO', u'CLAREMONT, CHRIS', u'BALLANTINE, KAYLA', u'RAYMOND, ANN', u'PHOENIX II', u'NURO', u'ASTROVIK, NORMA', u'BRAIN DRAIN/WERNER S', u'SAPPER', u'CUTTHROAT/DANIEL LEI', u'TAI II', u\"MIDNIGHT/M'NAI\", u'MASTERSON, KEVIN', u'MAKKARI/MIKE KHARY/I', u'KITAGOWA, DR. KITTY', u'JACKSON, CELIA', u'TECHNOSPIKE', u'DRACULA/VLAD TEPES', u'HELLSTORM/DAIMON HEL', u'DIONYSUS [GREEK GOD]', u'ASBESTOS LADY', u'CASSADA, ROBERTO', u'ALANYA', u'LOCKHEED', u'HORTON, PROFESSOR PH', u'PIP/PRINCE GOFERN', u'STERN, ROGER', u'STONE, LT. MARCUS', u'HAGER, GENERAL', u'SKUNGE', u'HUNTARA/MARY ELIZABE', u'MASTER ORDER', u'PISCES/NOAH PERRICON', u'MYSTERIO/QUENTIN BEC', u'VERTIGO II', u'KHORYPHOS [ETERNAL]', u'MADDEN, CHET', u'DOOMSDAY MAN', u'VIBRO/DR. FRANCIS VI', u'DAZZLER II/ALLISON B', u'CORRUPTOR/JACKSON DA', u'GROWING MAN', u'THANOS DOPPELGANGER', u'ANTOINETTE, MARIE', u'COMMCAST/GARABED BAS', u'FIXER II/PAUL NORBER', u'ODIN [ASGARDIAN]', u'SENTINELS', u'MADCAP', u'DANSEN MACABRE', u'MARRERO, ED', u'MOLE MAN/HARVEY RUPE', u'CHAPMAN, GEN. ULYSSE', u\"S'YM\", u'CONTEMPLATOR/TATH KI', u'DR. OCTOPUS/OTTO OCT', u'NOMAD III/JACK MONRO', u'STEED, JOHN', u'KINGPIN/WILSON FISK', u\"EMPRESS S'BYLL [SKRU\", u'RINTRAH', u'ANNIHILUS', u'THUNDRA', u'PAPA HAGG', u'LANCER/SAMANTHA DUNB', u'RAGE/ELVIN DARYL HAL', u'MERLYN', u'MISS AMERICA/MADELIN', u'GRIFFITH, D.W.', u'ARIES/MARCUS LASSITE', u'SCARECROW/EBENEZER L', u'VISION DOPPELGANGER', u'MAGIC', u'NEWELL, DIANE ARLISS', u'SABUKI, DR. SAM', u'DAVID, PETER', u'STUART, DR. ALISTAIR', u'SCARLET WITCH/WANDA ', u'PHOSPHORUS', u'BEAST DOPPELGANGER I', u'HUMAN TORCH/JOHNNY S', u'NITAL, DR.', u'JINKU', u'SUB-MARINER/NAMOR MA', u'DICE/ROB FORTUNE', u'CAPTAIN MARVEL II/MO', u'MACHETE/FERDINAND LO', u'GOLDEN ARCHER II/WYA', u'COUNT NEFARIA, LUCHI', u\"SUPER SKRULL/KL'RT\", u'CICERO, CAESAR BIG C', u'BLACK CROW/JESSE BLA', u'ELATHAN', u'BOOMSLANG/', u'LUMP', u'MOCKINGBIRD/DR. BARB', u'VENUS/APHRODITE/VICT', u'LEGION II/DAVID HALL', u'GATECRASHER', u'FANG', u'SENTRY II/BOB REYNOL', u'STRIDER', u'LEO/DANIEL RADFORD', u'RINGMASTER/MAYNARD T', u'SLUG/ULYSSES X. LUGM', u'TOLLIVER, SHERIFF JO', u'PROFESSOR POWER/ANTH', u'FACE/COL. EISEN', u'POTTER, BETSY BEATTY', u'SATURNYNE, OPAL LUNA', u'ULTIMUS', u'JACK OF HEARTS/JACK ', u'TOMMY LIGHTNING/', u'KRAVEN THE HUNTER/SE', u'THING DOPPELGANGER I', u'WINGFOOT, WYATT', u'HELA [ASGARDIAN]', u'X-MAN/NATHAN GREY ', u'GRAPPLER', u'BARTON, SEN.', u'FORTUNE, DOMINIC', u'DEMOLITION MAN DOPPE', u'RAA', u'EMPATH/MANUEL ALFONS', u'DE LA FONTAINE, CONT', u'STALIN, JOSEF', u'MORGAN, DR. VIVIAN', u'BLACK AVENGER/JERRY ', u'CHADWICK, CHEER', u'COLOSSUS II DOPPELGA', u'MS. MARVEL II/SHARON', u'WHIPLASH/MARK SCARLO', u'STINGRAY/DR. WALTER ', u'GAMECOCK/', u'NAMORITA DOPPELGANGE', u'STONE, TIBERIUS', u'RINGO KID', u'GRANDMASTER/EN DWI G', u'SANADA, KONO', u'EBONY', u'KLEIN, SHIRLEY', u'BLACK KNIGHT V DOPPE', u'KRAMER, STACEY', u'COLLINS, EMMA', u'MOONDRAGON DOPPELGAN', u'DARKSTAR/LAYNIA SERG', u'MARVEL BOY VI', u'PERUN', u'FANTASIA', u'STRANGER', u'DRUMM, JERICHO', u'KING GEORGE VI', u'ATHENA [GREEK GOD]', u'FLORES, JAMIE', u'ACROBAT/CARL ZANTE', u'LORD CHAOS', u'CANTOR, VERA', u'TAURUS/CORNELIUS VAN', u'YRDISIS', u'CACHE', u'BAZIN, PHILLIPPE', u'WRECKER III/DIRK GAR', u'GHOST RIDER II/JOHNN', u'BILE/', u'CANNONBALL II/SAM GU', u'DRAX DOPPELGANGER', u'PARALYZER', u'SOLO/', u'ISLEY, LYNN', u'PAINTER/WILHELM VON ', u'CAREGIVER/RUBANNA LA', u'THIN MAN/BRUCE DICKS', u'PALADIN/PAUL DENNIS', u'SKIN/ANGELO ESPINOSA', u'USAGENT/CAPTAIN JOHN', u'NIGHT RIDER', u'MALICE III', u'MARVEL GIRL/JEAN GRE', u'BYRRAH [ATLANTEAN]', u'ADAMS, NICOLE NIKKI', u'SAVANNAH, LOU-ANN', u'HIGH EVOLUTIONARY/HE', u'CYCLONE', u'CORTEZ, FABIAN', u'SIRYN/THERESA ROURKE', u'PAIBOK, CAPT. [SKRUL', u'COBRA/KLAUS VORHEES', u'BOSHLOVOR', u'HITLER, ADOLF', u'RINGER/ANTHONY TONY ', u'BEETLE/ABNER RONALD ', u'MASON, JOHN', u'WEBSTER, NORM', u'HARDY, STAN', u'MCCALL, MEREDITH | T', u'KRISTOFF/KRISTOFF VE', u'CANCER/JACK KLEVENO', u'MICROMAX/SCOTT WRIGH', u'BORA', u'SODIUM', u'DAKIMH THE ENCHANTER', u'MINERVA [KREE]', u'MASTERMIND III', u'ESON [CELESTIAL]', u'WAYOPEX', u'ARCANNA/ARCANNA JONE', u'LOGA', u'DEMOLITION MAN/DENNI', u'SMUGGLER II/CONRAD J', u'DEAN, DARBY', u'CRUCIBLE/BYRON CALLE', u'CLOWN/CRAFTY ELIOT F', u'ANCIENT ONE', u'CARGIL/JOANNA CARGIL', u'SLITHER', u'STARK, HOWARD', u'SPIDER-MAN/PETER PAR', u'TETHRA', u'CATWALK/KIMBERLY DEE', u'DARK CRAWLER', u'MONTGOMERY', u'BOUNTY II', u'MOONSTONE II/KARLA S', u'CARTER, SHARON II', u'ULTRON', u'HYPERION', u'TICKTOCK', u'FUJIKAWA, RUMIKO', u'HERCULES DOPPELGANGE', u'WATCHDOG', u'DINAH-SOAR', u'NOMAD II/EDWARD FERB', u'RIVERA, DR. JASON', u'COOPER, DR. VALERIE', u'MAGIK/ILLYANA RASPUT', u'BLACK CAT/FELICIA HA', u'BROTHERS GRIMM II/BA', u'WARLOCK III', u'TYNDAR', u'PUCK/EUGENE MILTON J', u'DOMINEX', u'ROSENTHAL, BERNIE', u'WARSTAR', u'MORLAK, MARIS', u'FLYING TIGER', u'IRON MAIDEN/', u'TIAMAT', u'POWELL, JONATHAN', u'MESMERO', u'QUEEN KNORDA/NORA QU', u'EVERY-MAN', u'HELLCAT/PATSY WALKER', u'MAD DOG/COLONEL BUZZ', u'DWELLER IN DARKNESS', u'COLLECTIVE MAN', u\"MAN-APE/M'BAKU\", u'KOENIG, ERIC', u'DYNA-MITE/ROGER AUBR', u'BENNING, VERONICA', u'MAINFRAME II', u'HUNTER, LANCE', u'DISPROSIUM', u'NIXON, RICHARD', u'BROMWELL, DR.', u'BROTHER VOODOO/DANIE', u'REDEEMER/CRAIG SAUND', u'WOLFSBANE/RAHNE SINC', u'AMERICAN EAGLE III/J', u'MIDNIGHT III/JEFFREY', u'BLACKOUT/MARCUS DANI', u'KUROKO/', u'ORACLE/LADY SIBYL', u'LOCKJAW [INHUMAN]', u'HUMAN ROBOT', u'AVIOS', u'CHORD, ANDREW', u'SHARK/', u'MOON KNIGHT DOPPELGA', u'KARNAK DOPPELGANGER', u'BALDWIN, MADELYNE MA', u'LE FEY, MORGAN', u'VIPER II', u'TITAN', u'TATTERDEMALION/', u'SPITFIRE/LADY JACQUE', u'HUMUS SAPIEN', u'MASTERMIND/JASON WYN', u'STILT-MAN/WILBUR DAY', u'TREVOR, STEVE', u'SOLARR', u'HARRIS, EDDIE', u'THANE ECTOR', u'ANGEL III/HALLOWAY', u'SHAPER OF WORLDS', u'HENRY, JOHN', u'FIRESTAR/ANGELICA JO', u'TAYLOR, JACK', u'TERRAX II/TYROS', u'MR. IMMORTAL'))]\n"
     ]
    }
   ],
   "source": [
    "network_to_touch = network_rdd.filter(lambda x: x[0] == start_node)\n",
    "print network_to_touch.take(1)"
   ]
  },
  {
   "cell_type": "code",
   "execution_count": 35,
   "metadata": {
    "collapsed": true
   },
   "outputs": [],
   "source": [
    "distance_rdd = network_to_touch.map(lambda x: (x[0], 0))"
   ]
  },
  {
   "cell_type": "code",
   "execution_count": 36,
   "metadata": {
    "collapsed": true
   },
   "outputs": [],
   "source": [
    "nodes_to_touch = network_to_touch.flatMap(lambda x: x[1])"
   ]
  },
  {
   "cell_type": "code",
   "execution_count": 37,
   "metadata": {
    "collapsed": true
   },
   "outputs": [],
   "source": [
    "unique_nodes_to_touch = nodes_to_touch.distinct()"
   ]
  },
  {
   "cell_type": "markdown",
   "metadata": {},
   "source": [
    "Now append these to the distance_rdd. "
   ]
  },
  {
   "cell_type": "code",
   "execution_count": 38,
   "metadata": {
    "collapsed": true
   },
   "outputs": [],
   "source": [
    "updated_touched_nodes = unique_nodes_to_touch.map(lambda x: (x, 1))"
   ]
  },
  {
   "cell_type": "code",
   "execution_count": 39,
   "metadata": {
    "collapsed": false
   },
   "outputs": [
    {
     "data": {
      "text/plain": [
       "[(u'QUESADA, JOE', 1),\n",
       " (u'PARKER, MAY | TIMESL', 1),\n",
       " (u'SILVER SAMURAI/KENYU', 1),\n",
       " (u'STORM, CHILI', 1),\n",
       " (u'JESTER III', 1)]"
      ]
     },
     "execution_count": 39,
     "metadata": {},
     "output_type": "execute_result"
    }
   ],
   "source": [
    "updated_touched_nodes.take(5)"
   ]
  },
  {
   "cell_type": "code",
   "execution_count": 40,
   "metadata": {
    "collapsed": true
   },
   "outputs": [],
   "source": [
    "updated_distance_rdd = distance_rdd.union(updated_touched_nodes)"
   ]
  },
  {
   "cell_type": "code",
   "execution_count": 41,
   "metadata": {
    "collapsed": false
   },
   "outputs": [
    {
     "data": {
      "text/plain": [
       "[(u'CAPTAIN AMERICA', 0),\n",
       " (u'QUESADA, JOE', 1),\n",
       " (u'PARKER, MAY | TIMESL', 1),\n",
       " (u'SILVER SAMURAI/KENYU', 1),\n",
       " (u'STORM, CHILI', 1)]"
      ]
     },
     "execution_count": 41,
     "metadata": {},
     "output_type": "execute_result"
    }
   ],
   "source": [
    "updated_distance_rdd.take(5)"
   ]
  },
  {
   "cell_type": "markdown",
   "metadata": {},
   "source": [
    "We now reduce by key!"
   ]
  },
  {
   "cell_type": "code",
   "execution_count": 42,
   "metadata": {
    "collapsed": false
   },
   "outputs": [],
   "source": [
    "def get_smaller_value(a, b):\n",
    "    if a < b:\n",
    "        return a\n",
    "    else:\n",
    "        return b"
   ]
  },
  {
   "cell_type": "code",
   "execution_count": 43,
   "metadata": {
    "collapsed": true
   },
   "outputs": [],
   "source": [
    "corrected_distance_rdd = updated_distance_rdd.reduceByKey(get_smaller_value)"
   ]
  },
  {
   "cell_type": "code",
   "execution_count": 44,
   "metadata": {
    "collapsed": false
   },
   "outputs": [],
   "source": [
    "muffin = corrected_distance_rdd.collectAsMap()"
   ]
  },
  {
   "cell_type": "markdown",
   "metadata": {},
   "source": [
    "Now we have to apply this a bunch of times. Then we are all set. The piece I was missing was reduce by key.\n",
    "\n",
    "Let's make a class to handle this. Let's make that class in a separate file and import it or it's going to be very annoying."
   ]
  },
  {
   "cell_type": "markdown",
   "metadata": {},
   "source": [
    "Also, let's figure out how to join the distance rdd to what we need."
   ]
  },
  {
   "cell_type": "code",
   "execution_count": 45,
   "metadata": {
    "collapsed": false
   },
   "outputs": [],
   "source": [
    "already_touched_rdd = corrected_distance_rdd.map(lambda x: x[0])\n",
    "already_touched = already_touched_rdd.collect()"
   ]
  },
  {
   "cell_type": "code",
   "execution_count": 46,
   "metadata": {
    "collapsed": false
   },
   "outputs": [],
   "source": [
    "already_touched_set = set(already_touched)"
   ]
  },
  {
   "cell_type": "code",
   "execution_count": 47,
   "metadata": {
    "collapsed": false
   },
   "outputs": [],
   "source": [
    "broadcasted_touched = sc.broadcast(already_touched_set)"
   ]
  },
  {
   "cell_type": "code",
   "execution_count": 48,
   "metadata": {
    "collapsed": false
   },
   "outputs": [],
   "source": [
    "network_to_touch = network_rdd.filter(lambda x: x[0] in broadcasted_touched.value)"
   ]
  },
  {
   "cell_type": "markdown",
   "metadata": {},
   "source": [
    "This is a good way to do it and avoids a nasty join."
   ]
  },
  {
   "cell_type": "markdown",
   "metadata": {},
   "source": [
    "# Applying my class"
   ]
  },
  {
   "cell_type": "markdown",
   "metadata": {},
   "source": [
    "This makes no sense. Can we run the eval function instead of importing...?"
   ]
  },
  {
   "cell_type": "code",
   "execution_count": 94,
   "metadata": {
    "collapsed": true
   },
   "outputs": [],
   "source": [
    "from BFS import BFS"
   ]
  },
  {
   "cell_type": "markdown",
   "metadata": {},
   "source": [
    "## Captain America"
   ]
  },
  {
   "cell_type": "code",
   "execution_count": 62,
   "metadata": {
    "collapsed": false
   },
   "outputs": [],
   "source": [
    "searcher = BFS(sc, 'CAPTAIN AMERICA', network_rdd)"
   ]
  },
  {
   "cell_type": "code",
   "execution_count": 63,
   "metadata": {
    "collapsed": false
   },
   "outputs": [],
   "source": [
    "for i in range(10):\n",
    "    searcher.do_iteration()"
   ]
  },
  {
   "cell_type": "code",
   "execution_count": 65,
   "metadata": {
    "collapsed": false
   },
   "outputs": [],
   "source": [
    "captain_america_result = searcher.collected_distance_rdd"
   ]
  },
  {
   "cell_type": "code",
   "execution_count": 68,
   "metadata": {
    "collapsed": false
   },
   "outputs": [],
   "source": [
    "muffin = dict(captain_america_result)"
   ]
  },
  {
   "cell_type": "code",
   "execution_count": 71,
   "metadata": {
    "collapsed": false,
    "scrolled": false
   },
   "outputs": [
    {
     "data": {
      "text/plain": [
       "(array([  1.00000000e+00,   0.00000000e+00,   0.00000000e+00,\n",
       "          1.90600000e+03,   0.00000000e+00,   0.00000000e+00,\n",
       "          4.46300000e+03,   0.00000000e+00,   0.00000000e+00,\n",
       "          3.80000000e+01]),\n",
       " array([ 0. ,  0.3,  0.6,  0.9,  1.2,  1.5,  1.8,  2.1,  2.4,  2.7,  3. ]),\n",
       " <a list of 10 Patch objects>)"
      ]
     },
     "execution_count": 71,
     "metadata": {},
     "output_type": "execute_result"
    },
    {
     "data": {
      "image/png": "[encoded data removed]",
      "text/plain": [
       "<matplotlib.figure.Figure at 0x7fb35d999ad0>"
      ]
     },
     "metadata": {},
     "output_type": "display_data"
    }
   ],
   "source": [
    "plt.hist(muffin.values())"
   ]
  },
  {
   "cell_type": "markdown",
   "metadata": {},
   "source": [
    "Cool. The number of nodes touched are"
   ]
  },
  {
   "cell_type": "code",
   "execution_count": 72,
   "metadata": {
    "collapsed": false
   },
   "outputs": [
    {
     "data": {
      "text/plain": [
       "6408"
      ]
     },
     "execution_count": 72,
     "metadata": {},
     "output_type": "execute_result"
    }
   ],
   "source": [
    "len(muffin)"
   ]
  },
  {
   "cell_type": "markdown",
   "metadata": {},
   "source": [
    "## Miss Thing/Mary"
   ]
  },
  {
   "cell_type": "code",
   "execution_count": 73,
   "metadata": {
    "collapsed": true
   },
   "outputs": [],
   "source": [
    "searcher = BFS(sc, 'MISS THING/MARY', network_rdd)"
   ]
  },
  {
   "cell_type": "code",
   "execution_count": 74,
   "metadata": {
    "collapsed": true
   },
   "outputs": [],
   "source": [
    "for i in range(10):\n",
    "    searcher.do_iteration()"
   ]
  },
  {
   "cell_type": "code",
   "execution_count": 75,
   "metadata": {
    "collapsed": true
   },
   "outputs": [],
   "source": [
    "thing_list = searcher.collected_distance_rdd"
   ]
  },
  {
   "cell_type": "code",
   "execution_count": 77,
   "metadata": {
    "collapsed": true
   },
   "outputs": [],
   "source": [
    "muffin = dict(thing_list)"
   ]
  },
  {
   "cell_type": "code",
   "execution_count": 78,
   "metadata": {
    "collapsed": false
   },
   "outputs": [
    {
     "data": {
      "text/plain": [
       "(array([ 1.,  0.,  0.,  0.,  0.,  0.,  0.,  0.,  0.,  6.]),\n",
       " array([ 0. ,  0.1,  0.2,  0.3,  0.4,  0.5,  0.6,  0.7,  0.8,  0.9,  1. ]),\n",
       " <a list of 10 Patch objects>)"
      ]
     },
     "execution_count": 78,
     "metadata": {},
     "output_type": "execute_result"
    },
    {
     "data": {
      "image/png": "[encoded data removed]",
      "text/plain": [
       "<matplotlib.figure.Figure at 0x7fb35d1b3a90>"
      ]
     },
     "metadata": {},
     "output_type": "display_data"
    }
   ],
   "source": [
    "plt.hist(muffin.values())"
   ]
  },
  {
   "cell_type": "code",
   "execution_count": 79,
   "metadata": {
    "collapsed": false
   },
   "outputs": [
    {
     "data": {
      "text/plain": [
       "7"
      ]
     },
     "execution_count": 79,
     "metadata": {},
     "output_type": "execute_result"
    }
   ],
   "source": [
    "len(muffin)"
   ]
  },
  {
   "cell_type": "markdown",
   "metadata": {},
   "source": [
    "## Orwell"
   ]
  },
  {
   "cell_type": "code",
   "execution_count": 80,
   "metadata": {
    "collapsed": true
   },
   "outputs": [],
   "source": [
    "searcher = BFS(sc, 'ORWELL', network_rdd)"
   ]
  },
  {
   "cell_type": "code",
   "execution_count": 81,
   "metadata": {
    "collapsed": true
   },
   "outputs": [],
   "source": [
    "for i in range(10):\n",
    "    searcher.do_iteration()"
   ]
  },
  {
   "cell_type": "code",
   "execution_count": 82,
   "metadata": {
    "collapsed": true
   },
   "outputs": [],
   "source": [
    "orwell_list = searcher.collected_distance_rdd"
   ]
  },
  {
   "cell_type": "code",
   "execution_count": 84,
   "metadata": {
    "collapsed": true
   },
   "outputs": [],
   "source": [
    "muffin = dict(orwell_list)"
   ]
  },
  {
   "cell_type": "code",
   "execution_count": 85,
   "metadata": {
    "collapsed": false
   },
   "outputs": [
    {
     "data": {
      "text/plain": [
       "(array([ 1.,  0.,  0.,  0.,  0.,  0.,  0.,  0.,  0.,  8.]),\n",
       " array([ 0. ,  0.1,  0.2,  0.3,  0.4,  0.5,  0.6,  0.7,  0.8,  0.9,  1. ]),\n",
       " <a list of 10 Patch objects>)"
      ]
     },
     "execution_count": 85,
     "metadata": {},
     "output_type": "execute_result"
    },
    {
     "data": {
      "image/png": "[encoded data removed]",
      "text/plain": [
       "<matplotlib.figure.Figure at 0x7fb35d31fa10>"
      ]
     },
     "metadata": {},
     "output_type": "display_data"
    }
   ],
   "source": [
    "plt.hist(muffin.values())"
   ]
  },
  {
   "cell_type": "code",
   "execution_count": 86,
   "metadata": {
    "collapsed": false
   },
   "outputs": [
    {
     "data": {
      "text/plain": [
       "9"
      ]
     },
     "execution_count": 86,
     "metadata": {},
     "output_type": "execute_result"
    }
   ],
   "source": [
    "len(orwell_list)"
   ]
  },
  {
   "cell_type": "code",
   "execution_count": 87,
   "metadata": {
    "collapsed": false,
    "scrolled": true
   },
   "outputs": [
    {
     "data": {
      "text/plain": [
       "[(u'NILES, SEN. CATHERIN', 1),\n",
       " (u'ASHER, CARL', 1),\n",
       " (u'LUDLUM, ROSS', 1),\n",
       " (u'ASHER, MICHAEL', 1),\n",
       " (u'ORWELL', 0),\n",
       " (u'OSWALD', 1),\n",
       " (u'FAGIN', 1),\n",
       " (u'HOFFMAN', 1),\n",
       " (u'ASHER, DONNA', 1)]"
      ]
     },
     "execution_count": 87,
     "metadata": {},
     "output_type": "execute_result"
    }
   ],
   "source": [
    "orwell_list"
   ]
  },
  {
   "cell_type": "markdown",
   "metadata": {},
   "source": [
    "Well, I think this is the first part of the problem. I don't really understand how to optimize with accumulators though. Also, let us write code to make the network converge."
   ]
  },
  {
   "cell_type": "code",
   "execution_count": 113,
   "metadata": {
    "collapsed": false
   },
   "outputs": [],
   "source": [
    "network_rdd = network_rdd.cache()"
   ]
  },
  {
   "cell_type": "code",
   "execution_count": 116,
   "metadata": {
    "collapsed": false
   },
   "outputs": [
    {
     "data": {
      "text/plain": [
       "True"
      ]
     },
     "execution_count": 116,
     "metadata": {},
     "output_type": "execute_result"
    }
   ],
   "source": [
    "network_rdd.is_cached"
   ]
  },
  {
   "cell_type": "markdown",
   "metadata": {},
   "source": [
    "# Running until converged"
   ]
  },
  {
   "cell_type": "code",
   "execution_count": 117,
   "metadata": {
    "collapsed": true
   },
   "outputs": [],
   "source": [
    "searcher = BFS(sc, 'CAPTAIN AMERICA', network_rdd)"
   ]
  },
  {
   "cell_type": "code",
   "execution_count": 118,
   "metadata": {
    "collapsed": false
   },
   "outputs": [
    {
     "name": "stdout",
     "output_type": "stream",
     "text": [
      "Finished at end of iteration 4 !\n"
     ]
    }
   ],
   "source": [
    "searcher.run_until_converged()"
   ]
  },
  {
   "cell_type": "code",
   "execution_count": 103,
   "metadata": {
    "collapsed": true
   },
   "outputs": [],
   "source": [
    "searcher = BFS(sc, 'ORWELL', network_rdd)"
   ]
  },
  {
   "cell_type": "code",
   "execution_count": 104,
   "metadata": {
    "collapsed": false
   },
   "outputs": [
    {
     "name": "stdout",
     "output_type": "stream",
     "text": [
      "Finished at end of iteration 2 !\n"
     ]
    }
   ],
   "source": [
    "searcher.run_until_converged()"
   ]
  },
  {
   "cell_type": "code",
   "execution_count": 92,
   "metadata": {
    "collapsed": true
   },
   "outputs": [],
   "source": [
    "a={'a':1, 'b':2, 'c':3}\n",
    "b = {'c':2, 'b':2, 'a':1, 'd':69}"
   ]
  },
  {
   "cell_type": "code",
   "execution_count": null,
   "metadata": {
    "collapsed": true
   },
   "outputs": [],
   "source": [
    "assert cmp"
   ]
  }
 ],
 "metadata": {
  "kernelspec": {
   "display_name": "Python 2",
   "language": "python",
   "name": "python2"
  },
  "language_info": {
   "codemirror_mode": {
    "name": "ipython",
    "version": 2
   },
   "file_extension": ".py",
   "mimetype": "text/x-python",
   "name": "python",
   "nbconvert_exporter": "python",
   "pygments_lexer": "ipython2",
   "version": "2.7.10"
  }
 },
 "nbformat": 4,
 "nbformat_minor": 0
}
