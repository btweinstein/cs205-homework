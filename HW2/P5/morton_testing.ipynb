{
 "cells": [
  {
   "cell_type": "code",
   "execution_count": 1,
   "metadata": {
    "collapsed": true
   },
   "outputs": [],
   "source": [
    "################################################################################\n",
    "# Copyright (c) 2012, Lawrence Livermore National Security, LLC.\n",
    "# Produced at the Lawrence Livermore National Laboratory\n",
    "# Written by Todd Gamblin et al. <tgamblin@llnl.gov>\n",
    "# LLNL-CODE-599252\n",
    "# All rights reserved.\n",
    "#\n",
    "# This file is part of Rubik. For details, see http://scalability.llnl.gov.\n",
    "# Please read the LICENSE file for further information.\n",
    "#\n",
    "# Redistribution and use in source and binary forms, with or without\n",
    "# modification, are permitted provided that the following conditions are met:\n",
    "#\n",
    "#     * Redistributions of source code must retain the above copyright notice,\n",
    "#       this list of conditions and the disclaimer below.\n",
    "#\n",
    "#     * Redistributions in binary form must reproduce the above copyright notice,\n",
    "#       this list of conditions and the disclaimer (as noted below) in the\n",
    "#       documentation and/or other materials provided with the distribution.\n",
    "#\n",
    "#     * Neither the name of the LLNS/LLNL nor the names of its contributors may be\n",
    "#       used to endorse or promote products derived from this software without\n",
    "#       specific prior written permission.\n",
    "#\n",
    "# THIS SOFTWARE IS PROVIDED BY THE COPYRIGHT HOLDERS AND CONTRIBUTORS \"AS IS\" AND\n",
    "# ANY EXPRESS OR IMPLIED WARRANTIES, INCLUDING, BUT NOT LIMITED TO, THE IMPLIED\n",
    "# WARRANTIES OF MERCHANTABILITY AND FITNESS FOR A PARTICULAR PURPOSE ARE\n",
    "# DISCLAIMED. IN NO EVENT SHALL LAWRENCE LIVERMORE NATIONAL SECURITY, LLC, THE\n",
    "# U.S. DEPARTMENT OF ENERGY OR CONTRIBUTORS BE LIABLE FOR ANY DIRECT, INDIRECT,\n",
    "# INCIDENTAL, SPECIAL, EXEMPLARY, OR CONSEQUENTIAL DAMAGES (INCLUDING, BUT NOT\n",
    "# LIMITED TO, PROCUREMENT OF SUBSTITUTE GOODS OR SERVICES; LOSS OF USE, DATA, OR\n",
    "# PROFITS; OR BUSINESS INTERRUPTION) HOWEVER CAUSED AND ON ANY THEORY OF\n",
    "# LIABILITY, WHETHER IN CONTRACT, STRICT LIABILITY, OR TORT (INCLUDING NEGLIGENCE\n",
    "# OR OTHERWISE) ARISING IN ANY WAY OUT OF THE USE OF THIS SOFTWARE, EVEN IF\n",
    "# ADVISED OF THE POSSIBILITY OF SUCH DAMAGE.\n",
    "################################################################################\n",
    "\"\"\"\n",
    "This file provides routines to transform the elements of an ndarray from\n",
    "dimension-major order to Z-order.\n",
    "\"\"\"\n",
    "\n",
    "import numpy as np\n",
    "import itertools\n",
    "import math\n",
    "\n",
    "def le_power_of_2(num):\n",
    "    \"\"\" Gets a power of two less than or equal to num. Works for up to 64-bit\n",
    "    numbers.\n",
    "    \"\"\"\n",
    "    num |= (num >> 1)\n",
    "    num |= (num >> 2)\n",
    "    num |= (num >> 4)\n",
    "    num |= (num >> 8)\n",
    "    num |= (num >> 16)\n",
    "    num |= (num >> 32)\n",
    "    return num - (num >> 1)\n",
    "\n",
    "\n",
    "def b(num, bytes=8):\n",
    "    bytefields = [\"{0:08b}\".format(num >> 8*i & 0xFF) for i in reversed(range(bytes))]\n",
    "    return \" \".join(bytefields).replace('0', '-')\n",
    "\n",
    "\n",
    "def h(num, bytes=8):\n",
    "    quads = bytes / 2\n",
    "    quadfields = [\"{0:04x}\".format(num >> 8*i & 0xFFFF) for i in reversed(range(quads))]\n",
    "    return \" \".join(quadfields).replace('0', '-')\n",
    "\n",
    "\n",
    "class ZEncoder(object):\n",
    "    \"\"\" Class representing a set of bitmasks for encoding/decoding\n",
    "    n-dimensional morton numbers.\n",
    "    Parameters:\n",
    "\tndim\tnumber of dimensions to encode/decode for.\n",
    "        bits\tnumber of bits in the generated codes.\n",
    "    Note: Codes are internally generated with as many bits as are necessary,\n",
    "    then they are returned as either numpy.uint32 or numpy.uint64, depending\n",
    "    on how many bits are needed to represent the codes.\n",
    "    \"\"\"\n",
    "    filters = {}\n",
    "\n",
    "    def __init__(self, ndim, bits = 64):\n",
    "        self.ndim = ndim\n",
    "        self.bits = bits\n",
    "        self.filter = self.get_filter(ndim, bits)\n",
    "\n",
    "    @classmethod\n",
    "    def for_shape(cls, shape):\n",
    "        # Default to 32-bit codes, but use 64-bit codes if needed for a shape.\n",
    "        maxdim = max(shape)\n",
    "        if math.ceil(math.log(maxdim, 2)) >= (32 / len(shape)):\n",
    "            bits = 64\n",
    "        else:\n",
    "            bits = 32\n",
    "        return ZEncoder(len(shape), bits)\n",
    "\n",
    "    def get_filter(self, ndim, bits):\n",
    "        \"\"\" Get a possibly memoized filter for the dimensions bit length\n",
    "\tspecified.\n",
    "\t\"\"\"\n",
    "        key = (ndim, bits)\n",
    "        filters = self.__class__.filters\n",
    "        if not key in filters:\n",
    "            filters[key] = ZEncoder.create_filter(ndim, bits)\n",
    "        return filters[key]\n",
    "\n",
    "    @classmethod\n",
    "    def create_filter(cls, ndim, bits):\n",
    "\t\"\"\" This creates a filter (a set of bitmasks) that can be used to\n",
    "\tquickly generate n-dimensional Z codes (Morton codes). The filter is\n",
    "\tbased on the method described here:\n",
    "\thttp://graphics.stanford.edu/~seander/bithacks.html#InterleaveBMN\n",
    "        Parameters:\n",
    "\tndim\n",
    "\t  number of dimensions in the z curve\n",
    "        bits\n",
    "\t  bit width of morton codes to be generated. Each coordinate gets\n",
    "\t  bits/ndim bits.\n",
    "        \"\"\"\n",
    "\t# Construct the initial mask: this selects just the lower (bits/ndim)\n",
    "\t# bits of a number\n",
    "        width = bits / ndim\n",
    "        mask = (1 << width) - 1\n",
    "\n",
    "        # Each bit in a coordinate needs to move (ndim * width) positions.\n",
    "\t# We'll move them using iterative power-of-2 shifts for O(log(bits))\n",
    "\t# complexity.\n",
    "        # First get the max shift we need to do:\n",
    "        max_shift = le_power_of_2(ndim * (width-1))\n",
    "        filter = [[mask, 0, max_shift]]\n",
    "\n",
    "\t# Now figure out which bits need to be moved by each shift, and build\n",
    "\t# masks.\n",
    "        shift = max_shift\n",
    "        while shift > 0:\n",
    "            mask = 0\n",
    "            shifted = 0\n",
    "            shift_mask = ~(shift-1)\n",
    "            for bit in range(width):\n",
    "                distance = ndim * bit - bit\n",
    "                shifted |= (shift & distance)\n",
    "                mask |= 1 << bit << (distance & shift_mask)\n",
    "            if shifted:\n",
    "                filter.append([mask, shift, shift >> 1])\n",
    "            shift >>= 1\n",
    "\n",
    "        # set last rshift to zero for compact operation.\n",
    "        filter[-1][2] = 0\n",
    "        return filter\n",
    "\n",
    "    def spread(self, x):\n",
    "        \"\"\" Applies filter to spread the bits of x apart by ndim-1 zeros. \"\"\"\n",
    "        for mask, shift, rshift in self.filter:\n",
    "            x = (x | (x << shift)) & mask\n",
    "        return x\n",
    "\n",
    "    def compact(self, x):\n",
    "        \"\"\" Applies filter in reverse to push spread bits back together. \"\"\"\n",
    "        for mask, shift, rshift in self.filter[-1::-1]:\n",
    "            x = (x | (x >> rshift)) & mask\n",
    "        return x\n",
    "\n",
    "    def encode(self, point):\n",
    "        \"\"\" Takes a point and returns a morton code for that point. \"\"\"\n",
    "        if len(point) != self.ndim:\n",
    "            raise Exception(\"Error: Can't encode %d-dimensional point with %d-dimensional ZEncoder.\" % (len(point), self.ndim))\n",
    "        code = 0\n",
    "        for i,x in enumerate(point):\n",
    "            code |= self.spread(x) << i\n",
    "\n",
    "        # Python will do arithmetic with the largest ints it can.\n",
    "        # This ensures we return an int32 when it was asked for.\n",
    "        return code\n",
    "\n",
    "    def decode(self, value):\n",
    "\t\"\"\" Given an ndim-dimensional morton code, returns the corresponding\n",
    "\tpoint as a tuple.\n",
    "\t\"\"\"\n",
    "        return tuple([self.compact(value >> i) for i in range(self.ndim)])\n",
    "\n",
    "    def __bytes(self):\n",
    "        \"\"\" Number of bytes needed to represent the masks in this filter. \"\"\"\n",
    "        if self.bits > 32:\n",
    "            return 8\n",
    "        else:\n",
    "            return 4\n",
    "\n",
    "    def __str(self, format):\n",
    "\t\"\"\" Prints out each mask in the filter line along with its\n",
    "\tcorresponding left and right shifts. format paramter determines how to\n",
    "\tformat binary numbers. Options are b or h.\n",
    "        \"\"\"\n",
    "        fields = [\"%s %2d %2d\" % (format(mask, self.__bytes()), shift, rshift) for mask, shift, rshift in self.filter]\n",
    "        return \"\\n\".join(fields)\n",
    "\n",
    "    def hex_str(self):\n",
    "\t\"\"\" formatted string with masks in the filter in hexadecimal, along\n",
    "\twith their left and right shifts.\n",
    "\t\"\"\"\n",
    "        return self.__str(h)\n",
    "\n",
    "    def bin_str(self):\n",
    "\t\"\"\" formatted string with masks in the filter in binary, along with\n",
    "\ttheir left and right shifts.\n",
    "\t\"\"\"\n",
    "        return self.__str(b)\n",
    "\n",
    "    def __str__(self):\n",
    "        \"\"\" Equivalent to bin_str() \"\"\"\n",
    "        return self.bin_str()\n",
    "\n",
    "\n",
    "def zenumerate(shape):\n",
    "    \"\"\" Enumerates points in the shape in Z order. Currently dumps the morton\n",
    "    codes into an array and sorts them, then regenerates points in that\n",
    "    order. This is O(nlogn) time. We could do better for matrices with more\n",
    "    even aspect ratios by enuerating all morton codes from 0 on and\n",
    "    converting to points, but that is O(n^2) for irregular shapes.\n",
    "    \"\"\"\n",
    "    # Build a buffer of encoded z values and sort them\n",
    "    zencoder = ZEncoder.for_shape(shape)\n",
    "    buffer = [zencoder.encode(point) for point in np.ndindex(*shape)]\n",
    "    buffer.sort()\n",
    "\n",
    "    # Decode z values in order and yield each.\n",
    "    for code in buffer:\n",
    "        yield zencoder.decode(code)\n",
    "\n",
    "\n",
    "def zorder(arr):\n",
    "    \"\"\" Transform the elements of an ndarray from dimension-major order to z\n",
    "    order. This modifies the array.\n",
    "    \"\"\"\n",
    "    buffer = arr.copy()\n",
    "    i=0\n",
    "    for index in zenumerate(arr.shape):\n",
    "        arr[index] = buffer.flat[i]\n",
    "        i += 1"
   ]
  },
  {
   "cell_type": "code",
   "execution_count": 2,
   "metadata": {
    "collapsed": false
   },
   "outputs": [
    {
     "name": "stdout",
     "output_type": "stream",
     "text": [
      "Populating the interactive namespace from numpy and matplotlib\n"
     ]
    }
   ],
   "source": [
    "%pylab inline"
   ]
  },
  {
   "cell_type": "code",
   "execution_count": 3,
   "metadata": {
    "collapsed": false
   },
   "outputs": [],
   "source": [
    "random_mat = np.random.randint(-1, 10, (100, 100))"
   ]
  },
  {
   "cell_type": "code",
   "execution_count": 4,
   "metadata": {
    "collapsed": false
   },
   "outputs": [],
   "source": [
    "sorting_order = list(zenumerate((100, 100)))\n",
    "sorting_order = np.array(sorting_order)"
   ]
  },
  {
   "cell_type": "code",
   "execution_count": 5,
   "metadata": {
    "collapsed": false
   },
   "outputs": [
    {
     "data": {
      "text/plain": [
       "array([[ 0,  0],\n",
       "       [ 1,  0],\n",
       "       [ 0,  1],\n",
       "       ..., \n",
       "       [99, 98],\n",
       "       [98, 99],\n",
       "       [99, 99]])"
      ]
     },
     "execution_count": 5,
     "metadata": {},
     "output_type": "execute_result"
    }
   ],
   "source": [
    "sorting_order"
   ]
  },
  {
   "cell_type": "code",
   "execution_count": 21,
   "metadata": {
    "collapsed": false
   },
   "outputs": [],
   "source": [
    "index_array = np.arange(100*100)\n",
    "index_matrix = index_array.reshape((100, 100))\n",
    "ordered_index_matrix = index_matrix.copy()"
   ]
  },
  {
   "cell_type": "code",
   "execution_count": 22,
   "metadata": {
    "collapsed": false
   },
   "outputs": [],
   "source": [
    "zorder(ordered_index_matrix)"
   ]
  },
  {
   "cell_type": "code",
   "execution_count": 23,
   "metadata": {
    "collapsed": false
   },
   "outputs": [
    {
     "data": {
      "text/plain": [
       "array([[   0,    1,    2, ...,   97,   98,   99],\n",
       "       [ 100,  101,  102, ...,  197,  198,  199],\n",
       "       [ 200,  201,  202, ...,  297,  298,  299],\n",
       "       ..., \n",
       "       [9700, 9701, 9702, ..., 9797, 9798, 9799],\n",
       "       [9800, 9801, 9802, ..., 9897, 9898, 9899],\n",
       "       [9900, 9901, 9902, ..., 9997, 9998, 9999]])"
      ]
     },
     "execution_count": 23,
     "metadata": {},
     "output_type": "execute_result"
    }
   ],
   "source": [
    "index_matrix"
   ]
  },
  {
   "cell_type": "code",
   "execution_count": 24,
   "metadata": {
    "collapsed": false
   },
   "outputs": [
    {
     "data": {
      "text/plain": [
       "array([[   0,    2,    8, ..., 8450, 8456, 8458],\n",
       "       [   1,    3,    9, ..., 8451, 8457, 8459],\n",
       "       [   4,    6,   12, ..., 8454, 8460, 8462],\n",
       "       ..., \n",
       "       [5121, 5123, 5129, ..., 9987, 9993, 9995],\n",
       "       [5124, 5126, 5132, ..., 9990, 9996, 9998],\n",
       "       [5125, 5127, 5133, ..., 9991, 9997, 9999]])"
      ]
     },
     "execution_count": 24,
     "metadata": {},
     "output_type": "execute_result"
    }
   ],
   "source": [
    "ordered_index_matrix"
   ]
  },
  {
   "cell_type": "markdown",
   "metadata": {},
   "source": [
    "Ok that works fine."
   ]
  },
  {
   "cell_type": "code",
   "execution_count": 30,
   "metadata": {
    "collapsed": true
   },
   "outputs": [],
   "source": [
    "correct_list = ordered_index_matrix.ravel()"
   ]
  },
  {
   "cell_type": "markdown",
   "metadata": {},
   "source": [
    "We act on the grid, as that is in 2d, and we translate it into 1d. The issue is that only some of the elements are useful, so we have to be clever."
   ]
  },
  {
   "cell_type": "code",
   "execution_count": 31,
   "metadata": {
    "collapsed": true
   },
   "outputs": [],
   "source": [
    "grid_size = 100\n",
    "num_balls = 800"
   ]
  },
  {
   "cell_type": "markdown",
   "metadata": {},
   "source": [
    "Our grid is 100 x 100 for now. Let's say that we quickly calculate the position in the grid for each element we are tracking from x,y currently."
   ]
  },
  {
   "cell_type": "code",
   "execution_count": 32,
   "metadata": {
    "collapsed": true
   },
   "outputs": [],
   "source": [
    "positions_in_grid = np.random.randint(0, grid_size, (num_balls, 2))\n",
    "grid = -1*np.ones((grid_size, grid_size), dtype=np.int)\n",
    "grid[positions_in_grid[:, 0], positions_in_grid[:, 1]] = np.arange(num_balls)"
   ]
  },
  {
   "cell_type": "code",
   "execution_count": 33,
   "metadata": {
    "collapsed": false
   },
   "outputs": [
    {
     "data": {
      "text/plain": [
       "array([[34, 61],\n",
       "       [73, 39],\n",
       "       [60, 12],\n",
       "       ..., \n",
       "       [60, 76],\n",
       "       [39, 31],\n",
       "       [82, 68]])"
      ]
     },
     "execution_count": 33,
     "metadata": {},
     "output_type": "execute_result"
    }
   ],
   "source": [
    "positions_in_grid"
   ]
  },
  {
   "cell_type": "markdown",
   "metadata": {},
   "source": [
    "The balls are randomly scattered in the positions_in_grid vector. We want to sort them in an intelligent manner so that they are close to each other in memory."
   ]
  },
  {
   "cell_type": "code",
   "execution_count": 8,
   "metadata": {
    "collapsed": false
   },
   "outputs": [
    {
     "data": {
      "text/plain": [
       "array([[411,  -1,  -1, ...,  -1,  -1,  -1],\n",
       "       [ -1, 636,  -1, ...,  -1,  -1,  -1],\n",
       "       [ -1, 624,  -1, ..., 529, 537,  -1],\n",
       "       ..., \n",
       "       [ -1,  -1,  -1, ...,  -1,  -1, 461],\n",
       "       [ -1,  -1,  -1, ...,  -1,  -1,  -1],\n",
       "       [ -1,  -1,  -1, ...,  -1,  -1,  -1]])"
      ]
     },
     "execution_count": 8,
     "metadata": {},
     "output_type": "execute_result"
    }
   ],
   "source": [
    "grid"
   ]
  },
  {
   "cell_type": "markdown",
   "metadata": {},
   "source": [
    "The issue is that we have a vector of size num_balls, and a grid of size grid_size, and we need to convert between the two using morton ordering."
   ]
  },
  {
   "cell_type": "code",
   "execution_count": 16,
   "metadata": {
    "collapsed": true
   },
   "outputs": [],
   "source": [
    "normal_index = np.arange(num_balls)"
   ]
  },
  {
   "cell_type": "markdown",
   "metadata": {},
   "source": [
    "We assign each position an integer corresponding to the logical index of the grid."
   ]
  },
  {
   "cell_type": "markdown",
   "metadata": {},
   "source": [
    "For a grid, a good sorting order is "
   ]
  },
  {
   "cell_type": "code",
   "execution_count": 17,
   "metadata": {
    "collapsed": true
   },
   "outputs": [],
   "source": [
    "sorting_order = list(zenumerate((100, 100)))\n",
    "sorting_order = np.array(sorting_order)"
   ]
  },
  {
   "cell_type": "code",
   "execution_count": 18,
   "metadata": {
    "collapsed": false
   },
   "outputs": [],
   "source": [
    "good_logical_order = get_logical_index(sorting_order, grid_size)"
   ]
  },
  {
   "cell_type": "code",
   "execution_count": 19,
   "metadata": {
    "collapsed": false
   },
   "outputs": [
    {
     "data": {
      "text/plain": [
       "array([   0,  100,    1, ..., 9998, 9899, 9999])"
      ]
     },
     "execution_count": 19,
     "metadata": {},
     "output_type": "execute_result"
    }
   ],
   "source": [
    "good_logical_order"
   ]
  },
  {
   "cell_type": "markdown",
   "metadata": {},
   "source": [
    "Therefore, for the current scenario, a good ordering is, removing the -1,s"
   ]
  },
  {
   "cell_type": "code",
   "execution_count": 20,
   "metadata": {
    "collapsed": false
   },
   "outputs": [],
   "source": [
    "good_order = grid[sorting_order[:, 0], sorting_order[:, 1]]"
   ]
  },
  {
   "cell_type": "code",
   "execution_count": 21,
   "metadata": {
    "collapsed": false
   },
   "outputs": [],
   "source": [
    "good_order = good_order[good_order != -1]"
   ]
  },
  {
   "cell_type": "code",
   "execution_count": 22,
   "metadata": {
    "collapsed": false
   },
   "outputs": [],
   "source": [
    "good_order = good_order.astype(np.int)"
   ]
  },
  {
   "cell_type": "markdown",
   "metadata": {},
   "source": [
    "This is the array we should use. I don't think generating this takes too long. Certainly not on the order of a ms which would cripple our performance."
   ]
  },
  {
   "cell_type": "code",
   "execution_count": 23,
   "metadata": {
    "collapsed": false
   },
   "outputs": [
    {
     "data": {
      "text/plain": [
       "array([[ 5,  1],\n",
       "       [ 4,  2],\n",
       "       [ 6,  3],\n",
       "       ..., \n",
       "       [94, 98],\n",
       "       [95, 98],\n",
       "       [96, 98]])"
      ]
     },
     "execution_count": 23,
     "metadata": {},
     "output_type": "execute_result"
    }
   ],
   "source": [
    "positions_in_grid[good_order, :]"
   ]
  },
  {
   "cell_type": "markdown",
   "metadata": {},
   "source": [
    "How do we update the grid if everyones indices change? Hmmmm..."
   ]
  },
  {
   "cell_type": "code",
   "execution_count": 26,
   "metadata": {
    "collapsed": false
   },
   "outputs": [
    {
     "data": {
      "text/plain": [
       "array([[ 5,  1],\n",
       "       [ 4,  2],\n",
       "       [ 6,  3],\n",
       "       ..., \n",
       "       [94, 98],\n",
       "       [95, 98],\n",
       "       [96, 98]])"
      ]
     },
     "execution_count": 26,
     "metadata": {},
     "output_type": "execute_result"
    }
   ],
   "source": [
    "positions_in_grid[good_order]"
   ]
  },
  {
   "cell_type": "code",
   "execution_count": 31,
   "metadata": {
    "collapsed": false
   },
   "outputs": [
    {
     "data": {
      "text/plain": [
       "array([-1, -1, -1, ..., -1, -1, -1])"
      ]
     },
     "execution_count": 31,
     "metadata": {},
     "output_type": "execute_result"
    }
   ],
   "source": [
    "grid[sorting_order[:, 0], sorting_order[:, 1]]"
   ]
  },
  {
   "cell_type": "code",
   "execution_count": 34,
   "metadata": {
    "collapsed": false
   },
   "outputs": [
    {
     "ename": "TypeError",
     "evalue": "descriptor 'max' of 'numpy.generic' object needs an argument",
     "output_type": "error",
     "traceback": [
      "\u001b[1;31m---------------------------------------------------------------------------\u001b[0m",
      "\u001b[1;31mTypeError\u001b[0m                                 Traceback (most recent call last)",
      "\u001b[1;32m<ipython-input-34-b32a74a49be7>\u001b[0m in \u001b[0;36m<module>\u001b[1;34m()\u001b[0m\n\u001b[1;32m----> 1\u001b[1;33m \u001b[0mnp\u001b[0m\u001b[1;33m.\u001b[0m\u001b[0muint32\u001b[0m\u001b[1;33m.\u001b[0m\u001b[0mmax\u001b[0m\u001b[1;33m(\u001b[0m\u001b[1;33m)\u001b[0m\u001b[1;33m\u001b[0m\u001b[0m\n\u001b[0m",
      "\u001b[1;31mTypeError\u001b[0m: descriptor 'max' of 'numpy.generic' object needs an argument"
     ]
    }
   ],
   "source": [
    "np.uint32.max()"
   ]
  },
  {
   "cell_type": "code",
   "execution_count": null,
   "metadata": {
    "collapsed": true
   },
   "outputs": [],
   "source": []
  }
 ],
 "metadata": {
  "kernelspec": {
   "display_name": "Python 2",
   "language": "python",
   "name": "python2"
  },
  "language_info": {
   "codemirror_mode": {
    "name": "ipython",
    "version": 2
   },
   "file_extension": ".py",
   "mimetype": "text/x-python",
   "name": "python",
   "nbconvert_exporter": "python",
   "pygments_lexer": "ipython2",
   "version": "2.7.10"
  }
 },
 "nbformat": 4,
 "nbformat_minor": 0
}
