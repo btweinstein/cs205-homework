{
 "cells": [
  {
   "cell_type": "code",
   "execution_count": 1,
   "metadata": {
    "collapsed": true
   },
   "outputs": [],
   "source": [
    "################################################################################\n",
    "# Copyright (c) 2012, Lawrence Livermore National Security, LLC.\n",
    "# Produced at the Lawrence Livermore National Laboratory\n",
    "# Written by Todd Gamblin et al. <tgamblin@llnl.gov>\n",
    "# LLNL-CODE-599252\n",
    "# All rights reserved.\n",
    "#\n",
    "# This file is part of Rubik. For details, see http://scalability.llnl.gov.\n",
    "# Please read the LICENSE file for further information.\n",
    "#\n",
    "# Redistribution and use in source and binary forms, with or without\n",
    "# modification, are permitted provided that the following conditions are met:\n",
    "#\n",
    "#     * Redistributions of source code must retain the above copyright notice,\n",
    "#       this list of conditions and the disclaimer below.\n",
    "#\n",
    "#     * Redistributions in binary form must reproduce the above copyright notice,\n",
    "#       this list of conditions and the disclaimer (as noted below) in the\n",
    "#       documentation and/or other materials provided with the distribution.\n",
    "#\n",
    "#     * Neither the name of the LLNS/LLNL nor the names of its contributors may be\n",
    "#       used to endorse or promote products derived from this software without\n",
    "#       specific prior written permission.\n",
    "#\n",
    "# THIS SOFTWARE IS PROVIDED BY THE COPYRIGHT HOLDERS AND CONTRIBUTORS \"AS IS\" AND\n",
    "# ANY EXPRESS OR IMPLIED WARRANTIES, INCLUDING, BUT NOT LIMITED TO, THE IMPLIED\n",
    "# WARRANTIES OF MERCHANTABILITY AND FITNESS FOR A PARTICULAR PURPOSE ARE\n",
    "# DISCLAIMED. IN NO EVENT SHALL LAWRENCE LIVERMORE NATIONAL SECURITY, LLC, THE\n",
    "# U.S. DEPARTMENT OF ENERGY OR CONTRIBUTORS BE LIABLE FOR ANY DIRECT, INDIRECT,\n",
    "# INCIDENTAL, SPECIAL, EXEMPLARY, OR CONSEQUENTIAL DAMAGES (INCLUDING, BUT NOT\n",
    "# LIMITED TO, PROCUREMENT OF SUBSTITUTE GOODS OR SERVICES; LOSS OF USE, DATA, OR\n",
    "# PROFITS; OR BUSINESS INTERRUPTION) HOWEVER CAUSED AND ON ANY THEORY OF\n",
    "# LIABILITY, WHETHER IN CONTRACT, STRICT LIABILITY, OR TORT (INCLUDING NEGLIGENCE\n",
    "# OR OTHERWISE) ARISING IN ANY WAY OUT OF THE USE OF THIS SOFTWARE, EVEN IF\n",
    "# ADVISED OF THE POSSIBILITY OF SUCH DAMAGE.\n",
    "################################################################################\n",
    "\"\"\"\n",
    "This file provides routines to transform the elements of an ndarray from\n",
    "dimension-major order to Z-order.\n",
    "\"\"\"\n",
    "\n",
    "import numpy as np\n",
    "import itertools\n",
    "import math\n",
    "\n",
    "def le_power_of_2(num):\n",
    "    \"\"\" Gets a power of two less than or equal to num. Works for up to 64-bit\n",
    "    numbers.\n",
    "    \"\"\"\n",
    "    num |= (num >> 1)\n",
    "    num |= (num >> 2)\n",
    "    num |= (num >> 4)\n",
    "    num |= (num >> 8)\n",
    "    num |= (num >> 16)\n",
    "    num |= (num >> 32)\n",
    "    return num - (num >> 1)\n",
    "\n",
    "\n",
    "def b(num, bytes=8):\n",
    "    bytefields = [\"{0:08b}\".format(num >> 8*i & 0xFF) for i in reversed(range(bytes))]\n",
    "    return \" \".join(bytefields).replace('0', '-')\n",
    "\n",
    "\n",
    "def h(num, bytes=8):\n",
    "    quads = bytes / 2\n",
    "    quadfields = [\"{0:04x}\".format(num >> 8*i & 0xFFFF) for i in reversed(range(quads))]\n",
    "    return \" \".join(quadfields).replace('0', '-')\n",
    "\n",
    "\n",
    "class ZEncoder(object):\n",
    "    \"\"\" Class representing a set of bitmasks for encoding/decoding\n",
    "    n-dimensional morton numbers.\n",
    "    Parameters:\n",
    "\tndim\tnumber of dimensions to encode/decode for.\n",
    "        bits\tnumber of bits in the generated codes.\n",
    "    Note: Codes are internally generated with as many bits as are necessary,\n",
    "    then they are returned as either numpy.uint32 or numpy.uint64, depending\n",
    "    on how many bits are needed to represent the codes.\n",
    "    \"\"\"\n",
    "    filters = {}\n",
    "\n",
    "    def __init__(self, ndim, bits = 64):\n",
    "        self.ndim = ndim\n",
    "        self.bits = bits\n",
    "        self.filter = self.get_filter(ndim, bits)\n",
    "\n",
    "    @classmethod\n",
    "    def for_shape(cls, shape):\n",
    "        # Default to 32-bit codes, but use 64-bit codes if needed for a shape.\n",
    "        maxdim = max(shape)\n",
    "        if math.ceil(math.log(maxdim, 2)) >= (32 / len(shape)):\n",
    "            bits = 64\n",
    "        else:\n",
    "            bits = 32\n",
    "        return ZEncoder(len(shape), bits)\n",
    "\n",
    "    def get_filter(self, ndim, bits):\n",
    "        \"\"\" Get a possibly memoized filter for the dimensions bit length\n",
    "\tspecified.\n",
    "\t\"\"\"\n",
    "        key = (ndim, bits)\n",
    "        filters = self.__class__.filters\n",
    "        if not key in filters:\n",
    "            filters[key] = ZEncoder.create_filter(ndim, bits)\n",
    "        return filters[key]\n",
    "\n",
    "    @classmethod\n",
    "    def create_filter(cls, ndim, bits):\n",
    "\t\"\"\" This creates a filter (a set of bitmasks) that can be used to\n",
    "\tquickly generate n-dimensional Z codes (Morton codes). The filter is\n",
    "\tbased on the method described here:\n",
    "\thttp://graphics.stanford.edu/~seander/bithacks.html#InterleaveBMN\n",
    "        Parameters:\n",
    "\tndim\n",
    "\t  number of dimensions in the z curve\n",
    "        bits\n",
    "\t  bit width of morton codes to be generated. Each coordinate gets\n",
    "\t  bits/ndim bits.\n",
    "        \"\"\"\n",
    "\t# Construct the initial mask: this selects just the lower (bits/ndim)\n",
    "\t# bits of a number\n",
    "        width = bits / ndim\n",
    "        mask = (1 << width) - 1\n",
    "\n",
    "        # Each bit in a coordinate needs to move (ndim * width) positions.\n",
    "\t# We'll move them using iterative power-of-2 shifts for O(log(bits))\n",
    "\t# complexity.\n",
    "        # First get the max shift we need to do:\n",
    "        max_shift = le_power_of_2(ndim * (width-1))\n",
    "        filter = [[mask, 0, max_shift]]\n",
    "\n",
    "\t# Now figure out which bits need to be moved by each shift, and build\n",
    "\t# masks.\n",
    "        shift = max_shift\n",
    "        while shift > 0:\n",
    "            mask = 0\n",
    "            shifted = 0\n",
    "            shift_mask = ~(shift-1)\n",
    "            for bit in range(width):\n",
    "                distance = ndim * bit - bit\n",
    "                shifted |= (shift & distance)\n",
    "                mask |= 1 << bit << (distance & shift_mask)\n",
    "            if shifted:\n",
    "                filter.append([mask, shift, shift >> 1])\n",
    "            shift >>= 1\n",
    "\n",
    "        # set last rshift to zero for compact operation.\n",
    "        filter[-1][2] = 0\n",
    "        return filter\n",
    "\n",
    "    def spread(self, x):\n",
    "        \"\"\" Applies filter to spread the bits of x apart by ndim-1 zeros. \"\"\"\n",
    "        for mask, shift, rshift in self.filter:\n",
    "            x = (x | (x << shift)) & mask\n",
    "        return x\n",
    "\n",
    "    def compact(self, x):\n",
    "        \"\"\" Applies filter in reverse to push spread bits back together. \"\"\"\n",
    "        for mask, shift, rshift in self.filter[-1::-1]:\n",
    "            x = (x | (x >> rshift)) & mask\n",
    "        return x\n",
    "\n",
    "    def encode(self, point):\n",
    "        \"\"\" Takes a point and returns a morton code for that point. \"\"\"\n",
    "        if len(point) != self.ndim:\n",
    "            raise Exception(\"Error: Can't encode %d-dimensional point with %d-dimensional ZEncoder.\" % (len(point), self.ndim))\n",
    "        code = 0\n",
    "        for i,x in enumerate(point):\n",
    "            code |= self.spread(x) << i\n",
    "\n",
    "        # Python will do arithmetic with the largest ints it can.\n",
    "        # This ensures we return an int32 when it was asked for.\n",
    "        return code\n",
    "\n",
    "    def decode(self, value):\n",
    "\t\"\"\" Given an ndim-dimensional morton code, returns the corresponding\n",
    "\tpoint as a tuple.\n",
    "\t\"\"\"\n",
    "        return tuple([self.compact(value >> i) for i in range(self.ndim)])\n",
    "\n",
    "    def __bytes(self):\n",
    "        \"\"\" Number of bytes needed to represent the masks in this filter. \"\"\"\n",
    "        if self.bits > 32:\n",
    "            return 8\n",
    "        else:\n",
    "            return 4\n",
    "\n",
    "    def __str(self, format):\n",
    "\t\"\"\" Prints out each mask in the filter line along with its\n",
    "\tcorresponding left and right shifts. format paramter determines how to\n",
    "\tformat binary numbers. Options are b or h.\n",
    "        \"\"\"\n",
    "        fields = [\"%s %2d %2d\" % (format(mask, self.__bytes()), shift, rshift) for mask, shift, rshift in self.filter]\n",
    "        return \"\\n\".join(fields)\n",
    "\n",
    "    def hex_str(self):\n",
    "\t\"\"\" formatted string with masks in the filter in hexadecimal, along\n",
    "\twith their left and right shifts.\n",
    "\t\"\"\"\n",
    "        return self.__str(h)\n",
    "\n",
    "    def bin_str(self):\n",
    "\t\"\"\" formatted string with masks in the filter in binary, along with\n",
    "\ttheir left and right shifts.\n",
    "\t\"\"\"\n",
    "        return self.__str(b)\n",
    "\n",
    "    def __str__(self):\n",
    "        \"\"\" Equivalent to bin_str() \"\"\"\n",
    "        return self.bin_str()\n",
    "\n",
    "\n",
    "def zenumerate(shape):\n",
    "    \"\"\" Enumerates points in the shape in Z order. Currently dumps the morton\n",
    "    codes into an array and sorts them, then regenerates points in that\n",
    "    order. This is O(nlogn) time. We could do better for matrices with more\n",
    "    even aspect ratios by enuerating all morton codes from 0 on and\n",
    "    converting to points, but that is O(n^2) for irregular shapes.\n",
    "    \"\"\"\n",
    "    # Build a buffer of encoded z values and sort them\n",
    "    zencoder = ZEncoder.for_shape(shape)\n",
    "    buffer = [zencoder.encode(point) for point in np.ndindex(*shape)]\n",
    "    buffer.sort()\n",
    "\n",
    "    # Decode z values in order and yield each.\n",
    "    for code in buffer:\n",
    "        yield zencoder.decode(code)\n",
    "\n",
    "\n",
    "def zorder(arr):\n",
    "    \"\"\" Transform the elements of an ndarray from dimension-major order to z\n",
    "    order. This modifies the array.\n",
    "    \"\"\"\n",
    "    buffer = arr.copy()\n",
    "    i=0\n",
    "    for index in zenumerate(arr.shape):\n",
    "        arr[index] = buffer.flat[i]\n",
    "        i += 1"
   ]
  },
  {
   "cell_type": "code",
   "execution_count": 2,
   "metadata": {
    "collapsed": false
   },
   "outputs": [
    {
     "name": "stdout",
     "output_type": "stream",
     "text": [
      "Populating the interactive namespace from numpy and matplotlib\n"
     ]
    }
   ],
   "source": [
    "%pylab inline"
   ]
  },
  {
   "cell_type": "code",
   "execution_count": 3,
   "metadata": {
    "collapsed": false
   },
   "outputs": [],
   "source": [
    "random_mat = np.random.randint(-1, 10, (100, 100))"
   ]
  },
  {
   "cell_type": "code",
   "execution_count": 4,
   "metadata": {
    "collapsed": false
   },
   "outputs": [],
   "source": [
    "sorting_order = list(zenumerate((100, 100)))\n",
    "sorting_order = np.array(sorting_order)"
   ]
  },
  {
   "cell_type": "code",
   "execution_count": 5,
   "metadata": {
    "collapsed": false
   },
   "outputs": [
    {
     "data": {
      "text/plain": [
       "array([[ 0,  0],\n",
       "       [ 1,  0],\n",
       "       [ 0,  1],\n",
       "       ..., \n",
       "       [99, 98],\n",
       "       [98, 99],\n",
       "       [99, 99]])"
      ]
     },
     "execution_count": 5,
     "metadata": {},
     "output_type": "execute_result"
    }
   ],
   "source": [
    "sorting_order"
   ]
  },
  {
   "cell_type": "code",
   "execution_count": 6,
   "metadata": {
    "collapsed": false
   },
   "outputs": [],
   "source": [
    "index_array = np.arange(100*100)\n",
    "index_matrix = index_array.reshape((100, 100))\n",
    "ordered_index_matrix = index_matrix.copy()"
   ]
  },
  {
   "cell_type": "code",
   "execution_count": 7,
   "metadata": {
    "collapsed": false
   },
   "outputs": [],
   "source": [
    "zorder(ordered_index_matrix)"
   ]
  },
  {
   "cell_type": "code",
   "execution_count": 8,
   "metadata": {
    "collapsed": false
   },
   "outputs": [
    {
     "data": {
      "text/plain": [
       "array([[   0,    1,    2, ...,   97,   98,   99],\n",
       "       [ 100,  101,  102, ...,  197,  198,  199],\n",
       "       [ 200,  201,  202, ...,  297,  298,  299],\n",
       "       ..., \n",
       "       [9700, 9701, 9702, ..., 9797, 9798, 9799],\n",
       "       [9800, 9801, 9802, ..., 9897, 9898, 9899],\n",
       "       [9900, 9901, 9902, ..., 9997, 9998, 9999]])"
      ]
     },
     "execution_count": 8,
     "metadata": {},
     "output_type": "execute_result"
    }
   ],
   "source": [
    "index_matrix"
   ]
  },
  {
   "cell_type": "code",
   "execution_count": 9,
   "metadata": {
    "collapsed": false
   },
   "outputs": [
    {
     "data": {
      "text/plain": [
       "array([[   0,    2,    8, ..., 8450, 8456, 8458],\n",
       "       [   1,    3,    9, ..., 8451, 8457, 8459],\n",
       "       [   4,    6,   12, ..., 8454, 8460, 8462],\n",
       "       ..., \n",
       "       [5121, 5123, 5129, ..., 9987, 9993, 9995],\n",
       "       [5124, 5126, 5132, ..., 9990, 9996, 9998],\n",
       "       [5125, 5127, 5133, ..., 9991, 9997, 9999]])"
      ]
     },
     "execution_count": 9,
     "metadata": {},
     "output_type": "execute_result"
    }
   ],
   "source": [
    "ordered_index_matrix"
   ]
  },
  {
   "cell_type": "markdown",
   "metadata": {},
   "source": [
    "Ok that works fine."
   ]
  },
  {
   "cell_type": "code",
   "execution_count": 10,
   "metadata": {
    "collapsed": true
   },
   "outputs": [],
   "source": [
    "correct_list = ordered_index_matrix.ravel()"
   ]
  },
  {
   "cell_type": "code",
   "execution_count": 11,
   "metadata": {
    "collapsed": true
   },
   "outputs": [],
   "source": [
    "grid_size = 100\n",
    "num_balls = 800"
   ]
  },
  {
   "cell_type": "code",
   "execution_count": 12,
   "metadata": {
    "collapsed": true
   },
   "outputs": [],
   "source": [
    "positions_in_grid = np.random.randint(0, grid_size, (num_balls, 2))\n",
    "grid = -1*np.ones((grid_size, grid_size), dtype=np.int)\n",
    "grid[positions_in_grid[:, 0], positions_in_grid[:, 1]] = np.arange(num_balls)"
   ]
  },
  {
   "cell_type": "code",
   "execution_count": 13,
   "metadata": {
    "collapsed": false
   },
   "outputs": [
    {
     "data": {
      "text/plain": [
       "array([[11, 88],\n",
       "       [88, 79],\n",
       "       [33, 40],\n",
       "       ..., \n",
       "       [ 5, 91],\n",
       "       [27, 59],\n",
       "       [35,  4]])"
      ]
     },
     "execution_count": 13,
     "metadata": {},
     "output_type": "execute_result"
    }
   ],
   "source": [
    "positions_in_grid"
   ]
  },
  {
   "cell_type": "code",
   "execution_count": 14,
   "metadata": {
    "collapsed": false
   },
   "outputs": [
    {
     "data": {
      "text/plain": [
       "array([[ -1,  -1,  -1, ...,  -1,  -1, 658],\n",
       "       [ -1,  -1,  -1, ...,  -1,  -1,  -1],\n",
       "       [ -1,  -1,  -1, ...,  -1,  -1,  -1],\n",
       "       ..., \n",
       "       [ -1,  -1, 776, ...,  -1,  -1,  -1],\n",
       "       [ -1,  -1,  -1, ...,  -1,  -1,  -1],\n",
       "       [ -1,  -1,  -1, ...,  -1,  -1,  -1]])"
      ]
     },
     "execution_count": 14,
     "metadata": {},
     "output_type": "execute_result"
    }
   ],
   "source": [
    "grid"
   ]
  },
  {
   "cell_type": "markdown",
   "metadata": {},
   "source": [
    "We need to convert the positions in the grid to a logical index."
   ]
  },
  {
   "cell_type": "code",
   "execution_count": 15,
   "metadata": {
    "collapsed": true
   },
   "outputs": [],
   "source": [
    "logical_positions = grid_size * positions_in_grid[:, 0] + positions_in_grid[:, 1]"
   ]
  },
  {
   "cell_type": "markdown",
   "metadata": {},
   "source": [
    "We now get the order they are supposed to have."
   ]
  },
  {
   "cell_type": "code",
   "execution_count": 19,
   "metadata": {
    "collapsed": false
   },
   "outputs": [],
   "source": [
    "order_fixer = np.argsort(correct_list[logical_positions])"
   ]
  },
  {
   "cell_type": "code",
   "execution_count": 23,
   "metadata": {
    "collapsed": false
   },
   "outputs": [
    {
     "data": {
      "text/plain": [
       "array([441, 298, 196, 261, 487, 252,  64, 736, 400, 579, 470, 433, 497,\n",
       "       792, 310, 272, 300, 739,  27, 661, 575, 462, 275, 194,  82, 604,\n",
       "       618, 761, 329, 237, 383, 721, 506, 362, 465, 527, 373, 691, 455,\n",
       "       204,  58, 123, 639, 380, 785, 612, 203, 687, 685, 381, 231, 420,\n",
       "       562, 303, 759, 313, 202, 153,  70, 675, 557, 635, 556, 288, 616,\n",
       "       468, 352, 192, 495, 643, 396, 243, 200, 490, 367, 302, 648, 104,\n",
       "       105, 366, 799,  36, 138, 645,  46,  16, 269, 394, 419, 154, 413,\n",
       "       316, 244, 369, 238, 543,  31, 128, 199, 390, 403, 703, 332,  23,\n",
       "        53, 360, 322, 597, 587, 334, 432, 569, 598, 532, 190, 720, 299,\n",
       "       728, 515,  59, 489, 114, 748, 296, 521, 351, 382, 258,  85, 700,\n",
       "       277, 447,  67, 765, 417, 735,  49, 502,  14, 291, 488,  94, 181,\n",
       "       131,   5, 119, 328, 763, 358, 671, 492, 276, 260, 376, 169, 621,\n",
       "       132, 777, 346, 216, 229,  33, 582, 209, 714,  93, 449, 133, 210,\n",
       "       171, 529, 771, 555, 586, 404, 227, 336, 581, 422, 577, 764, 737,\n",
       "       341, 644, 679, 702, 548, 197, 384, 324, 179, 160, 180,  43, 317,\n",
       "       309,  57, 634, 116, 625, 406,  87, 471, 788, 162, 398, 126, 363,\n",
       "       756, 565, 263, 430, 507, 282, 134, 654, 747,  88, 576, 592, 588,\n",
       "       201, 143, 798, 768, 651, 711, 669, 312, 512, 505, 442, 139,   2,\n",
       "        71, 665, 617, 724,  56, 450,  38, 137, 503, 129, 550, 268,   7,\n",
       "       255, 399, 518, 173, 110, 467,   4, 538, 279, 188, 337, 745, 746,\n",
       "       338, 437, 107,  74, 330, 624, 320, 491,  39,  30,  13, 664, 331,\n",
       "         6, 207, 537, 708, 347, 681, 374,  78, 561, 175, 546, 494, 262,\n",
       "       791, 513, 356, 733, 553, 124, 637, 372, 388, 228,  44,  22,  86,\n",
       "       784, 727,  80, 174, 112, 163, 217, 230, 226, 220, 214, 743, 476,\n",
       "       533,  90,  41, 568, 528, 350, 755, 295, 683, 428, 541, 259, 307,\n",
       "        68, 667, 223, 705, 246, 127, 290, 236, 773, 734, 511, 240,  21,\n",
       "       663, 256, 178, 343, 463, 623, 738, 344, 754, 327, 689, 602, 580,\n",
       "        89, 242, 407, 551, 187, 247, 744, 766,  96,  95, 772, 415, 620,\n",
       "       725, 205, 482,  45, 510, 478, 499, 578, 564, 453,  54, 701, 469,\n",
       "       304,  77, 486, 348, 377, 361, 459, 520,  19, 414, 461, 249, 779,\n",
       "       776, 751,  40, 609, 340, 397,  47, 292, 481,  51,  60, 378, 283,\n",
       "       660, 560, 147,   3,  76, 668, 631,  69,  99, 750, 706, 657, 167,\n",
       "       786, 158,  55, 280, 767, 662, 774, 726, 697, 483, 113, 218, 375,\n",
       "       457, 118, 719, 704, 500, 790,  48, 458, 554, 531, 605, 539, 177,\n",
       "       184,  34, 559, 416, 519, 149, 572, 584, 611, 339, 682, 775, 305,\n",
       "       678, 484, 198, 480, 136, 699, 102, 271, 146,  84, 474, 176, 677,\n",
       "       722, 439, 594, 245, 319, 418, 549, 684, 600,   8, 448, 610, 285,\n",
       "       308, 345, 392,  35, 794, 297, 311, 424, 781, 389,  50, 183, 365,\n",
       "       431, 479, 795, 567, 571, 752, 653, 770, 145, 526, 315, 355, 157,\n",
       "       769, 195, 493,  61, 141, 622,  10, 607, 464, 530, 150, 574,  12,\n",
       "       544,  83, 364, 429, 716,  72, 185,  79, 614, 573, 248, 718, 713,\n",
       "       211,  25, 517, 778, 475, 391, 379, 742, 632, 168, 172, 599, 603,\n",
       "       655, 615, 797, 115, 225,   9,   0, 314, 566, 570, 333, 186, 293,\n",
       "       686, 215,  66, 140, 108, 454, 401, 286, 522, 440, 649, 156, 525,\n",
       "       534, 672, 208, 749, 165, 234, 166, 629, 103, 212, 393, 101, 558,\n",
       "       688, 106, 542, 435, 323, 473,  37, 535, 444, 460, 451, 301, 710,\n",
       "       191,  17, 423,  65, 636, 409, 596, 642, 368, 206, 590, 408, 264,\n",
       "       117, 627, 257, 182, 477, 164, 472, 267,  18, 619, 601, 148, 589,\n",
       "        73, 122,  92, 353, 504, 265, 783,  62, 130, 235, 652, 239, 753,\n",
       "       698, 712, 641, 707, 659, 325, 498, 536, 757, 151, 446, 670, 253,\n",
       "       780, 545, 731, 762, 656, 161, 270, 443, 342,  98, 274, 694, 732,\n",
       "       427, 436, 595, 514, 233, 266, 666, 658,  26,  91,  42, 729, 787,\n",
       "       695, 591, 715, 692, 120, 563, 121,  24, 278, 496, 758, 357, 508,\n",
       "       456, 760, 144, 693, 421,  29, 193, 674, 251, 717, 640,  28, 370,\n",
       "       524,  11, 294, 782, 273, 690, 730, 501, 796, 647, 241, 354, 741,\n",
       "       583, 213, 222, 159, 673, 552, 626, 696, 540, 509,  75, 434, 335,\n",
       "       680, 359, 650, 109, 638,   1, 254, 224, 152, 155, 410, 485, 633,\n",
       "       425, 438, 395, 516, 284, 142, 371, 250, 411, 287, 100, 289, 221,\n",
       "       170, 306,  15, 318, 219, 740, 326, 793,  81, 445, 608, 232, 111,\n",
       "       385, 466, 386, 628, 593, 547, 402, 426, 412,  52, 135,  32, 189,\n",
       "       523, 630, 125, 387, 676, 709, 405,  63, 723, 789,  97, 281, 613,\n",
       "       606, 321, 646, 452, 349, 585,  20])"
      ]
     },
     "execution_count": 23,
     "metadata": {},
     "output_type": "execute_result"
    }
   ],
   "source": [
    "order_fixer"
   ]
  },
  {
   "cell_type": "code",
   "execution_count": 22,
   "metadata": {
    "collapsed": false
   },
   "outputs": [
    {
     "data": {
      "text/plain": [
       "array([[ 7,  0],\n",
       "       [ 5,  2],\n",
       "       [ 7,  3],\n",
       "       ..., \n",
       "       [89, 98],\n",
       "       [93, 98],\n",
       "       [97, 96]])"
      ]
     },
     "execution_count": 22,
     "metadata": {},
     "output_type": "execute_result"
    }
   ],
   "source": [
    "positions_in_grid[order_fixer]"
   ]
  },
  {
   "cell_type": "markdown",
   "metadata": {},
   "source": [
    "Yes that's it . Cool. Got it."
   ]
  },
  {
   "cell_type": "markdown",
   "metadata": {},
   "source": [
    "How do we update the grid now, however? I'm still confused about that."
   ]
  },
  {
   "cell_type": "code",
   "execution_count": 30,
   "metadata": {
    "collapsed": false
   },
   "outputs": [
    {
     "ename": "ValueError",
     "evalue": "Cross index must be 1 dimensional",
     "output_type": "error",
     "traceback": [
      "\u001b[1;31m---------------------------------------------------------------------------\u001b[0m",
      "\u001b[1;31mValueError\u001b[0m                                Traceback (most recent call last)",
      "\u001b[1;32m<ipython-input-30-6d15465afcb1>\u001b[0m in \u001b[0;36m<module>\u001b[1;34m()\u001b[0m\n\u001b[1;32m----> 1\u001b[1;33m \u001b[0mnp\u001b[0m\u001b[1;33m.\u001b[0m\u001b[0mix_\u001b[0m\u001b[1;33m(\u001b[0m\u001b[0mpositions_in_grid\u001b[0m\u001b[1;33m,\u001b[0m \u001b[1;36m10\u001b[0m\u001b[1;33m)\u001b[0m\u001b[1;33m\u001b[0m\u001b[0m\n\u001b[0m",
      "\u001b[1;32m/home/bryan/anaconda/lib/python2.7/site-packages/numpy/lib/index_tricks.pyc\u001b[0m in \u001b[0;36mix_\u001b[1;34m(*args)\u001b[0m\n\u001b[0;32m     75\u001b[0m         \u001b[0mnew\u001b[0m \u001b[1;33m=\u001b[0m \u001b[0masarray\u001b[0m\u001b[1;33m(\u001b[0m\u001b[0mnew\u001b[0m\u001b[1;33m)\u001b[0m\u001b[1;33m\u001b[0m\u001b[0m\n\u001b[0;32m     76\u001b[0m         \u001b[1;32mif\u001b[0m \u001b[0mnew\u001b[0m\u001b[1;33m.\u001b[0m\u001b[0mndim\u001b[0m \u001b[1;33m!=\u001b[0m \u001b[1;36m1\u001b[0m\u001b[1;33m:\u001b[0m\u001b[1;33m\u001b[0m\u001b[0m\n\u001b[1;32m---> 77\u001b[1;33m             \u001b[1;32mraise\u001b[0m \u001b[0mValueError\u001b[0m\u001b[1;33m(\u001b[0m\u001b[1;34m\"Cross index must be 1 dimensional\"\u001b[0m\u001b[1;33m)\u001b[0m\u001b[1;33m\u001b[0m\u001b[0m\n\u001b[0m\u001b[0;32m     78\u001b[0m         \u001b[1;32mif\u001b[0m \u001b[0mnew\u001b[0m\u001b[1;33m.\u001b[0m\u001b[0msize\u001b[0m \u001b[1;33m==\u001b[0m \u001b[1;36m0\u001b[0m\u001b[1;33m:\u001b[0m\u001b[1;33m\u001b[0m\u001b[0m\n\u001b[0;32m     79\u001b[0m             \u001b[1;31m# Explicitly type empty arrays to avoid float default\u001b[0m\u001b[1;33m\u001b[0m\u001b[1;33m\u001b[0m\u001b[0m\n",
      "\u001b[1;31mValueError\u001b[0m: Cross index must be 1 dimensional"
     ]
    }
   ],
   "source": [
    "np.ix_(positions_in_grid, 160)"
   ]
  },
  {
   "cell_type": "code",
   "execution_count": 32,
   "metadata": {
    "collapsed": true
   },
   "outputs": [],
   "source": [
    "blerp = np.arange(grid_size*grid_size)"
   ]
  },
  {
   "cell_type": "code",
   "execution_count": 33,
   "metadata": {
    "collapsed": false
   },
   "outputs": [
    {
     "data": {
      "text/plain": [
       "array([[   0,    1,    2, ...,   97,   98,   99],\n",
       "       [ 100,  101,  102, ...,  197,  198,  199],\n",
       "       [ 200,  201,  202, ...,  297,  298,  299],\n",
       "       ..., \n",
       "       [9700, 9701, 9702, ..., 9797, 9798, 9799],\n",
       "       [9800, 9801, 9802, ..., 9897, 9898, 9899],\n",
       "       [9900, 9901, 9902, ..., 9997, 9998, 9999]])"
      ]
     },
     "execution_count": 33,
     "metadata": {},
     "output_type": "execute_result"
    }
   ],
   "source": [
    "blerp.reshape((grid_size, grid_size))"
   ]
  },
  {
   "cell_type": "code",
   "execution_count": 38,
   "metadata": {
    "collapsed": true
   },
   "outputs": [],
   "source": [
    "blerp = 3\n",
    "arr = np.arange(blerp*blerp)\n",
    "mat = arr.reshape((blerp, blerp))"
   ]
  },
  {
   "cell_type": "code",
   "execution_count": 39,
   "metadata": {
    "collapsed": false
   },
   "outputs": [
    {
     "data": {
      "text/plain": [
       "array([[0, 1, 2],\n",
       "       [3, 4, 5],\n",
       "       [6, 7, 8]])"
      ]
     },
     "execution_count": 39,
     "metadata": {},
     "output_type": "execute_result"
    }
   ],
   "source": [
    "mat"
   ]
  },
  {
   "cell_type": "code",
   "execution_count": 40,
   "metadata": {
    "collapsed": true
   },
   "outputs": [],
   "source": [
    "zorder(mat)"
   ]
  },
  {
   "cell_type": "code",
   "execution_count": 41,
   "metadata": {
    "collapsed": false
   },
   "outputs": [
    {
     "data": {
      "text/plain": [
       "array([[0, 2, 6],\n",
       "       [1, 3, 7],\n",
       "       [4, 5, 8]])"
      ]
     },
     "execution_count": 41,
     "metadata": {},
     "output_type": "execute_result"
    }
   ],
   "source": [
    "mat"
   ]
  },
  {
   "cell_type": "code",
   "execution_count": null,
   "metadata": {
    "collapsed": true
   },
   "outputs": [],
   "source": []
  }
 ],
 "metadata": {
  "kernelspec": {
   "display_name": "Python 2",
   "language": "python",
   "name": "python2"
  },
  "language_info": {
   "codemirror_mode": {
    "name": "ipython",
    "version": 2
   },
   "file_extension": ".py",
   "mimetype": "text/x-python",
   "name": "python",
   "nbconvert_exporter": "python",
   "pygments_lexer": "ipython2",
   "version": "2.7.10"
  }
 },
 "nbformat": 4,
 "nbformat_minor": 0
}
