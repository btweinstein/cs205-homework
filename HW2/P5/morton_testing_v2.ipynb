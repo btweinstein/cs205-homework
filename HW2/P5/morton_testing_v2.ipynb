{
 "cells": [
  {
   "cell_type": "code",
   "execution_count": 1,
   "metadata": {
    "collapsed": false
   },
   "outputs": [
    {
     "name": "stdout",
     "output_type": "stream",
     "text": [
      "Populating the interactive namespace from numpy and matplotlib\n"
     ]
    }
   ],
   "source": [
    "%pylab inline"
   ]
  },
  {
   "cell_type": "code",
   "execution_count": null,
   "metadata": {
    "collapsed": true
   },
   "outputs": [],
   "source": []
  },
  {
   "cell_type": "code",
   "execution_count": 3,
   "metadata": {
    "collapsed": false
   },
   "outputs": [],
   "source": [
    "random_mat = np.random.randint(-1, 10, (100, 100))"
   ]
  },
  {
   "cell_type": "code",
   "execution_count": 4,
   "metadata": {
    "collapsed": false
   },
   "outputs": [],
   "source": [
    "sorting_order = list(zenumerate((100, 100)))\n",
    "sorting_order = np.array(sorting_order)"
   ]
  },
  {
   "cell_type": "code",
   "execution_count": 5,
   "metadata": {
    "collapsed": false
   },
   "outputs": [
    {
     "data": {
      "text/plain": [
       "array([[ 0,  0],\n",
       "       [ 1,  0],\n",
       "       [ 0,  1],\n",
       "       ..., \n",
       "       [99, 98],\n",
       "       [98, 99],\n",
       "       [99, 99]])"
      ]
     },
     "execution_count": 5,
     "metadata": {},
     "output_type": "execute_result"
    }
   ],
   "source": [
    "sorting_order"
   ]
  },
  {
   "cell_type": "code",
   "execution_count": 6,
   "metadata": {
    "collapsed": false
   },
   "outputs": [],
   "source": [
    "index_array = np.arange(100*100)\n",
    "index_matrix = index_array.reshape((100, 100))\n",
    "ordered_index_matrix = index_matrix.copy()"
   ]
  },
  {
   "cell_type": "code",
   "execution_count": 7,
   "metadata": {
    "collapsed": false
   },
   "outputs": [],
   "source": [
    "zorder(ordered_index_matrix)"
   ]
  },
  {
   "cell_type": "code",
   "execution_count": 8,
   "metadata": {
    "collapsed": false
   },
   "outputs": [
    {
     "data": {
      "text/plain": [
       "array([[   0,    1,    2, ...,   97,   98,   99],\n",
       "       [ 100,  101,  102, ...,  197,  198,  199],\n",
       "       [ 200,  201,  202, ...,  297,  298,  299],\n",
       "       ..., \n",
       "       [9700, 9701, 9702, ..., 9797, 9798, 9799],\n",
       "       [9800, 9801, 9802, ..., 9897, 9898, 9899],\n",
       "       [9900, 9901, 9902, ..., 9997, 9998, 9999]])"
      ]
     },
     "execution_count": 8,
     "metadata": {},
     "output_type": "execute_result"
    }
   ],
   "source": [
    "index_matrix"
   ]
  },
  {
   "cell_type": "code",
   "execution_count": 9,
   "metadata": {
    "collapsed": false
   },
   "outputs": [
    {
     "data": {
      "text/plain": [
       "array([[   0,    2,    8, ..., 8450, 8456, 8458],\n",
       "       [   1,    3,    9, ..., 8451, 8457, 8459],\n",
       "       [   4,    6,   12, ..., 8454, 8460, 8462],\n",
       "       ..., \n",
       "       [5121, 5123, 5129, ..., 9987, 9993, 9995],\n",
       "       [5124, 5126, 5132, ..., 9990, 9996, 9998],\n",
       "       [5125, 5127, 5133, ..., 9991, 9997, 9999]])"
      ]
     },
     "execution_count": 9,
     "metadata": {},
     "output_type": "execute_result"
    }
   ],
   "source": [
    "ordered_index_matrix"
   ]
  },
  {
   "cell_type": "markdown",
   "metadata": {},
   "source": [
    "Ok that works fine."
   ]
  },
  {
   "cell_type": "code",
   "execution_count": 10,
   "metadata": {
    "collapsed": true
   },
   "outputs": [],
   "source": [
    "correct_list = ordered_index_matrix.ravel()"
   ]
  },
  {
   "cell_type": "code",
   "execution_count": 11,
   "metadata": {
    "collapsed": true
   },
   "outputs": [],
   "source": [
    "grid_size = 100\n",
    "num_balls = 800"
   ]
  },
  {
   "cell_type": "code",
   "execution_count": 12,
   "metadata": {
    "collapsed": true
   },
   "outputs": [],
   "source": [
    "positions_in_grid = np.random.randint(0, grid_size, (num_balls, 2))\n",
    "grid = -1*np.ones((grid_size, grid_size), dtype=np.int)\n",
    "grid[positions_in_grid[:, 0], positions_in_grid[:, 1]] = np.arange(num_balls)"
   ]
  },
  {
   "cell_type": "code",
   "execution_count": 13,
   "metadata": {
    "collapsed": false
   },
   "outputs": [
    {
     "data": {
      "text/plain": [
       "array([[11, 88],\n",
       "       [88, 79],\n",
       "       [33, 40],\n",
       "       ..., \n",
       "       [ 5, 91],\n",
       "       [27, 59],\n",
       "       [35,  4]])"
      ]
     },
     "execution_count": 13,
     "metadata": {},
     "output_type": "execute_result"
    }
   ],
   "source": [
    "positions_in_grid"
   ]
  },
  {
   "cell_type": "code",
   "execution_count": 14,
   "metadata": {
    "collapsed": false
   },
   "outputs": [
    {
     "data": {
      "text/plain": [
       "array([[ -1,  -1,  -1, ...,  -1,  -1, 658],\n",
       "       [ -1,  -1,  -1, ...,  -1,  -1,  -1],\n",
       "       [ -1,  -1,  -1, ...,  -1,  -1,  -1],\n",
       "       ..., \n",
       "       [ -1,  -1, 776, ...,  -1,  -1,  -1],\n",
       "       [ -1,  -1,  -1, ...,  -1,  -1,  -1],\n",
       "       [ -1,  -1,  -1, ...,  -1,  -1,  -1]])"
      ]
     },
     "execution_count": 14,
     "metadata": {},
     "output_type": "execute_result"
    }
   ],
   "source": [
    "grid"
   ]
  },
  {
   "cell_type": "markdown",
   "metadata": {},
   "source": [
    "We need to convert the positions in the grid to a logical index."
   ]
  },
  {
   "cell_type": "code",
   "execution_count": 15,
   "metadata": {
    "collapsed": true
   },
   "outputs": [],
   "source": [
    "logical_positions = grid_size * positions_in_grid[:, 0] + positions_in_grid[:, 1]"
   ]
  },
  {
   "cell_type": "markdown",
   "metadata": {},
   "source": [
    "We now get the order they are supposed to have."
   ]
  },
  {
   "cell_type": "code",
   "execution_count": 19,
   "metadata": {
    "collapsed": false
   },
   "outputs": [],
   "source": [
    "order_fixer = np.argsort(correct_list[logical_positions])"
   ]
  },
  {
   "cell_type": "code",
   "execution_count": 23,
   "metadata": {
    "collapsed": false
   },
   "outputs": [
    {
     "data": {
      "text/plain": [
       "array([441, 298, 196, 261, 487, 252,  64, 736, 400, 579, 470, 433, 497,\n",
       "       792, 310, 272, 300, 739,  27, 661, 575, 462, 275, 194,  82, 604,\n",
       "       618, 761, 329, 237, 383, 721, 506, 362, 465, 527, 373, 691, 455,\n",
       "       204,  58, 123, 639, 380, 785, 612, 203, 687, 685, 381, 231, 420,\n",
       "       562, 303, 759, 313, 202, 153,  70, 675, 557, 635, 556, 288, 616,\n",
       "       468, 352, 192, 495, 643, 396, 243, 200, 490, 367, 302, 648, 104,\n",
       "       105, 366, 799,  36, 138, 645,  46,  16, 269, 394, 419, 154, 413,\n",
       "       316, 244, 369, 238, 543,  31, 128, 199, 390, 403, 703, 332,  23,\n",
       "        53, 360, 322, 597, 587, 334, 432, 569, 598, 532, 190, 720, 299,\n",
       "       728, 515,  59, 489, 114, 748, 296, 521, 351, 382, 258,  85, 700,\n",
       "       277, 447,  67, 765, 417, 735,  49, 502,  14, 291, 488,  94, 181,\n",
       "       131,   5, 119, 328, 763, 358, 671, 492, 276, 260, 376, 169, 621,\n",
       "       132, 777, 346, 216, 229,  33, 582, 209, 714,  93, 449, 133, 210,\n",
       "       171, 529, 771, 555, 586, 404, 227, 336, 581, 422, 577, 764, 737,\n",
       "       341, 644, 679, 702, 548, 197, 384, 324, 179, 160, 180,  43, 317,\n",
       "       309,  57, 634, 116, 625, 406,  87, 471, 788, 162, 398, 126, 363,\n",
       "       756, 565, 263, 430, 507, 282, 134, 654, 747,  88, 576, 592, 588,\n",
       "       201, 143, 798, 768, 651, 711, 669, 312, 512, 505, 442, 139,   2,\n",
       "        71, 665, 617, 724,  56, 450,  38, 137, 503, 129, 550, 268,   7,\n",
       "       255, 399, 518, 173, 110, 467,   4, 538, 279, 188, 337, 745, 746,\n",
       "       338, 437, 107,  74, 330, 624, 320, 491,  39,  30,  13, 664, 331,\n",
       "         6, 207, 537, 708, 347, 681, 374,  78, 561, 175, 546, 494, 262,\n",
       "       791, 513, 356, 733, 553, 124, 637, 372, 388, 228,  44,  22,  86,\n",
       "       784, 727,  80, 174, 112, 163, 217, 230, 226, 220, 214, 743, 476,\n",
       "       533,  90,  41, 568, 528, 350, 755, 295, 683, 428, 541, 259, 307,\n",
       "        68, 667, 223, 705, 246, 127, 290, 236, 773, 734, 511, 240,  21,\n",
       "       663, 256, 178, 343, 463, 623, 738, 344, 754, 327, 689, 602, 580,\n",
       "        89, 242, 407, 551, 187, 247, 744, 766,  96,  95, 772, 415, 620,\n",
       "       725, 205, 482,  45, 510, 478, 499, 578, 564, 453,  54, 701, 469,\n",
       "       304,  77, 486, 348, 377, 361, 459, 520,  19, 414, 461, 249, 779,\n",
       "       776, 751,  40, 609, 340, 397,  47, 292, 481,  51,  60, 378, 283,\n",
       "       660, 560, 147,   3,  76, 668, 631,  69,  99, 750, 706, 657, 167,\n",
       "       786, 158,  55, 280, 767, 662, 774, 726, 697, 483, 113, 218, 375,\n",
       "       457, 118, 719, 704, 500, 790,  48, 458, 554, 531, 605, 539, 177,\n",
       "       184,  34, 559, 416, 519, 149, 572, 584, 611, 339, 682, 775, 305,\n",
       "       678, 484, 198, 480, 136, 699, 102, 271, 146,  84, 474, 176, 677,\n",
       "       722, 439, 594, 245, 319, 418, 549, 684, 600,   8, 448, 610, 285,\n",
       "       308, 345, 392,  35, 794, 297, 311, 424, 781, 389,  50, 183, 365,\n",
       "       431, 479, 795, 567, 571, 752, 653, 770, 145, 526, 315, 355, 157,\n",
       "       769, 195, 493,  61, 141, 622,  10, 607, 464, 530, 150, 574,  12,\n",
       "       544,  83, 364, 429, 716,  72, 185,  79, 614, 573, 248, 718, 713,\n",
       "       211,  25, 517, 778, 475, 391, 379, 742, 632, 168, 172, 599, 603,\n",
       "       655, 615, 797, 115, 225,   9,   0, 314, 566, 570, 333, 186, 293,\n",
       "       686, 215,  66, 140, 108, 454, 401, 286, 522, 440, 649, 156, 525,\n",
       "       534, 672, 208, 749, 165, 234, 166, 629, 103, 212, 393, 101, 558,\n",
       "       688, 106, 542, 435, 323, 473,  37, 535, 444, 460, 451, 301, 710,\n",
       "       191,  17, 423,  65, 636, 409, 596, 642, 368, 206, 590, 408, 264,\n",
       "       117, 627, 257, 182, 477, 164, 472, 267,  18, 619, 601, 148, 589,\n",
       "        73, 122,  92, 353, 504, 265, 783,  62, 130, 235, 652, 239, 753,\n",
       "       698, 712, 641, 707, 659, 325, 498, 536, 757, 151, 446, 670, 253,\n",
       "       780, 545, 731, 762, 656, 161, 270, 443, 342,  98, 274, 694, 732,\n",
       "       427, 436, 595, 514, 233, 266, 666, 658,  26,  91,  42, 729, 787,\n",
       "       695, 591, 715, 692, 120, 563, 121,  24, 278, 496, 758, 357, 508,\n",
       "       456, 760, 144, 693, 421,  29, 193, 674, 251, 717, 640,  28, 370,\n",
       "       524,  11, 294, 782, 273, 690, 730, 501, 796, 647, 241, 354, 741,\n",
       "       583, 213, 222, 159, 673, 552, 626, 696, 540, 509,  75, 434, 335,\n",
       "       680, 359, 650, 109, 638,   1, 254, 224, 152, 155, 410, 485, 633,\n",
       "       425, 438, 395, 516, 284, 142, 371, 250, 411, 287, 100, 289, 221,\n",
       "       170, 306,  15, 318, 219, 740, 326, 793,  81, 445, 608, 232, 111,\n",
       "       385, 466, 386, 628, 593, 547, 402, 426, 412,  52, 135,  32, 189,\n",
       "       523, 630, 125, 387, 676, 709, 405,  63, 723, 789,  97, 281, 613,\n",
       "       606, 321, 646, 452, 349, 585,  20])"
      ]
     },
     "execution_count": 23,
     "metadata": {},
     "output_type": "execute_result"
    }
   ],
   "source": [
    "order_fixer"
   ]
  },
  {
   "cell_type": "code",
   "execution_count": 22,
   "metadata": {
    "collapsed": false
   },
   "outputs": [
    {
     "data": {
      "text/plain": [
       "array([[ 7,  0],\n",
       "       [ 5,  2],\n",
       "       [ 7,  3],\n",
       "       ..., \n",
       "       [89, 98],\n",
       "       [93, 98],\n",
       "       [97, 96]])"
      ]
     },
     "execution_count": 22,
     "metadata": {},
     "output_type": "execute_result"
    }
   ],
   "source": [
    "positions_in_grid[order_fixer]"
   ]
  },
  {
   "cell_type": "markdown",
   "metadata": {},
   "source": [
    "Yes that's it . Cool. Got it."
   ]
  },
  {
   "cell_type": "markdown",
   "metadata": {},
   "source": [
    "How do we update the grid now, however? I'm still confused about that."
   ]
  },
  {
   "cell_type": "code",
   "execution_count": 30,
   "metadata": {
    "collapsed": false
   },
   "outputs": [
    {
     "ename": "ValueError",
     "evalue": "Cross index must be 1 dimensional",
     "output_type": "error",
     "traceback": [
      "\u001b[1;31m---------------------------------------------------------------------------\u001b[0m",
      "\u001b[1;31mValueError\u001b[0m                                Traceback (most recent call last)",
      "\u001b[1;32m<ipython-input-30-6d15465afcb1>\u001b[0m in \u001b[0;36m<module>\u001b[1;34m()\u001b[0m\n\u001b[1;32m----> 1\u001b[1;33m \u001b[0mnp\u001b[0m\u001b[1;33m.\u001b[0m\u001b[0mix_\u001b[0m\u001b[1;33m(\u001b[0m\u001b[0mpositions_in_grid\u001b[0m\u001b[1;33m,\u001b[0m \u001b[1;36m10\u001b[0m\u001b[1;33m)\u001b[0m\u001b[1;33m\u001b[0m\u001b[0m\n\u001b[0m",
      "\u001b[1;32m/home/bryan/anaconda/lib/python2.7/site-packages/numpy/lib/index_tricks.pyc\u001b[0m in \u001b[0;36mix_\u001b[1;34m(*args)\u001b[0m\n\u001b[0;32m     75\u001b[0m         \u001b[0mnew\u001b[0m \u001b[1;33m=\u001b[0m \u001b[0masarray\u001b[0m\u001b[1;33m(\u001b[0m\u001b[0mnew\u001b[0m\u001b[1;33m)\u001b[0m\u001b[1;33m\u001b[0m\u001b[0m\n\u001b[0;32m     76\u001b[0m         \u001b[1;32mif\u001b[0m \u001b[0mnew\u001b[0m\u001b[1;33m.\u001b[0m\u001b[0mndim\u001b[0m \u001b[1;33m!=\u001b[0m \u001b[1;36m1\u001b[0m\u001b[1;33m:\u001b[0m\u001b[1;33m\u001b[0m\u001b[0m\n\u001b[1;32m---> 77\u001b[1;33m             \u001b[1;32mraise\u001b[0m \u001b[0mValueError\u001b[0m\u001b[1;33m(\u001b[0m\u001b[1;34m\"Cross index must be 1 dimensional\"\u001b[0m\u001b[1;33m)\u001b[0m\u001b[1;33m\u001b[0m\u001b[0m\n\u001b[0m\u001b[0;32m     78\u001b[0m         \u001b[1;32mif\u001b[0m \u001b[0mnew\u001b[0m\u001b[1;33m.\u001b[0m\u001b[0msize\u001b[0m \u001b[1;33m==\u001b[0m \u001b[1;36m0\u001b[0m\u001b[1;33m:\u001b[0m\u001b[1;33m\u001b[0m\u001b[0m\n\u001b[0;32m     79\u001b[0m             \u001b[1;31m# Explicitly type empty arrays to avoid float default\u001b[0m\u001b[1;33m\u001b[0m\u001b[1;33m\u001b[0m\u001b[0m\n",
      "\u001b[1;31mValueError\u001b[0m: Cross index must be 1 dimensional"
     ]
    }
   ],
   "source": [
    "np.ix_(positions_in_grid, 160)"
   ]
  },
  {
   "cell_type": "code",
   "execution_count": 32,
   "metadata": {
    "collapsed": true
   },
   "outputs": [],
   "source": [
    "blerp = np.arange(grid_size*grid_size)"
   ]
  },
  {
   "cell_type": "code",
   "execution_count": 33,
   "metadata": {
    "collapsed": false
   },
   "outputs": [
    {
     "data": {
      "text/plain": [
       "array([[   0,    1,    2, ...,   97,   98,   99],\n",
       "       [ 100,  101,  102, ...,  197,  198,  199],\n",
       "       [ 200,  201,  202, ...,  297,  298,  299],\n",
       "       ..., \n",
       "       [9700, 9701, 9702, ..., 9797, 9798, 9799],\n",
       "       [9800, 9801, 9802, ..., 9897, 9898, 9899],\n",
       "       [9900, 9901, 9902, ..., 9997, 9998, 9999]])"
      ]
     },
     "execution_count": 33,
     "metadata": {},
     "output_type": "execute_result"
    }
   ],
   "source": [
    "blerp.reshape((grid_size, grid_size))"
   ]
  },
  {
   "cell_type": "code",
   "execution_count": 38,
   "metadata": {
    "collapsed": true
   },
   "outputs": [],
   "source": [
    "blerp = 3\n",
    "arr = np.arange(blerp*blerp)\n",
    "mat = arr.reshape((blerp, blerp))"
   ]
  },
  {
   "cell_type": "code",
   "execution_count": 39,
   "metadata": {
    "collapsed": false
   },
   "outputs": [
    {
     "data": {
      "text/plain": [
       "array([[0, 1, 2],\n",
       "       [3, 4, 5],\n",
       "       [6, 7, 8]])"
      ]
     },
     "execution_count": 39,
     "metadata": {},
     "output_type": "execute_result"
    }
   ],
   "source": [
    "mat"
   ]
  },
  {
   "cell_type": "code",
   "execution_count": 40,
   "metadata": {
    "collapsed": true
   },
   "outputs": [],
   "source": [
    "zorder(mat)"
   ]
  },
  {
   "cell_type": "code",
   "execution_count": 41,
   "metadata": {
    "collapsed": false
   },
   "outputs": [
    {
     "data": {
      "text/plain": [
       "array([[0, 2, 6],\n",
       "       [1, 3, 7],\n",
       "       [4, 5, 8]])"
      ]
     },
     "execution_count": 41,
     "metadata": {},
     "output_type": "execute_result"
    }
   ],
   "source": [
    "mat"
   ]
  },
  {
   "cell_type": "code",
   "execution_count": null,
   "metadata": {
    "collapsed": true
   },
   "outputs": [],
   "source": []
  }
 ],
 "metadata": {
  "kernelspec": {
   "display_name": "Python 2",
   "language": "python",
   "name": "python2"
  },
  "language_info": {
   "codemirror_mode": {
    "name": "ipython",
    "version": 2
   },
   "file_extension": ".py",
   "mimetype": "text/x-python",
   "name": "python",
   "nbconvert_exporter": "python",
   "pygments_lexer": "ipython2",
   "version": "2.7.10"
  }
 },
 "nbformat": 4,
 "nbformat_minor": 0
}
